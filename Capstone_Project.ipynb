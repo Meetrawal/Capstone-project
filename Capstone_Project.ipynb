{
  "nbformat": 4,
  "nbformat_minor": 0,
  "metadata": {
    "colab": {
      "name": "Copy of Copy of caps_mac_pre.ipynb",
      "provenance": [],
      "collapsed_sections": [],
      "toc_visible": true
    },
    "kernelspec": {
      "name": "python3",
      "display_name": "Python 3"
    }
  },
  "cells": [
    {
      "cell_type": "code",
      "metadata": {
        "id": "tywC14pPi3v8"
      },
      "source": [
        "import pandas as pd\n",
        "import numpy as np \n",
        "import matplotlib.pyplot as plt\n",
        "import seaborn as sns"
      ],
      "execution_count": 2,
      "outputs": []
    },
    {
      "cell_type": "code",
      "metadata": {
        "id": "-JiaoRVVjG8x",
        "outputId": "d4295916-5cec-4b2c-9ae2-5dc8ac746f82",
        "colab": {
          "base_uri": "https://localhost:8080/"
        }
      },
      "source": [
        "from google.colab import drive\n",
        "\n",
        "drive.mount('/content/drive',force_remount=True)"
      ],
      "execution_count": 3,
      "outputs": [
        {
          "output_type": "stream",
          "text": [
            "Mounted at /content/drive\n"
          ],
          "name": "stdout"
        }
      ]
    },
    {
      "cell_type": "code",
      "metadata": {
        "id": "CM9MCLgTjUUI",
        "outputId": "e1628c25-a87a-4167-e597-b836671b3bcc",
        "colab": {
          "base_uri": "https://localhost:8080/"
        }
      },
      "source": [
        "data=pd.read_table(r'/content/drive/My Drive/XYZCorp_LendingData.txt')"
      ],
      "execution_count": 4,
      "outputs": [
        {
          "output_type": "stream",
          "text": [
            "/usr/local/lib/python3.6/dist-packages/IPython/core/interactiveshell.py:2822: DtypeWarning: Columns (17,45,53) have mixed types.Specify dtype option on import or set low_memory=False.\n",
            "  if self.run_code(code, result):\n"
          ],
          "name": "stderr"
        }
      ]
    },
    {
      "cell_type": "code",
      "metadata": {
        "id": "wR3wuJItjafe",
        "outputId": "20e32a50-2781-401b-e71c-3136109e3b11",
        "colab": {
          "base_uri": "https://localhost:8080/",
          "height": 652
        }
      },
      "source": [
        "data.head()"
      ],
      "execution_count": 5,
      "outputs": [
        {
          "output_type": "execute_result",
          "data": {
            "text/html": [
              "<div>\n",
              "<style scoped>\n",
              "    .dataframe tbody tr th:only-of-type {\n",
              "        vertical-align: middle;\n",
              "    }\n",
              "\n",
              "    .dataframe tbody tr th {\n",
              "        vertical-align: top;\n",
              "    }\n",
              "\n",
              "    .dataframe thead th {\n",
              "        text-align: right;\n",
              "    }\n",
              "</style>\n",
              "<table border=\"1\" class=\"dataframe\">\n",
              "  <thead>\n",
              "    <tr style=\"text-align: right;\">\n",
              "      <th></th>\n",
              "      <th>id</th>\n",
              "      <th>member_id</th>\n",
              "      <th>loan_amnt</th>\n",
              "      <th>funded_amnt</th>\n",
              "      <th>funded_amnt_inv</th>\n",
              "      <th>term</th>\n",
              "      <th>int_rate</th>\n",
              "      <th>installment</th>\n",
              "      <th>grade</th>\n",
              "      <th>sub_grade</th>\n",
              "      <th>emp_title</th>\n",
              "      <th>emp_length</th>\n",
              "      <th>home_ownership</th>\n",
              "      <th>annual_inc</th>\n",
              "      <th>verification_status</th>\n",
              "      <th>issue_d</th>\n",
              "      <th>pymnt_plan</th>\n",
              "      <th>desc</th>\n",
              "      <th>purpose</th>\n",
              "      <th>title</th>\n",
              "      <th>zip_code</th>\n",
              "      <th>addr_state</th>\n",
              "      <th>dti</th>\n",
              "      <th>delinq_2yrs</th>\n",
              "      <th>earliest_cr_line</th>\n",
              "      <th>inq_last_6mths</th>\n",
              "      <th>mths_since_last_delinq</th>\n",
              "      <th>mths_since_last_record</th>\n",
              "      <th>open_acc</th>\n",
              "      <th>pub_rec</th>\n",
              "      <th>revol_bal</th>\n",
              "      <th>revol_util</th>\n",
              "      <th>total_acc</th>\n",
              "      <th>initial_list_status</th>\n",
              "      <th>out_prncp</th>\n",
              "      <th>out_prncp_inv</th>\n",
              "      <th>total_pymnt</th>\n",
              "      <th>total_pymnt_inv</th>\n",
              "      <th>total_rec_prncp</th>\n",
              "      <th>total_rec_int</th>\n",
              "      <th>total_rec_late_fee</th>\n",
              "      <th>recoveries</th>\n",
              "      <th>collection_recovery_fee</th>\n",
              "      <th>last_pymnt_d</th>\n",
              "      <th>last_pymnt_amnt</th>\n",
              "      <th>next_pymnt_d</th>\n",
              "      <th>last_credit_pull_d</th>\n",
              "      <th>collections_12_mths_ex_med</th>\n",
              "      <th>mths_since_last_major_derog</th>\n",
              "      <th>policy_code</th>\n",
              "      <th>application_type</th>\n",
              "      <th>annual_inc_joint</th>\n",
              "      <th>dti_joint</th>\n",
              "      <th>verification_status_joint</th>\n",
              "      <th>acc_now_delinq</th>\n",
              "      <th>tot_coll_amt</th>\n",
              "      <th>tot_cur_bal</th>\n",
              "      <th>open_acc_6m</th>\n",
              "      <th>open_il_6m</th>\n",
              "      <th>open_il_12m</th>\n",
              "      <th>open_il_24m</th>\n",
              "      <th>mths_since_rcnt_il</th>\n",
              "      <th>total_bal_il</th>\n",
              "      <th>il_util</th>\n",
              "      <th>open_rv_12m</th>\n",
              "      <th>open_rv_24m</th>\n",
              "      <th>max_bal_bc</th>\n",
              "      <th>all_util</th>\n",
              "      <th>total_rev_hi_lim</th>\n",
              "      <th>inq_fi</th>\n",
              "      <th>total_cu_tl</th>\n",
              "      <th>inq_last_12m</th>\n",
              "      <th>default_ind</th>\n",
              "    </tr>\n",
              "  </thead>\n",
              "  <tbody>\n",
              "    <tr>\n",
              "      <th>0</th>\n",
              "      <td>1077501</td>\n",
              "      <td>1296599</td>\n",
              "      <td>5000.0</td>\n",
              "      <td>5000.0</td>\n",
              "      <td>4975.0</td>\n",
              "      <td>36 months</td>\n",
              "      <td>10.65</td>\n",
              "      <td>162.87</td>\n",
              "      <td>B</td>\n",
              "      <td>B2</td>\n",
              "      <td>NaN</td>\n",
              "      <td>10+ years</td>\n",
              "      <td>RENT</td>\n",
              "      <td>24000.0</td>\n",
              "      <td>Verified</td>\n",
              "      <td>Dec-2011</td>\n",
              "      <td>n</td>\n",
              "      <td>Borrower added on 12/22/11 &gt; I need to upgra...</td>\n",
              "      <td>credit_card</td>\n",
              "      <td>Computer</td>\n",
              "      <td>860xx</td>\n",
              "      <td>AZ</td>\n",
              "      <td>27.65</td>\n",
              "      <td>0.0</td>\n",
              "      <td>Jan-1985</td>\n",
              "      <td>1.0</td>\n",
              "      <td>NaN</td>\n",
              "      <td>NaN</td>\n",
              "      <td>3.0</td>\n",
              "      <td>0.0</td>\n",
              "      <td>13648.0</td>\n",
              "      <td>83.7</td>\n",
              "      <td>9.0</td>\n",
              "      <td>f</td>\n",
              "      <td>0.0</td>\n",
              "      <td>0.0</td>\n",
              "      <td>5861.071414</td>\n",
              "      <td>5831.78</td>\n",
              "      <td>5000.00</td>\n",
              "      <td>861.07</td>\n",
              "      <td>0.00</td>\n",
              "      <td>0.00</td>\n",
              "      <td>0.00</td>\n",
              "      <td>Jan-2015</td>\n",
              "      <td>171.62</td>\n",
              "      <td>NaN</td>\n",
              "      <td>Jan-2016</td>\n",
              "      <td>0.0</td>\n",
              "      <td>NaN</td>\n",
              "      <td>1.0</td>\n",
              "      <td>INDIVIDUAL</td>\n",
              "      <td>NaN</td>\n",
              "      <td>NaN</td>\n",
              "      <td>NaN</td>\n",
              "      <td>0.0</td>\n",
              "      <td>NaN</td>\n",
              "      <td>NaN</td>\n",
              "      <td>NaN</td>\n",
              "      <td>NaN</td>\n",
              "      <td>NaN</td>\n",
              "      <td>NaN</td>\n",
              "      <td>NaN</td>\n",
              "      <td>NaN</td>\n",
              "      <td>NaN</td>\n",
              "      <td>NaN</td>\n",
              "      <td>NaN</td>\n",
              "      <td>NaN</td>\n",
              "      <td>NaN</td>\n",
              "      <td>NaN</td>\n",
              "      <td>NaN</td>\n",
              "      <td>NaN</td>\n",
              "      <td>NaN</td>\n",
              "      <td>0</td>\n",
              "    </tr>\n",
              "    <tr>\n",
              "      <th>1</th>\n",
              "      <td>1077430</td>\n",
              "      <td>1314167</td>\n",
              "      <td>2500.0</td>\n",
              "      <td>2500.0</td>\n",
              "      <td>2500.0</td>\n",
              "      <td>60 months</td>\n",
              "      <td>15.27</td>\n",
              "      <td>59.83</td>\n",
              "      <td>C</td>\n",
              "      <td>C4</td>\n",
              "      <td>Ryder</td>\n",
              "      <td>&lt; 1 year</td>\n",
              "      <td>RENT</td>\n",
              "      <td>30000.0</td>\n",
              "      <td>Source Verified</td>\n",
              "      <td>Dec-2011</td>\n",
              "      <td>n</td>\n",
              "      <td>Borrower added on 12/22/11 &gt; I plan to use t...</td>\n",
              "      <td>car</td>\n",
              "      <td>bike</td>\n",
              "      <td>309xx</td>\n",
              "      <td>GA</td>\n",
              "      <td>1.00</td>\n",
              "      <td>0.0</td>\n",
              "      <td>Apr-1999</td>\n",
              "      <td>5.0</td>\n",
              "      <td>NaN</td>\n",
              "      <td>NaN</td>\n",
              "      <td>3.0</td>\n",
              "      <td>0.0</td>\n",
              "      <td>1687.0</td>\n",
              "      <td>9.4</td>\n",
              "      <td>4.0</td>\n",
              "      <td>f</td>\n",
              "      <td>0.0</td>\n",
              "      <td>0.0</td>\n",
              "      <td>1008.710000</td>\n",
              "      <td>1008.71</td>\n",
              "      <td>456.46</td>\n",
              "      <td>435.17</td>\n",
              "      <td>0.00</td>\n",
              "      <td>117.08</td>\n",
              "      <td>1.11</td>\n",
              "      <td>Apr-2013</td>\n",
              "      <td>119.66</td>\n",
              "      <td>NaN</td>\n",
              "      <td>Sep-2013</td>\n",
              "      <td>0.0</td>\n",
              "      <td>NaN</td>\n",
              "      <td>1.0</td>\n",
              "      <td>INDIVIDUAL</td>\n",
              "      <td>NaN</td>\n",
              "      <td>NaN</td>\n",
              "      <td>NaN</td>\n",
              "      <td>0.0</td>\n",
              "      <td>NaN</td>\n",
              "      <td>NaN</td>\n",
              "      <td>NaN</td>\n",
              "      <td>NaN</td>\n",
              "      <td>NaN</td>\n",
              "      <td>NaN</td>\n",
              "      <td>NaN</td>\n",
              "      <td>NaN</td>\n",
              "      <td>NaN</td>\n",
              "      <td>NaN</td>\n",
              "      <td>NaN</td>\n",
              "      <td>NaN</td>\n",
              "      <td>NaN</td>\n",
              "      <td>NaN</td>\n",
              "      <td>NaN</td>\n",
              "      <td>NaN</td>\n",
              "      <td>NaN</td>\n",
              "      <td>1</td>\n",
              "    </tr>\n",
              "    <tr>\n",
              "      <th>2</th>\n",
              "      <td>1077175</td>\n",
              "      <td>1313524</td>\n",
              "      <td>2400.0</td>\n",
              "      <td>2400.0</td>\n",
              "      <td>2400.0</td>\n",
              "      <td>36 months</td>\n",
              "      <td>15.96</td>\n",
              "      <td>84.33</td>\n",
              "      <td>C</td>\n",
              "      <td>C5</td>\n",
              "      <td>NaN</td>\n",
              "      <td>10+ years</td>\n",
              "      <td>RENT</td>\n",
              "      <td>12252.0</td>\n",
              "      <td>Not Verified</td>\n",
              "      <td>Dec-2011</td>\n",
              "      <td>n</td>\n",
              "      <td>NaN</td>\n",
              "      <td>small_business</td>\n",
              "      <td>real estate business</td>\n",
              "      <td>606xx</td>\n",
              "      <td>IL</td>\n",
              "      <td>8.72</td>\n",
              "      <td>0.0</td>\n",
              "      <td>Nov-2001</td>\n",
              "      <td>2.0</td>\n",
              "      <td>NaN</td>\n",
              "      <td>NaN</td>\n",
              "      <td>2.0</td>\n",
              "      <td>0.0</td>\n",
              "      <td>2956.0</td>\n",
              "      <td>98.5</td>\n",
              "      <td>10.0</td>\n",
              "      <td>f</td>\n",
              "      <td>0.0</td>\n",
              "      <td>0.0</td>\n",
              "      <td>3003.653644</td>\n",
              "      <td>3003.65</td>\n",
              "      <td>2400.00</td>\n",
              "      <td>603.65</td>\n",
              "      <td>0.00</td>\n",
              "      <td>0.00</td>\n",
              "      <td>0.00</td>\n",
              "      <td>Jun-2014</td>\n",
              "      <td>649.91</td>\n",
              "      <td>NaN</td>\n",
              "      <td>Jan-2016</td>\n",
              "      <td>0.0</td>\n",
              "      <td>NaN</td>\n",
              "      <td>1.0</td>\n",
              "      <td>INDIVIDUAL</td>\n",
              "      <td>NaN</td>\n",
              "      <td>NaN</td>\n",
              "      <td>NaN</td>\n",
              "      <td>0.0</td>\n",
              "      <td>NaN</td>\n",
              "      <td>NaN</td>\n",
              "      <td>NaN</td>\n",
              "      <td>NaN</td>\n",
              "      <td>NaN</td>\n",
              "      <td>NaN</td>\n",
              "      <td>NaN</td>\n",
              "      <td>NaN</td>\n",
              "      <td>NaN</td>\n",
              "      <td>NaN</td>\n",
              "      <td>NaN</td>\n",
              "      <td>NaN</td>\n",
              "      <td>NaN</td>\n",
              "      <td>NaN</td>\n",
              "      <td>NaN</td>\n",
              "      <td>NaN</td>\n",
              "      <td>NaN</td>\n",
              "      <td>0</td>\n",
              "    </tr>\n",
              "    <tr>\n",
              "      <th>3</th>\n",
              "      <td>1076863</td>\n",
              "      <td>1277178</td>\n",
              "      <td>10000.0</td>\n",
              "      <td>10000.0</td>\n",
              "      <td>10000.0</td>\n",
              "      <td>36 months</td>\n",
              "      <td>13.49</td>\n",
              "      <td>339.31</td>\n",
              "      <td>C</td>\n",
              "      <td>C1</td>\n",
              "      <td>AIR RESOURCES BOARD</td>\n",
              "      <td>10+ years</td>\n",
              "      <td>RENT</td>\n",
              "      <td>49200.0</td>\n",
              "      <td>Source Verified</td>\n",
              "      <td>Dec-2011</td>\n",
              "      <td>n</td>\n",
              "      <td>Borrower added on 12/21/11 &gt; to pay for prop...</td>\n",
              "      <td>other</td>\n",
              "      <td>personel</td>\n",
              "      <td>917xx</td>\n",
              "      <td>CA</td>\n",
              "      <td>20.00</td>\n",
              "      <td>0.0</td>\n",
              "      <td>Feb-1996</td>\n",
              "      <td>1.0</td>\n",
              "      <td>35.0</td>\n",
              "      <td>NaN</td>\n",
              "      <td>10.0</td>\n",
              "      <td>0.0</td>\n",
              "      <td>5598.0</td>\n",
              "      <td>21.0</td>\n",
              "      <td>37.0</td>\n",
              "      <td>f</td>\n",
              "      <td>0.0</td>\n",
              "      <td>0.0</td>\n",
              "      <td>12226.302212</td>\n",
              "      <td>12226.30</td>\n",
              "      <td>10000.00</td>\n",
              "      <td>2209.33</td>\n",
              "      <td>16.97</td>\n",
              "      <td>0.00</td>\n",
              "      <td>0.00</td>\n",
              "      <td>Jan-2015</td>\n",
              "      <td>357.48</td>\n",
              "      <td>NaN</td>\n",
              "      <td>Jan-2015</td>\n",
              "      <td>0.0</td>\n",
              "      <td>NaN</td>\n",
              "      <td>1.0</td>\n",
              "      <td>INDIVIDUAL</td>\n",
              "      <td>NaN</td>\n",
              "      <td>NaN</td>\n",
              "      <td>NaN</td>\n",
              "      <td>0.0</td>\n",
              "      <td>NaN</td>\n",
              "      <td>NaN</td>\n",
              "      <td>NaN</td>\n",
              "      <td>NaN</td>\n",
              "      <td>NaN</td>\n",
              "      <td>NaN</td>\n",
              "      <td>NaN</td>\n",
              "      <td>NaN</td>\n",
              "      <td>NaN</td>\n",
              "      <td>NaN</td>\n",
              "      <td>NaN</td>\n",
              "      <td>NaN</td>\n",
              "      <td>NaN</td>\n",
              "      <td>NaN</td>\n",
              "      <td>NaN</td>\n",
              "      <td>NaN</td>\n",
              "      <td>NaN</td>\n",
              "      <td>0</td>\n",
              "    </tr>\n",
              "    <tr>\n",
              "      <th>4</th>\n",
              "      <td>1075358</td>\n",
              "      <td>1311748</td>\n",
              "      <td>3000.0</td>\n",
              "      <td>3000.0</td>\n",
              "      <td>3000.0</td>\n",
              "      <td>60 months</td>\n",
              "      <td>12.69</td>\n",
              "      <td>67.79</td>\n",
              "      <td>B</td>\n",
              "      <td>B5</td>\n",
              "      <td>University Medical Group</td>\n",
              "      <td>1 year</td>\n",
              "      <td>RENT</td>\n",
              "      <td>80000.0</td>\n",
              "      <td>Source Verified</td>\n",
              "      <td>Dec-2011</td>\n",
              "      <td>n</td>\n",
              "      <td>Borrower added on 12/21/11 &gt; I plan on combi...</td>\n",
              "      <td>other</td>\n",
              "      <td>Personal</td>\n",
              "      <td>972xx</td>\n",
              "      <td>OR</td>\n",
              "      <td>17.94</td>\n",
              "      <td>0.0</td>\n",
              "      <td>Jan-1996</td>\n",
              "      <td>0.0</td>\n",
              "      <td>38.0</td>\n",
              "      <td>NaN</td>\n",
              "      <td>15.0</td>\n",
              "      <td>0.0</td>\n",
              "      <td>27783.0</td>\n",
              "      <td>53.9</td>\n",
              "      <td>38.0</td>\n",
              "      <td>f</td>\n",
              "      <td>766.9</td>\n",
              "      <td>766.9</td>\n",
              "      <td>3242.170000</td>\n",
              "      <td>3242.17</td>\n",
              "      <td>2233.10</td>\n",
              "      <td>1009.07</td>\n",
              "      <td>0.00</td>\n",
              "      <td>0.00</td>\n",
              "      <td>0.00</td>\n",
              "      <td>Jan-2016</td>\n",
              "      <td>67.79</td>\n",
              "      <td>Feb-2016</td>\n",
              "      <td>Jan-2016</td>\n",
              "      <td>0.0</td>\n",
              "      <td>NaN</td>\n",
              "      <td>1.0</td>\n",
              "      <td>INDIVIDUAL</td>\n",
              "      <td>NaN</td>\n",
              "      <td>NaN</td>\n",
              "      <td>NaN</td>\n",
              "      <td>0.0</td>\n",
              "      <td>NaN</td>\n",
              "      <td>NaN</td>\n",
              "      <td>NaN</td>\n",
              "      <td>NaN</td>\n",
              "      <td>NaN</td>\n",
              "      <td>NaN</td>\n",
              "      <td>NaN</td>\n",
              "      <td>NaN</td>\n",
              "      <td>NaN</td>\n",
              "      <td>NaN</td>\n",
              "      <td>NaN</td>\n",
              "      <td>NaN</td>\n",
              "      <td>NaN</td>\n",
              "      <td>NaN</td>\n",
              "      <td>NaN</td>\n",
              "      <td>NaN</td>\n",
              "      <td>NaN</td>\n",
              "      <td>0</td>\n",
              "    </tr>\n",
              "  </tbody>\n",
              "</table>\n",
              "</div>"
            ],
            "text/plain": [
              "        id  member_id  loan_amnt  ...  total_cu_tl  inq_last_12m default_ind\n",
              "0  1077501    1296599     5000.0  ...          NaN           NaN           0\n",
              "1  1077430    1314167     2500.0  ...          NaN           NaN           1\n",
              "2  1077175    1313524     2400.0  ...          NaN           NaN           0\n",
              "3  1076863    1277178    10000.0  ...          NaN           NaN           0\n",
              "4  1075358    1311748     3000.0  ...          NaN           NaN           0\n",
              "\n",
              "[5 rows x 73 columns]"
            ]
          },
          "metadata": {
            "tags": []
          },
          "execution_count": 5
        }
      ]
    },
    {
      "cell_type": "code",
      "metadata": {
        "id": "_MnXRkKkrjpm",
        "outputId": "229f768b-cf18-43cc-ca47-feb119bf71f3",
        "colab": {
          "base_uri": "https://localhost:8080/"
        }
      },
      "source": [
        "data.shape"
      ],
      "execution_count": 6,
      "outputs": [
        {
          "output_type": "execute_result",
          "data": {
            "text/plain": [
              "(855969, 73)"
            ]
          },
          "metadata": {
            "tags": []
          },
          "execution_count": 6
        }
      ]
    },
    {
      "cell_type": "code",
      "metadata": {
        "id": "0nWVHIrH8PQE",
        "outputId": "887caccb-5870-42b4-959b-df7dd7bfb686",
        "colab": {
          "base_uri": "https://localhost:8080/",
          "height": 596
        }
      },
      "source": [
        "plt.figure(figsize=(25,10))\n",
        "sns.heatmap(data.isnull(),yticklabels=False,cbar=False,cmap='copper')"
      ],
      "execution_count": 7,
      "outputs": [
        {
          "output_type": "execute_result",
          "data": {
            "text/plain": [
              "<matplotlib.axes._subplots.AxesSubplot at 0x7f0a7274e8d0>"
            ]
          },
          "metadata": {
            "tags": []
          },
          "execution_count": 7
        },
        {
          "output_type": "display_data",
          "data": {
            "image/png": "[encoded data removed]",
            "text/plain": [
              "<Figure size 1800x720 with 1 Axes>"
            ]
          },
          "metadata": {
            "tags": [],
            "needs_background": "light"
          }
        }
      ]
    },
    {
      "cell_type": "code",
      "metadata": {
        "id": "xq9775E5Aisw",
        "outputId": "3ecc058a-54e0-42ad-c255-1170bbf63e4f",
        "colab": {
          "base_uri": "https://localhost:8080/",
          "height": 490
        }
      },
      "source": [
        "plt.figure(figsize=(10,6))\n",
        "sns.countplot('default_ind', data=data,palette=[\"navy\",\"crimson\"])\n",
        "plt.title('Class Distribution \\n 0 : Non Defaulters       1 : Defaulters')"
      ],
      "execution_count": 8,
      "outputs": [
        {
          "output_type": "stream",
          "text": [
            "/usr/local/lib/python3.6/dist-packages/seaborn/_decorators.py:43: FutureWarning: Pass the following variable as a keyword arg: x. From version 0.12, the only valid positional argument will be `data`, and passing other arguments without an explicit keyword will result in an error or misinterpretation.\n",
            "  FutureWarning\n"
          ],
          "name": "stderr"
        },
        {
          "output_type": "execute_result",
          "data": {
            "text/plain": [
              "Text(0.5, 1.0, 'Class Distribution \\n 0 : Non Defaulters       1 : Defaulters')"
            ]
          },
          "metadata": {
            "tags": []
          },
          "execution_count": 8
        },
        {
          "output_type": "display_data",
          "data": {
            "image/png": "[encoded data removed]",
            "text/plain": [
              "<Figure size 720x432 with 1 Axes>"
            ]
          },
          "metadata": {
            "tags": [],
            "needs_background": "light"
          }
        }
      ]
    },
    {
      "cell_type": "code",
      "metadata": {
        "id": "aktwgSRuW8Ci",
        "outputId": "695d575e-52e2-4497-c521-1f758b6d5c9c",
        "colab": {
          "base_uri": "https://localhost:8080/",
          "height": 509
        }
      },
      "source": [
        "fig, ax = plt.subplots(1, 2, figsize=(14,6))\n",
        "\n",
        "\n",
        "sns.distplot(data['loan_amnt'], ax=ax[0],color=\"black\")\n",
        "ax[0].set_title(\"Loan Amount Distribution\")\n",
        "\n",
        "sns.distplot(data['funded_amnt'], ax=ax[1],color=\"black\")\n",
        "ax[1].set_title(\"Funded Amount Distribution\")"
      ],
      "execution_count": 9,
      "outputs": [
        {
          "output_type": "stream",
          "text": [
            "/usr/local/lib/python3.6/dist-packages/seaborn/distributions.py:2551: FutureWarning: `distplot` is a deprecated function and will be removed in a future version. Please adapt your code to use either `displot` (a figure-level function with similar flexibility) or `histplot` (an axes-level function for histograms).\n",
            "  warnings.warn(msg, FutureWarning)\n",
            "/usr/local/lib/python3.6/dist-packages/seaborn/distributions.py:2551: FutureWarning: `distplot` is a deprecated function and will be removed in a future version. Please adapt your code to use either `displot` (a figure-level function with similar flexibility) or `histplot` (an axes-level function for histograms).\n",
            "  warnings.warn(msg, FutureWarning)\n"
          ],
          "name": "stderr"
        },
        {
          "output_type": "execute_result",
          "data": {
            "text/plain": [
              "Text(0.5, 1.0, 'Funded Amount Distribution')"
            ]
          },
          "metadata": {
            "tags": []
          },
          "execution_count": 9
        },
        {
          "output_type": "display_data",
          "data": {
            "image/png": "[encoded data removed]",
            "text/plain": [
              "<Figure size 1008x432 with 2 Axes>"
            ]
          },
          "metadata": {
            "tags": [],
            "needs_background": "light"
          }
        }
      ]
    },
    {
      "cell_type": "code",
      "metadata": {
        "id": "yLIFZns-ZtwL",
        "outputId": "536028d9-8539-4951-87f9-bc6fb89f9ac2",
        "colab": {
          "base_uri": "https://localhost:8080/",
          "height": 512
        }
      },
      "source": [
        "plt.figure(figsize=(15,6))\n",
        "\n",
        "data.purpose.value_counts().plot(kind='bar',color=\"darkcyan\").set_title('Loan Purposes')\n",
        "plt.xticks(rotation=70)"
      ],
      "execution_count": 10,
      "outputs": [
        {
          "output_type": "execute_result",
          "data": {
            "text/plain": [
              "(array([ 0,  1,  2,  3,  4,  5,  6,  7,  8,  9, 10, 11, 12, 13]),\n",
              " <a list of 14 Text major ticklabel objects>)"
            ]
          },
          "metadata": {
            "tags": []
          },
          "execution_count": 10
        },
        {
          "output_type": "display_data",
          "data": {
            "image/png": "[encoded data removed]",
            "text/plain": [
              "<Figure size 1080x432 with 1 Axes>"
            ]
          },
          "metadata": {
            "tags": [],
            "needs_background": "light"
          }
        }
      ]
    },
    {
      "cell_type": "code",
      "metadata": {
        "id": "GM5-N98QTf8Y"
      },
      "source": [
        "?sns.distplot()"
      ],
      "execution_count": 11,
      "outputs": []
    },
    {
      "cell_type": "code",
      "metadata": {
        "id": "ReY98o8Hkl9j"
      },
      "source": [
        "cat_var=[]\n",
        "num_var=[]\n",
        "for i in data.columns:\n",
        "  if data[i].dtype=='object':\n",
        "    cat_var.append(i)\n",
        "  else:\n",
        "    num_var.append(i)"
      ],
      "execution_count": 12,
      "outputs": []
    },
    {
      "cell_type": "code",
      "metadata": {
        "id": "5wwGYvOJmXDW",
        "outputId": "c8fe3058-35bd-44be-d6e1-d6129a430e8f",
        "colab": {
          "base_uri": "https://localhost:8080/"
        }
      },
      "source": [
        "data[cat_var].isnull().sum().sort_values()"
      ],
      "execution_count": 13,
      "outputs": [
        {
          "output_type": "execute_result",
          "data": {
            "text/plain": [
              "term                              0\n",
              "initial_list_status               0\n",
              "earliest_cr_line                  0\n",
              "addr_state                        0\n",
              "zip_code                          0\n",
              "application_type                  0\n",
              "pymnt_plan                        0\n",
              "purpose                           0\n",
              "verification_status               0\n",
              "home_ownership                    0\n",
              "sub_grade                         0\n",
              "grade                             0\n",
              "issue_d                           0\n",
              "title                            33\n",
              "last_credit_pull_d               50\n",
              "last_pymnt_d                   8862\n",
              "emp_length                    43061\n",
              "emp_title                     49443\n",
              "next_pymnt_d                 252971\n",
              "desc                         734157\n",
              "verification_status_joint    855527\n",
              "dtype: int64"
            ]
          },
          "metadata": {
            "tags": []
          },
          "execution_count": 13
        }
      ]
    },
    {
      "cell_type": "code",
      "metadata": {
        "id": "JeANxm5Xml0S",
        "outputId": "c314621a-4f31-41a8-8ded-5fb0b2b3d13d",
        "colab": {
          "base_uri": "https://localhost:8080/",
          "height": 402
        }
      },
      "source": [
        "miss_data=pd.DataFrame({'missing_val':(data[data.columns].isnull().sum()),\n",
        "                   'percent':(data[data.columns].isnull().sum()*100/data.shape[0])})\n",
        "miss_data.sort_values(by=\"percent\")"
      ],
      "execution_count": 14,
      "outputs": [
        {
          "output_type": "execute_result",
          "data": {
            "text/html": [
              "<div>\n",
              "<style scoped>\n",
              "    .dataframe tbody tr th:only-of-type {\n",
              "        vertical-align: middle;\n",
              "    }\n",
              "\n",
              "    .dataframe tbody tr th {\n",
              "        vertical-align: top;\n",
              "    }\n",
              "\n",
              "    .dataframe thead th {\n",
              "        text-align: right;\n",
              "    }\n",
              "</style>\n",
              "<table border=\"1\" class=\"dataframe\">\n",
              "  <thead>\n",
              "    <tr style=\"text-align: right;\">\n",
              "      <th></th>\n",
              "      <th>missing_val</th>\n",
              "      <th>percent</th>\n",
              "    </tr>\n",
              "  </thead>\n",
              "  <tbody>\n",
              "    <tr>\n",
              "      <th>id</th>\n",
              "      <td>0</td>\n",
              "      <td>0.000000</td>\n",
              "    </tr>\n",
              "    <tr>\n",
              "      <th>earliest_cr_line</th>\n",
              "      <td>0</td>\n",
              "      <td>0.000000</td>\n",
              "    </tr>\n",
              "    <tr>\n",
              "      <th>inq_last_6mths</th>\n",
              "      <td>0</td>\n",
              "      <td>0.000000</td>\n",
              "    </tr>\n",
              "    <tr>\n",
              "      <th>open_acc</th>\n",
              "      <td>0</td>\n",
              "      <td>0.000000</td>\n",
              "    </tr>\n",
              "    <tr>\n",
              "      <th>pub_rec</th>\n",
              "      <td>0</td>\n",
              "      <td>0.000000</td>\n",
              "    </tr>\n",
              "    <tr>\n",
              "      <th>...</th>\n",
              "      <td>...</td>\n",
              "      <td>...</td>\n",
              "    </tr>\n",
              "    <tr>\n",
              "      <th>mths_since_rcnt_il</th>\n",
              "      <td>843035</td>\n",
              "      <td>98.488964</td>\n",
              "    </tr>\n",
              "    <tr>\n",
              "      <th>il_util</th>\n",
              "      <td>844360</td>\n",
              "      <td>98.643759</td>\n",
              "    </tr>\n",
              "    <tr>\n",
              "      <th>annual_inc_joint</th>\n",
              "      <td>855527</td>\n",
              "      <td>99.948363</td>\n",
              "    </tr>\n",
              "    <tr>\n",
              "      <th>verification_status_joint</th>\n",
              "      <td>855527</td>\n",
              "      <td>99.948363</td>\n",
              "    </tr>\n",
              "    <tr>\n",
              "      <th>dti_joint</th>\n",
              "      <td>855529</td>\n",
              "      <td>99.948596</td>\n",
              "    </tr>\n",
              "  </tbody>\n",
              "</table>\n",
              "<p>73 rows × 2 columns</p>\n",
              "</div>"
            ],
            "text/plain": [
              "                           missing_val    percent\n",
              "id                                   0   0.000000\n",
              "earliest_cr_line                     0   0.000000\n",
              "inq_last_6mths                       0   0.000000\n",
              "open_acc                             0   0.000000\n",
              "pub_rec                              0   0.000000\n",
              "...                                ...        ...\n",
              "mths_since_rcnt_il              843035  98.488964\n",
              "il_util                         844360  98.643759\n",
              "annual_inc_joint                855527  99.948363\n",
              "verification_status_joint       855527  99.948363\n",
              "dti_joint                       855529  99.948596\n",
              "\n",
              "[73 rows x 2 columns]"
            ]
          },
          "metadata": {
            "tags": []
          },
          "execution_count": 14
        }
      ]
    },
    {
      "cell_type": "code",
      "metadata": {
        "id": "O5XgOkTSlHnJ",
        "outputId": "80c56859-4414-4b8e-970f-3e5021afd78a",
        "colab": {
          "base_uri": "https://localhost:8080/",
          "height": 402
        }
      },
      "source": [
        "temp_df=data.loc[(data['application_type']=='JOINT') ,['verification_status','verification_status_joint','annual_inc',\"annual_inc_joint\",'dti','dti_joint','default_ind']].reset_index()\n",
        "temp_df"
      ],
      "execution_count": 15,
      "outputs": [
        {
          "output_type": "execute_result",
          "data": {
            "text/html": [
              "<div>\n",
              "<style scoped>\n",
              "    .dataframe tbody tr th:only-of-type {\n",
              "        vertical-align: middle;\n",
              "    }\n",
              "\n",
              "    .dataframe tbody tr th {\n",
              "        vertical-align: top;\n",
              "    }\n",
              "\n",
              "    .dataframe thead th {\n",
              "        text-align: right;\n",
              "    }\n",
              "</style>\n",
              "<table border=\"1\" class=\"dataframe\">\n",
              "  <thead>\n",
              "    <tr style=\"text-align: right;\">\n",
              "      <th></th>\n",
              "      <th>index</th>\n",
              "      <th>verification_status</th>\n",
              "      <th>verification_status_joint</th>\n",
              "      <th>annual_inc</th>\n",
              "      <th>annual_inc_joint</th>\n",
              "      <th>dti</th>\n",
              "      <th>dti_joint</th>\n",
              "      <th>default_ind</th>\n",
              "    </tr>\n",
              "  </thead>\n",
              "  <tbody>\n",
              "    <tr>\n",
              "      <th>0</th>\n",
              "      <td>452290</td>\n",
              "      <td>Verified</td>\n",
              "      <td>Not Verified</td>\n",
              "      <td>29524.32</td>\n",
              "      <td>94348.32</td>\n",
              "      <td>46.71</td>\n",
              "      <td>17.07</td>\n",
              "      <td>0</td>\n",
              "    </tr>\n",
              "    <tr>\n",
              "      <th>1</th>\n",
              "      <td>452477</td>\n",
              "      <td>Source Verified</td>\n",
              "      <td>Not Verified</td>\n",
              "      <td>86000.00</td>\n",
              "      <td>182000.00</td>\n",
              "      <td>5.54</td>\n",
              "      <td>6.44</td>\n",
              "      <td>0</td>\n",
              "    </tr>\n",
              "    <tr>\n",
              "      <th>2</th>\n",
              "      <td>453477</td>\n",
              "      <td>Verified</td>\n",
              "      <td>Not Verified</td>\n",
              "      <td>89000.00</td>\n",
              "      <td>89000.00</td>\n",
              "      <td>12.63</td>\n",
              "      <td>25.91</td>\n",
              "      <td>0</td>\n",
              "    </tr>\n",
              "    <tr>\n",
              "      <th>3</th>\n",
              "      <td>453733</td>\n",
              "      <td>Not Verified</td>\n",
              "      <td>Not Verified</td>\n",
              "      <td>60000.00</td>\n",
              "      <td>95000.00</td>\n",
              "      <td>28.76</td>\n",
              "      <td>23.99</td>\n",
              "      <td>0</td>\n",
              "    </tr>\n",
              "    <tr>\n",
              "      <th>4</th>\n",
              "      <td>453789</td>\n",
              "      <td>Source Verified</td>\n",
              "      <td>Not Verified</td>\n",
              "      <td>78000.00</td>\n",
              "      <td>111000.00</td>\n",
              "      <td>19.52</td>\n",
              "      <td>17.51</td>\n",
              "      <td>0</td>\n",
              "    </tr>\n",
              "    <tr>\n",
              "      <th>...</th>\n",
              "      <td>...</td>\n",
              "      <td>...</td>\n",
              "      <td>...</td>\n",
              "      <td>...</td>\n",
              "      <td>...</td>\n",
              "      <td>...</td>\n",
              "      <td>...</td>\n",
              "      <td>...</td>\n",
              "    </tr>\n",
              "    <tr>\n",
              "      <th>437</th>\n",
              "      <td>548057</td>\n",
              "      <td>Source Verified</td>\n",
              "      <td>Not Verified</td>\n",
              "      <td>65000.00</td>\n",
              "      <td>70000.00</td>\n",
              "      <td>14.40</td>\n",
              "      <td>19.92</td>\n",
              "      <td>0</td>\n",
              "    </tr>\n",
              "    <tr>\n",
              "      <th>438</th>\n",
              "      <td>548365</td>\n",
              "      <td>Source Verified</td>\n",
              "      <td>Source Verified</td>\n",
              "      <td>9000.00</td>\n",
              "      <td>39000.00</td>\n",
              "      <td>55.10</td>\n",
              "      <td>18.65</td>\n",
              "      <td>0</td>\n",
              "    </tr>\n",
              "    <tr>\n",
              "      <th>439</th>\n",
              "      <td>548505</td>\n",
              "      <td>Source Verified</td>\n",
              "      <td>Not Verified</td>\n",
              "      <td>120000.00</td>\n",
              "      <td>170000.00</td>\n",
              "      <td>16.60</td>\n",
              "      <td>16.69</td>\n",
              "      <td>0</td>\n",
              "    </tr>\n",
              "    <tr>\n",
              "      <th>440</th>\n",
              "      <td>549873</td>\n",
              "      <td>Verified</td>\n",
              "      <td>Verified</td>\n",
              "      <td>21559.00</td>\n",
              "      <td>88596.00</td>\n",
              "      <td>59.19</td>\n",
              "      <td>15.40</td>\n",
              "      <td>0</td>\n",
              "    </tr>\n",
              "    <tr>\n",
              "      <th>441</th>\n",
              "      <td>550079</td>\n",
              "      <td>Verified</td>\n",
              "      <td>Not Verified</td>\n",
              "      <td>48000.00</td>\n",
              "      <td>68000.00</td>\n",
              "      <td>26.08</td>\n",
              "      <td>20.42</td>\n",
              "      <td>0</td>\n",
              "    </tr>\n",
              "  </tbody>\n",
              "</table>\n",
              "<p>442 rows × 8 columns</p>\n",
              "</div>"
            ],
            "text/plain": [
              "      index verification_status  ... dti_joint  default_ind\n",
              "0    452290            Verified  ...     17.07            0\n",
              "1    452477     Source Verified  ...      6.44            0\n",
              "2    453477            Verified  ...     25.91            0\n",
              "3    453733        Not Verified  ...     23.99            0\n",
              "4    453789     Source Verified  ...     17.51            0\n",
              "..      ...                 ...  ...       ...          ...\n",
              "437  548057     Source Verified  ...     19.92            0\n",
              "438  548365     Source Verified  ...     18.65            0\n",
              "439  548505     Source Verified  ...     16.69            0\n",
              "440  549873            Verified  ...     15.40            0\n",
              "441  550079            Verified  ...     20.42            0\n",
              "\n",
              "[442 rows x 8 columns]"
            ]
          },
          "metadata": {
            "tags": []
          },
          "execution_count": 15
        }
      ]
    },
    {
      "cell_type": "code",
      "metadata": {
        "id": "7yJ2fdEa0vVr",
        "outputId": "f0441b6b-f30f-4fa5-9a26-594647415a34",
        "colab": {
          "base_uri": "https://localhost:8080/"
        }
      },
      "source": [
        "temp_df.index"
      ],
      "execution_count": 16,
      "outputs": [
        {
          "output_type": "execute_result",
          "data": {
            "text/plain": [
              "RangeIndex(start=0, stop=442, step=1)"
            ]
          },
          "metadata": {
            "tags": []
          },
          "execution_count": 16
        }
      ]
    },
    {
      "cell_type": "code",
      "metadata": {
        "id": "uVopeqWrs89d",
        "outputId": "c569e03f-804a-46d7-a14a-6865c8aceaa1",
        "colab": {
          "base_uri": "https://localhost:8080/"
        }
      },
      "source": [
        "temp_df.default_ind.value_counts()"
      ],
      "execution_count": 17,
      "outputs": [
        {
          "output_type": "execute_result",
          "data": {
            "text/plain": [
              "0    442\n",
              "Name: default_ind, dtype: int64"
            ]
          },
          "metadata": {
            "tags": []
          },
          "execution_count": 17
        }
      ]
    },
    {
      "cell_type": "code",
      "metadata": {
        "id": "dhCrPACJmL4e",
        "outputId": "d0ae96a3-68d1-456f-e403-0c2799a96e2a",
        "colab": {
          "base_uri": "https://localhost:8080/"
        }
      },
      "source": [
        "data.default_ind.value_counts()"
      ],
      "execution_count": 18,
      "outputs": [
        {
          "output_type": "execute_result",
          "data": {
            "text/plain": [
              "0    809502\n",
              "1     46467\n",
              "Name: default_ind, dtype: int64"
            ]
          },
          "metadata": {
            "tags": []
          },
          "execution_count": 18
        }
      ]
    },
    {
      "cell_type": "code",
      "metadata": {
        "id": "MtCu7SMQsHOw",
        "outputId": "9f518435-8554-45bf-aeb7-3c9c834dc689",
        "colab": {
          "base_uri": "https://localhost:8080/"
        }
      },
      "source": [
        "(data.loc[data['application_type']=='JOINT'])['default_ind'].value_counts()"
      ],
      "execution_count": 19,
      "outputs": [
        {
          "output_type": "execute_result",
          "data": {
            "text/plain": [
              "0    442\n",
              "Name: default_ind, dtype: int64"
            ]
          },
          "metadata": {
            "tags": []
          },
          "execution_count": 19
        }
      ]
    },
    {
      "cell_type": "code",
      "metadata": {
        "id": "rgYCx27pvnKU",
        "outputId": "68da324a-8f9d-4ca5-f1ce-8c64e8b521fd",
        "colab": {
          "base_uri": "https://localhost:8080/"
        }
      },
      "source": [
        "data.dti.max()"
      ],
      "execution_count": 20,
      "outputs": [
        {
          "output_type": "execute_result",
          "data": {
            "text/plain": [
              "9999.0"
            ]
          },
          "metadata": {
            "tags": []
          },
          "execution_count": 20
        }
      ]
    },
    {
      "cell_type": "code",
      "metadata": {
        "id": "zlsdCAXUyrDe",
        "outputId": "c79f9a9b-1619-42ad-cfd1-8263c5ce720c",
        "colab": {
          "base_uri": "https://localhost:8080/"
        }
      },
      "source": [
        "(temp_df['annual_inc']<=temp_df['annual_inc_joint']).value_counts()"
      ],
      "execution_count": 21,
      "outputs": [
        {
          "output_type": "execute_result",
          "data": {
            "text/plain": [
              "True    442\n",
              "dtype: int64"
            ]
          },
          "metadata": {
            "tags": []
          },
          "execution_count": 21
        }
      ]
    },
    {
      "cell_type": "code",
      "metadata": {
        "id": "zF341gpbIJi0"
      },
      "source": [
        "def return_index(data,var):\n",
        "  j=0\n",
        "  for i in data.columns:\n",
        "    if (i==var):\n",
        "      index_number=j\n",
        "    j=j+1\n",
        "  return (index_number)"
      ],
      "execution_count": 22,
      "outputs": []
    },
    {
      "cell_type": "code",
      "metadata": {
        "id": "x23ksmJAIqkW",
        "outputId": "665d495a-d24e-4690-a50e-df470a2e6245",
        "colab": {
          "base_uri": "https://localhost:8080/"
        }
      },
      "source": [
        "return_index(data,'annual_inc')"
      ],
      "execution_count": 23,
      "outputs": [
        {
          "output_type": "execute_result",
          "data": {
            "text/plain": [
              "13"
            ]
          },
          "metadata": {
            "tags": []
          },
          "execution_count": 23
        }
      ]
    },
    {
      "cell_type": "code",
      "metadata": {
        "id": "obo-w6_UJF4C",
        "outputId": "78dfbf4e-41aa-4e66-be0b-f8f90257e061",
        "colab": {
          "base_uri": "https://localhost:8080/"
        }
      },
      "source": [
        "return_index(data,'annual_inc_joint')"
      ],
      "execution_count": 24,
      "outputs": [
        {
          "output_type": "execute_result",
          "data": {
            "text/plain": [
              "51"
            ]
          },
          "metadata": {
            "tags": []
          },
          "execution_count": 24
        }
      ]
    },
    {
      "cell_type": "code",
      "metadata": {
        "id": "AmKDEbHp2Rpl",
        "outputId": "0889bb0f-165c-494f-f6d5-8e77cc8179f1",
        "colab": {
          "base_uri": "https://localhost:8080/"
        }
      },
      "source": [
        "data.columns"
      ],
      "execution_count": 25,
      "outputs": [
        {
          "output_type": "execute_result",
          "data": {
            "text/plain": [
              "Index(['id', 'member_id', 'loan_amnt', 'funded_amnt', 'funded_amnt_inv',\n",
              "       'term', 'int_rate', 'installment', 'grade', 'sub_grade', 'emp_title',\n",
              "       'emp_length', 'home_ownership', 'annual_inc', 'verification_status',\n",
              "       'issue_d', 'pymnt_plan', 'desc', 'purpose', 'title', 'zip_code',\n",
              "       'addr_state', 'dti', 'delinq_2yrs', 'earliest_cr_line',\n",
              "       'inq_last_6mths', 'mths_since_last_delinq', 'mths_since_last_record',\n",
              "       'open_acc', 'pub_rec', 'revol_bal', 'revol_util', 'total_acc',\n",
              "       'initial_list_status', 'out_prncp', 'out_prncp_inv', 'total_pymnt',\n",
              "       'total_pymnt_inv', 'total_rec_prncp', 'total_rec_int',\n",
              "       'total_rec_late_fee', 'recoveries', 'collection_recovery_fee',\n",
              "       'last_pymnt_d', 'last_pymnt_amnt', 'next_pymnt_d', 'last_credit_pull_d',\n",
              "       'collections_12_mths_ex_med', 'mths_since_last_major_derog',\n",
              "       'policy_code', 'application_type', 'annual_inc_joint', 'dti_joint',\n",
              "       'verification_status_joint', 'acc_now_delinq', 'tot_coll_amt',\n",
              "       'tot_cur_bal', 'open_acc_6m', 'open_il_6m', 'open_il_12m',\n",
              "       'open_il_24m', 'mths_since_rcnt_il', 'total_bal_il', 'il_util',\n",
              "       'open_rv_12m', 'open_rv_24m', 'max_bal_bc', 'all_util',\n",
              "       'total_rev_hi_lim', 'inq_fi', 'total_cu_tl', 'inq_last_12m',\n",
              "       'default_ind'],\n",
              "      dtype='object')"
            ]
          },
          "metadata": {
            "tags": []
          },
          "execution_count": 25
        }
      ]
    },
    {
      "cell_type": "code",
      "metadata": {
        "id": "zWJjEtUy0EyM"
      },
      "source": [
        "for i in temp_df['index']:             \n",
        "  data.iloc[i,13]=data.iloc[i,51]                    #annual_inc updated"
      ],
      "execution_count": 26,
      "outputs": []
    },
    {
      "cell_type": "code",
      "metadata": {
        "id": "3K0plQfZrwuW"
      },
      "source": [
        "import math"
      ],
      "execution_count": 27,
      "outputs": []
    },
    {
      "cell_type": "code",
      "metadata": {
        "id": "c33oZ1en_Rj5",
        "outputId": "d7e60d04-91fd-4192-e88a-c0c0d89dc942",
        "colab": {
          "base_uri": "https://localhost:8080/"
        }
      },
      "source": [
        "index=[]\n",
        "for i in temp_df.index:\n",
        "  if (math.isnan(temp_df.iloc[i,6]))==False:\n",
        "    index.append(temp_df.iloc[i,0])\n",
        "    \n",
        "index[0:5]"
      ],
      "execution_count": 28,
      "outputs": [
        {
          "output_type": "execute_result",
          "data": {
            "text/plain": [
              "[452290, 452477, 453477, 453733, 453789]"
            ]
          },
          "metadata": {
            "tags": []
          },
          "execution_count": 28
        }
      ]
    },
    {
      "cell_type": "code",
      "metadata": {
        "id": "EaPIvmEDJTEC",
        "outputId": "5f57407b-2a05-484a-eccf-b6f22e736dfb",
        "colab": {
          "base_uri": "https://localhost:8080/"
        }
      },
      "source": [
        "print(return_index(data,'dti'))\n",
        "print(return_index(data,'dti_joint'))"
      ],
      "execution_count": 29,
      "outputs": [
        {
          "output_type": "stream",
          "text": [
            "22\n",
            "52\n"
          ],
          "name": "stdout"
        }
      ]
    },
    {
      "cell_type": "code",
      "metadata": {
        "id": "bGxAhLXkAXE7"
      },
      "source": [
        "for i in temp_df['index']:\n",
        "  data.iloc[i,22]=data.iloc[i,52]                #dti upgraded"
      ],
      "execution_count": 30,
      "outputs": []
    },
    {
      "cell_type": "code",
      "metadata": {
        "id": "ClfyFXIOKsWJ",
        "outputId": "8fa0edd4-0b5a-40d2-f4d1-621c6066df3f",
        "colab": {
          "base_uri": "https://localhost:8080/",
          "height": 195
        }
      },
      "source": [
        "data.loc[(data['application_type']=='JOINT') ,['verification_status','verification_status_joint','annual_inc',\"annual_inc_joint\",'dti','dti_joint','default_ind']].head()"
      ],
      "execution_count": 31,
      "outputs": [
        {
          "output_type": "execute_result",
          "data": {
            "text/html": [
              "<div>\n",
              "<style scoped>\n",
              "    .dataframe tbody tr th:only-of-type {\n",
              "        vertical-align: middle;\n",
              "    }\n",
              "\n",
              "    .dataframe tbody tr th {\n",
              "        vertical-align: top;\n",
              "    }\n",
              "\n",
              "    .dataframe thead th {\n",
              "        text-align: right;\n",
              "    }\n",
              "</style>\n",
              "<table border=\"1\" class=\"dataframe\">\n",
              "  <thead>\n",
              "    <tr style=\"text-align: right;\">\n",
              "      <th></th>\n",
              "      <th>verification_status</th>\n",
              "      <th>verification_status_joint</th>\n",
              "      <th>annual_inc</th>\n",
              "      <th>annual_inc_joint</th>\n",
              "      <th>dti</th>\n",
              "      <th>dti_joint</th>\n",
              "      <th>default_ind</th>\n",
              "    </tr>\n",
              "  </thead>\n",
              "  <tbody>\n",
              "    <tr>\n",
              "      <th>452290</th>\n",
              "      <td>Verified</td>\n",
              "      <td>Not Verified</td>\n",
              "      <td>94348.32</td>\n",
              "      <td>94348.32</td>\n",
              "      <td>17.07</td>\n",
              "      <td>17.07</td>\n",
              "      <td>0</td>\n",
              "    </tr>\n",
              "    <tr>\n",
              "      <th>452477</th>\n",
              "      <td>Source Verified</td>\n",
              "      <td>Not Verified</td>\n",
              "      <td>182000.00</td>\n",
              "      <td>182000.00</td>\n",
              "      <td>6.44</td>\n",
              "      <td>6.44</td>\n",
              "      <td>0</td>\n",
              "    </tr>\n",
              "    <tr>\n",
              "      <th>453477</th>\n",
              "      <td>Verified</td>\n",
              "      <td>Not Verified</td>\n",
              "      <td>89000.00</td>\n",
              "      <td>89000.00</td>\n",
              "      <td>25.91</td>\n",
              "      <td>25.91</td>\n",
              "      <td>0</td>\n",
              "    </tr>\n",
              "    <tr>\n",
              "      <th>453733</th>\n",
              "      <td>Not Verified</td>\n",
              "      <td>Not Verified</td>\n",
              "      <td>95000.00</td>\n",
              "      <td>95000.00</td>\n",
              "      <td>23.99</td>\n",
              "      <td>23.99</td>\n",
              "      <td>0</td>\n",
              "    </tr>\n",
              "    <tr>\n",
              "      <th>453789</th>\n",
              "      <td>Source Verified</td>\n",
              "      <td>Not Verified</td>\n",
              "      <td>111000.00</td>\n",
              "      <td>111000.00</td>\n",
              "      <td>17.51</td>\n",
              "      <td>17.51</td>\n",
              "      <td>0</td>\n",
              "    </tr>\n",
              "  </tbody>\n",
              "</table>\n",
              "</div>"
            ],
            "text/plain": [
              "       verification_status verification_status_joint  ...  dti_joint  default_ind\n",
              "452290            Verified              Not Verified  ...      17.07            0\n",
              "452477     Source Verified              Not Verified  ...       6.44            0\n",
              "453477            Verified              Not Verified  ...      25.91            0\n",
              "453733        Not Verified              Not Verified  ...      23.99            0\n",
              "453789     Source Verified              Not Verified  ...      17.51            0\n",
              "\n",
              "[5 rows x 7 columns]"
            ]
          },
          "metadata": {
            "tags": []
          },
          "execution_count": 31
        }
      ]
    },
    {
      "cell_type": "code",
      "metadata": {
        "id": "10AncsMiLqlI",
        "outputId": "96963660-42d1-4cdb-995d-409f785c4424",
        "colab": {
          "base_uri": "https://localhost:8080/"
        }
      },
      "source": [
        "data[\"verification_status\"].value_counts()"
      ],
      "execution_count": 32,
      "outputs": [
        {
          "output_type": "execute_result",
          "data": {
            "text/plain": [
              "Source Verified    318178\n",
              "Verified           280049\n",
              "Not Verified       257742\n",
              "Name: verification_status, dtype: int64"
            ]
          },
          "metadata": {
            "tags": []
          },
          "execution_count": 32
        }
      ]
    },
    {
      "cell_type": "code",
      "metadata": {
        "id": "vQmHUeTXMCia",
        "outputId": "b701f3a3-96df-4163-d7d3-78e9ec26b73e",
        "colab": {
          "base_uri": "https://localhost:8080/"
        }
      },
      "source": [
        "temp_df['verification_status_joint'].value_counts()"
      ],
      "execution_count": 33,
      "outputs": [
        {
          "output_type": "execute_result",
          "data": {
            "text/plain": [
              "Not Verified       252\n",
              "Verified           139\n",
              "Source Verified     51\n",
              "Name: verification_status_joint, dtype: int64"
            ]
          },
          "metadata": {
            "tags": []
          },
          "execution_count": 33
        }
      ]
    },
    {
      "cell_type": "code",
      "metadata": {
        "id": "M49hoqBRMQpk",
        "outputId": "2054d3a8-38b1-448e-b632-21508d8c3dd1",
        "colab": {
          "base_uri": "https://localhost:8080/"
        }
      },
      "source": [
        "data1=data.drop(['annual_inc_joint',\"dti_joint\",\"verification_status_joint\",'desc'],axis=1)\n",
        "data1.shape"
      ],
      "execution_count": 34,
      "outputs": [
        {
          "output_type": "execute_result",
          "data": {
            "text/plain": [
              "(855969, 69)"
            ]
          },
          "metadata": {
            "tags": []
          },
          "execution_count": 34
        }
      ]
    },
    {
      "cell_type": "code",
      "metadata": {
        "id": "g4dd-3t1OuUj",
        "outputId": "31785d2f-9711-44c3-d727-a0d895af0e74",
        "colab": {
          "base_uri": "https://localhost:8080/"
        }
      },
      "source": [
        "data[cat_var].isnull().sum().sort_values().tail(10)"
      ],
      "execution_count": 35,
      "outputs": [
        {
          "output_type": "execute_result",
          "data": {
            "text/plain": [
              "grade                             0\n",
              "issue_d                           0\n",
              "title                            33\n",
              "last_credit_pull_d               50\n",
              "last_pymnt_d                   8862\n",
              "emp_length                    43061\n",
              "emp_title                     49443\n",
              "next_pymnt_d                 252971\n",
              "desc                         734157\n",
              "verification_status_joint    855527\n",
              "dtype: int64"
            ]
          },
          "metadata": {
            "tags": []
          },
          "execution_count": 35
        }
      ]
    },
    {
      "cell_type": "code",
      "metadata": {
        "id": "Y2SmN5nasAkL",
        "outputId": "41c119e9-4b64-458c-f4ad-6000a2670fb0",
        "colab": {
          "base_uri": "https://localhost:8080/"
        }
      },
      "source": [
        "data1['emp_length'].value_counts()"
      ],
      "execution_count": 36,
      "outputs": [
        {
          "output_type": "execute_result",
          "data": {
            "text/plain": [
              "10+ years    282090\n",
              "2 years       75986\n",
              "< 1 year      67597\n",
              "3 years       67392\n",
              "1 year        54855\n",
              "5 years       53812\n",
              "4 years       50643\n",
              "7 years       43204\n",
              "8 years       42421\n",
              "6 years       41446\n",
              "9 years       33462\n",
              "Name: emp_length, dtype: int64"
            ]
          },
          "metadata": {
            "tags": []
          },
          "execution_count": 36
        }
      ]
    },
    {
      "cell_type": "code",
      "metadata": {
        "id": "q9dUVsvFSHbv"
      },
      "source": [
        "data1['emp_length'].replace({'10+ years':'11 years','< 1 year':\"0 years\"},inplace=True)"
      ],
      "execution_count": 37,
      "outputs": []
    },
    {
      "cell_type": "code",
      "metadata": {
        "id": "DdSDQu9STWm0",
        "outputId": "8ee07b13-7e7a-4611-833e-c137bf7bd0be",
        "colab": {
          "base_uri": "https://localhost:8080/"
        }
      },
      "source": [
        "data1['emp_length'].value_counts()\n"
      ],
      "execution_count": 38,
      "outputs": [
        {
          "output_type": "execute_result",
          "data": {
            "text/plain": [
              "11 years    282090\n",
              "2 years      75986\n",
              "0 years      67597\n",
              "3 years      67392\n",
              "1 year       54855\n",
              "5 years      53812\n",
              "4 years      50643\n",
              "7 years      43204\n",
              "8 years      42421\n",
              "6 years      41446\n",
              "9 years      33462\n",
              "Name: emp_length, dtype: int64"
            ]
          },
          "metadata": {
            "tags": []
          },
          "execution_count": 38
        }
      ]
    },
    {
      "cell_type": "code",
      "metadata": {
        "id": "TE4F096Uy-h1",
        "outputId": "2d8eb329-b169-4d78-fe45-065f954fd3dc",
        "colab": {
          "base_uri": "https://localhost:8080/"
        }
      },
      "source": [
        "(data1['emp_length'].str.split(\" \",expand=True)[0]).median()                    #median is 6 years"
      ],
      "execution_count": 39,
      "outputs": [
        {
          "output_type": "execute_result",
          "data": {
            "text/plain": [
              "6.0"
            ]
          },
          "metadata": {
            "tags": []
          },
          "execution_count": 39
        }
      ]
    },
    {
      "cell_type": "code",
      "metadata": {
        "id": "-QlH5lfryi8U",
        "outputId": "ebbb7bfe-83c7-4efd-88d8-4382533bce03",
        "colab": {
          "base_uri": "https://localhost:8080/"
        }
      },
      "source": [
        "data1['emp_length'].fillna(\"6 years\",inplace=True)\n",
        "data1['emp_length'].isnull().sum()"
      ],
      "execution_count": 40,
      "outputs": [
        {
          "output_type": "execute_result",
          "data": {
            "text/plain": [
              "0"
            ]
          },
          "metadata": {
            "tags": []
          },
          "execution_count": 40
        }
      ]
    },
    {
      "cell_type": "code",
      "metadata": {
        "id": "XXH0PULtztCb"
      },
      "source": [
        "data1['emp_length'].replace({'11 years':'10+ years','0 years':\"< 1 year\"},inplace=True)"
      ],
      "execution_count": 41,
      "outputs": []
    },
    {
      "cell_type": "code",
      "metadata": {
        "id": "lCQBT6UW0AZ4",
        "outputId": "20758f1e-c5a1-4e80-8819-f69e1d95ca75",
        "colab": {
          "base_uri": "https://localhost:8080/"
        }
      },
      "source": [
        "data1['emp_length'].value_counts()"
      ],
      "execution_count": 42,
      "outputs": [
        {
          "output_type": "execute_result",
          "data": {
            "text/plain": [
              "10+ years    282090\n",
              "6 years       84507\n",
              "2 years       75986\n",
              "< 1 year      67597\n",
              "3 years       67392\n",
              "1 year        54855\n",
              "5 years       53812\n",
              "4 years       50643\n",
              "7 years       43204\n",
              "8 years       42421\n",
              "9 years       33462\n",
              "Name: emp_length, dtype: int64"
            ]
          },
          "metadata": {
            "tags": []
          },
          "execution_count": 42
        }
      ]
    },
    {
      "cell_type": "code",
      "metadata": {
        "id": "zY4r1TmfAwBg",
        "outputId": "5b8013a1-6454-40a2-95bb-5bac2f875b1f",
        "colab": {
          "base_uri": "https://localhost:8080/"
        }
      },
      "source": [
        "data1['title'].value_counts().tail(50)"
      ],
      "execution_count": 43,
      "outputs": [
        {
          "output_type": "execute_result",
          "data": {
            "text/plain": [
              "Debtfreein2016                              1\n",
              "Military Deuce                              1\n",
              "Discover Card                               1\n",
              "beat debt now                               1\n",
              "Moving/Consolidation Loan                   1\n",
              "BACKONTRACK                                 1\n",
              "Debt consolidation, wedding                 1\n",
              "Favor                                       1\n",
              "Credit card debt: Never again!              1\n",
              "EASYDAY                                     1\n",
              "Debt Consolidation 5yr plan                 1\n",
              "Debt buster-freedom from banks              1\n",
              "debtdiet                                    1\n",
              "Pay off the credit cards                    1\n",
              "Pawn Shop- Top 10 business of 2009!         1\n",
              "Smarten Up                                  1\n",
              "PAYOFF A LOAN                               1\n",
              "Paying for my Youthful Indiscretions...     1\n",
              "My debt considation and out of debt plan    1\n",
              "Finally Paying of My Credit Card Debt       1\n",
              "CCStop                                      1\n",
              "Credit Card Smackdown at Lower Int Rate     1\n",
              "RECON                                       1\n",
              "DebtCon2                                    1\n",
              "FloridaHomeRepair                           1\n",
              "dolphins                                    1\n",
              "Time for a change                           1\n",
              "Life simplification                         1\n",
              "Debt conssolidation                         1\n",
              "payoff goodyear                             1\n",
              "Say no to credit card debt                  1\n",
              "Dentist and car                             1\n",
              "Credi card Loan                             1\n",
              "today s the day                             1\n",
              "Necessities                                 1\n",
              "my time                                     1\n",
              "My Home Improvement Loan 2013               1\n",
              "Future Expense                              1\n",
              "Combining Debt                              1\n",
              "Out of luck loan                            1\n",
              "Nice to get                                 1\n",
              "Frank's Loan                                1\n",
              "Debit consildation                          1\n",
              "BusinessInvest                              1\n",
              "Off High Interest                           1\n",
              "half interest cc card loan                  1\n",
              "Pay Of Bills                                1\n",
              "Getting things together                     1\n",
              "Bill consolidation/start over               1\n",
              "Freedom from Bad Choices                    1\n",
              "Name: title, dtype: int64"
            ]
          },
          "metadata": {
            "tags": []
          },
          "execution_count": 43
        }
      ]
    },
    {
      "cell_type": "code",
      "metadata": {
        "id": "SFn_gw9RDM2I",
        "outputId": "ef124eb9-8608-4014-b529-d4824e87d798",
        "colab": {
          "base_uri": "https://localhost:8080/"
        }
      },
      "source": [
        "data1['title'].value_counts()                            #drop title"
      ],
      "execution_count": 44,
      "outputs": [
        {
          "output_type": "execute_result",
          "data": {
            "text/plain": [
              "Debt consolidation               398089\n",
              "Credit card refinancing          159228\n",
              "Home improvement                  38633\n",
              "Other                             30522\n",
              "Debt Consolidation                15469\n",
              "                                  ...  \n",
              "half interest cc card loan            1\n",
              "Pay Of Bills                          1\n",
              "Getting things together               1\n",
              "Bill consolidation/start over         1\n",
              "Freedom from Bad Choices              1\n",
              "Name: title, Length: 60991, dtype: int64"
            ]
          },
          "metadata": {
            "tags": []
          },
          "execution_count": 44
        }
      ]
    },
    {
      "cell_type": "code",
      "metadata": {
        "id": "lkmq_V4nyXST",
        "outputId": "0a97a4b6-259c-4178-e679-165955f546ea",
        "colab": {
          "base_uri": "https://localhost:8080/"
        }
      },
      "source": [
        "data1['last_pymnt_d'].value_counts()"
      ],
      "execution_count": 45,
      "outputs": [
        {
          "output_type": "execute_result",
          "data": {
            "text/plain": [
              "Jan-2016    467510\n",
              "Dec-2015    142783\n",
              "Jul-2015     14472\n",
              "Aug-2015     13010\n",
              "Oct-2015     12503\n",
              "             ...  \n",
              "Nov-2008        10\n",
              "Jun-2008        10\n",
              "Mar-2008         5\n",
              "Jan-2008         4\n",
              "Feb-2008         1\n",
              "Name: last_pymnt_d, Length: 97, dtype: int64"
            ]
          },
          "metadata": {
            "tags": []
          },
          "execution_count": 45
        }
      ]
    },
    {
      "cell_type": "code",
      "metadata": {
        "id": "uxTaOSdYy5ln",
        "outputId": "c81ece8a-9df4-409c-cf86-ac2c397a7643",
        "colab": {
          "base_uri": "https://localhost:8080/"
        }
      },
      "source": [
        "data1['issue_d'].value_counts()"
      ],
      "execution_count": 46,
      "outputs": [
        {
          "output_type": "execute_result",
          "data": {
            "text/plain": [
              "Oct-2015    48212\n",
              "Jul-2015    44906\n",
              "Oct-2014    37442\n",
              "Nov-2015    37211\n",
              "Dec-2015    35638\n",
              "            ...  \n",
              "Aug-2007       33\n",
              "Sep-2008       32\n",
              "Jul-2007       30\n",
              "Sep-2007       18\n",
              "Jun-2007        1\n",
              "Name: issue_d, Length: 103, dtype: int64"
            ]
          },
          "metadata": {
            "tags": []
          },
          "execution_count": 46
        }
      ]
    },
    {
      "cell_type": "code",
      "metadata": {
        "id": "ty9eo0vF2XtI"
      },
      "source": [
        "data['last_pymnt_d'].fillna('XYZ',inplace=True)"
      ],
      "execution_count": 47,
      "outputs": []
    },
    {
      "cell_type": "code",
      "metadata": {
        "id": "M8z1RKwLzYLV"
      },
      "source": [
        "temp1=pd.DataFrame(data.groupby(['issue_d','term'])['last_pymnt_d'].value_counts())"
      ],
      "execution_count": 48,
      "outputs": []
    },
    {
      "cell_type": "code",
      "metadata": {
        "id": "87BwSBCY2fGI"
      },
      "source": [
        "pd.set_option('display.max_rows',20)"
      ],
      "execution_count": 49,
      "outputs": []
    },
    {
      "cell_type": "code",
      "metadata": {
        "id": "ZvxvVSAh1L7A",
        "outputId": "3e7f656e-8537-44da-dda2-825d80bbfd23",
        "colab": {
          "base_uri": "https://localhost:8080/",
          "height": 431
        }
      },
      "source": [
        "temp1"
      ],
      "execution_count": 50,
      "outputs": [
        {
          "output_type": "execute_result",
          "data": {
            "text/html": [
              "<div>\n",
              "<style scoped>\n",
              "    .dataframe tbody tr th:only-of-type {\n",
              "        vertical-align: middle;\n",
              "    }\n",
              "\n",
              "    .dataframe tbody tr th {\n",
              "        vertical-align: top;\n",
              "    }\n",
              "\n",
              "    .dataframe thead th {\n",
              "        text-align: right;\n",
              "    }\n",
              "</style>\n",
              "<table border=\"1\" class=\"dataframe\">\n",
              "  <thead>\n",
              "    <tr style=\"text-align: right;\">\n",
              "      <th></th>\n",
              "      <th></th>\n",
              "      <th></th>\n",
              "      <th>last_pymnt_d</th>\n",
              "    </tr>\n",
              "    <tr>\n",
              "      <th>issue_d</th>\n",
              "      <th>term</th>\n",
              "      <th>last_pymnt_d</th>\n",
              "      <th></th>\n",
              "    </tr>\n",
              "  </thead>\n",
              "  <tbody>\n",
              "    <tr>\n",
              "      <th rowspan=\"5\" valign=\"top\">Apr-2008</th>\n",
              "      <th rowspan=\"5\" valign=\"top\">36 months</th>\n",
              "      <th>Apr-2011</th>\n",
              "      <td>67</td>\n",
              "    </tr>\n",
              "    <tr>\n",
              "      <th>May-2011</th>\n",
              "      <td>13</td>\n",
              "    </tr>\n",
              "    <tr>\n",
              "      <th>Apr-2009</th>\n",
              "      <td>5</td>\n",
              "    </tr>\n",
              "    <tr>\n",
              "      <th>Mar-2011</th>\n",
              "      <td>5</td>\n",
              "    </tr>\n",
              "    <tr>\n",
              "      <th>Feb-2011</th>\n",
              "      <td>4</td>\n",
              "    </tr>\n",
              "    <tr>\n",
              "      <th>...</th>\n",
              "      <th>...</th>\n",
              "      <th>...</th>\n",
              "      <td>...</td>\n",
              "    </tr>\n",
              "    <tr>\n",
              "      <th rowspan=\"5\" valign=\"top\">Sep-2015</th>\n",
              "      <th rowspan=\"5\" valign=\"top\">60 months</th>\n",
              "      <th>Jan-2016</th>\n",
              "      <td>7197</td>\n",
              "    </tr>\n",
              "    <tr>\n",
              "      <th>Dec-2015</th>\n",
              "      <td>2288</td>\n",
              "    </tr>\n",
              "    <tr>\n",
              "      <th>Oct-2015</th>\n",
              "      <td>97</td>\n",
              "    </tr>\n",
              "    <tr>\n",
              "      <th>Nov-2015</th>\n",
              "      <td>65</td>\n",
              "    </tr>\n",
              "    <tr>\n",
              "      <th>Sep-2015</th>\n",
              "      <td>44</td>\n",
              "    </tr>\n",
              "  </tbody>\n",
              "</table>\n",
              "<p>5541 rows × 1 columns</p>\n",
              "</div>"
            ],
            "text/plain": [
              "                                  last_pymnt_d\n",
              "issue_d  term       last_pymnt_d              \n",
              "Apr-2008  36 months Apr-2011                67\n",
              "                    May-2011                13\n",
              "                    Apr-2009                 5\n",
              "                    Mar-2011                 5\n",
              "                    Feb-2011                 4\n",
              "...                                        ...\n",
              "Sep-2015  60 months Jan-2016              7197\n",
              "                    Dec-2015              2288\n",
              "                    Oct-2015                97\n",
              "                    Nov-2015                65\n",
              "                    Sep-2015                44\n",
              "\n",
              "[5541 rows x 1 columns]"
            ]
          },
          "metadata": {
            "tags": []
          },
          "execution_count": 50
        }
      ]
    },
    {
      "cell_type": "code",
      "metadata": {
        "id": "4TO-oOd71Q6g",
        "outputId": "9db2bddc-30ad-4a80-9b0b-d772852bd23a",
        "colab": {
          "base_uri": "https://localhost:8080/"
        }
      },
      "source": [
        "temp1.index[75]"
      ],
      "execution_count": 51,
      "outputs": [
        {
          "output_type": "execute_result",
          "data": {
            "text/plain": [
              "('Apr-2009', ' 36 months', 'XYZ')"
            ]
          },
          "metadata": {
            "tags": []
          },
          "execution_count": 51
        }
      ]
    },
    {
      "cell_type": "code",
      "metadata": {
        "id": "d3yD2pa34Ua0",
        "outputId": "597d1632-0422-4763-c293-0d54bb026d2c",
        "colab": {
          "base_uri": "https://localhost:8080/",
          "height": 35
        }
      },
      "source": [
        "temp1.index[0][2]"
      ],
      "execution_count": 52,
      "outputs": [
        {
          "output_type": "execute_result",
          "data": {
            "application/vnd.google.colaboratory.intrinsic+json": {
              "type": "string"
            },
            "text/plain": [
              "'Apr-2011'"
            ]
          },
          "metadata": {
            "tags": []
          },
          "execution_count": 52
        }
      ]
    },
    {
      "cell_type": "code",
      "metadata": {
        "id": "48SNn1UH4Xbu"
      },
      "source": [
        "\n",
        "index=[]\n",
        "for i in range(temp1.shape[0]):\n",
        "  if (temp1.index[i][2]==\"XYZ\"):\n",
        "    index.append(i)\n"
      ],
      "execution_count": 53,
      "outputs": []
    },
    {
      "cell_type": "code",
      "metadata": {
        "id": "nm1pEaNy7WG4",
        "outputId": "dd7fb561-8a9e-48db-8a0a-96629eca3f34",
        "colab": {
          "base_uri": "https://localhost:8080/"
        }
      },
      "source": [
        "index[0]"
      ],
      "execution_count": 54,
      "outputs": [
        {
          "output_type": "execute_result",
          "data": {
            "text/plain": [
              "75"
            ]
          },
          "metadata": {
            "tags": []
          },
          "execution_count": 54
        }
      ]
    },
    {
      "cell_type": "code",
      "metadata": {
        "id": "fpgyiJGJ7y8M",
        "outputId": "6e76c82b-c5f0-491a-b2c3-57e0ad82e453",
        "colab": {
          "base_uri": "https://localhost:8080/"
        }
      },
      "source": [
        "print(return_index(data1,'issue_d'),return_index(data1,'term'),return_index(data1,'last_pymnt_d'))\n"
      ],
      "execution_count": 55,
      "outputs": [
        {
          "output_type": "stream",
          "text": [
            "15 5 42\n"
          ],
          "name": "stdout"
        }
      ]
    },
    {
      "cell_type": "code",
      "metadata": {
        "id": "Ta3j7O1u7e-h",
        "outputId": "68ea53bf-f2ae-483e-a97b-e50d75cf7762",
        "colab": {
          "base_uri": "https://localhost:8080/",
          "height": 431
        }
      },
      "source": [
        "temp1.iloc[index,:]"
      ],
      "execution_count": 56,
      "outputs": [
        {
          "output_type": "execute_result",
          "data": {
            "text/html": [
              "<div>\n",
              "<style scoped>\n",
              "    .dataframe tbody tr th:only-of-type {\n",
              "        vertical-align: middle;\n",
              "    }\n",
              "\n",
              "    .dataframe tbody tr th {\n",
              "        vertical-align: top;\n",
              "    }\n",
              "\n",
              "    .dataframe thead th {\n",
              "        text-align: right;\n",
              "    }\n",
              "</style>\n",
              "<table border=\"1\" class=\"dataframe\">\n",
              "  <thead>\n",
              "    <tr style=\"text-align: right;\">\n",
              "      <th></th>\n",
              "      <th></th>\n",
              "      <th></th>\n",
              "      <th>last_pymnt_d</th>\n",
              "    </tr>\n",
              "    <tr>\n",
              "      <th>issue_d</th>\n",
              "      <th>term</th>\n",
              "      <th>last_pymnt_d</th>\n",
              "      <th></th>\n",
              "    </tr>\n",
              "  </thead>\n",
              "  <tbody>\n",
              "    <tr>\n",
              "      <th>Apr-2009</th>\n",
              "      <th>36 months</th>\n",
              "      <th>XYZ</th>\n",
              "      <td>1</td>\n",
              "    </tr>\n",
              "    <tr>\n",
              "      <th>Apr-2010</th>\n",
              "      <th>36 months</th>\n",
              "      <th>XYZ</th>\n",
              "      <td>1</td>\n",
              "    </tr>\n",
              "    <tr>\n",
              "      <th rowspan=\"2\" valign=\"top\">Apr-2011</th>\n",
              "      <th>36 months</th>\n",
              "      <th>XYZ</th>\n",
              "      <td>2</td>\n",
              "    </tr>\n",
              "    <tr>\n",
              "      <th>60 months</th>\n",
              "      <th>XYZ</th>\n",
              "      <td>1</td>\n",
              "    </tr>\n",
              "    <tr>\n",
              "      <th>Apr-2012</th>\n",
              "      <th>36 months</th>\n",
              "      <th>XYZ</th>\n",
              "      <td>2</td>\n",
              "    </tr>\n",
              "    <tr>\n",
              "      <th>...</th>\n",
              "      <th>...</th>\n",
              "      <th>...</th>\n",
              "      <td>...</td>\n",
              "    </tr>\n",
              "    <tr>\n",
              "      <th rowspan=\"2\" valign=\"top\">Sep-2013</th>\n",
              "      <th>36 months</th>\n",
              "      <th>XYZ</th>\n",
              "      <td>14</td>\n",
              "    </tr>\n",
              "    <tr>\n",
              "      <th>60 months</th>\n",
              "      <th>XYZ</th>\n",
              "      <td>1</td>\n",
              "    </tr>\n",
              "    <tr>\n",
              "      <th rowspan=\"2\" valign=\"top\">Sep-2014</th>\n",
              "      <th>36 months</th>\n",
              "      <th>XYZ</th>\n",
              "      <td>3</td>\n",
              "    </tr>\n",
              "    <tr>\n",
              "      <th>60 months</th>\n",
              "      <th>XYZ</th>\n",
              "      <td>5</td>\n",
              "    </tr>\n",
              "    <tr>\n",
              "      <th>Sep-2015</th>\n",
              "      <th>36 months</th>\n",
              "      <th>XYZ</th>\n",
              "      <td>1</td>\n",
              "    </tr>\n",
              "  </tbody>\n",
              "</table>\n",
              "<p>116 rows × 1 columns</p>\n",
              "</div>"
            ],
            "text/plain": [
              "                                  last_pymnt_d\n",
              "issue_d  term       last_pymnt_d              \n",
              "Apr-2009  36 months XYZ                      1\n",
              "Apr-2010  36 months XYZ                      1\n",
              "Apr-2011  36 months XYZ                      2\n",
              "          60 months XYZ                      1\n",
              "Apr-2012  36 months XYZ                      2\n",
              "...                                        ...\n",
              "Sep-2013  36 months XYZ                     14\n",
              "          60 months XYZ                      1\n",
              "Sep-2014  36 months XYZ                      3\n",
              "          60 months XYZ                      5\n",
              "Sep-2015  36 months XYZ                      1\n",
              "\n",
              "[116 rows x 1 columns]"
            ]
          },
          "metadata": {
            "tags": []
          },
          "execution_count": 56
        }
      ]
    },
    {
      "cell_type": "code",
      "metadata": {
        "id": "vatZY9ouFAxZ",
        "outputId": "9d6e059e-db7b-44e0-8122-8677f8c2a246",
        "colab": {
          "base_uri": "https://localhost:8080/"
        }
      },
      "source": [
        "data1['last_pymnt_d']=data1.groupby(['issue_d','term']).last_pymnt_d.apply(lambda x : x.fillna(x.mode()[0]))\n",
        "data1.last_pymnt_d.isnull().sum()"
      ],
      "execution_count": 57,
      "outputs": [
        {
          "output_type": "execute_result",
          "data": {
            "text/plain": [
              "0"
            ]
          },
          "metadata": {
            "tags": []
          },
          "execution_count": 57
        }
      ]
    },
    {
      "cell_type": "code",
      "metadata": {
        "id": "GNAkmcZmRyUN",
        "outputId": "e32eab62-94be-4439-fb98-e65dbe0895ec",
        "colab": {
          "base_uri": "https://localhost:8080/"
        }
      },
      "source": [
        "data1['last_credit_pull_d'].value_counts()"
      ],
      "execution_count": 58,
      "outputs": [
        {
          "output_type": "execute_result",
          "data": {
            "text/plain": [
              "Jan-2016    701687\n",
              "Dec-2015     19039\n",
              "Nov-2015     11388\n",
              "Oct-2015     10290\n",
              "Sep-2015      9985\n",
              "             ...  \n",
              "Jun-2008         1\n",
              "Jul-2007         1\n",
              "May-2008         1\n",
              "Jul-2008         1\n",
              "May-2007         1\n",
              "Name: last_credit_pull_d, Length: 102, dtype: int64"
            ]
          },
          "metadata": {
            "tags": []
          },
          "execution_count": 58
        }
      ]
    },
    {
      "cell_type": "code",
      "metadata": {
        "id": "QEJykFoiUIfn",
        "outputId": "f3a362f1-f9f6-4207-ee11-1d2dbe431d16",
        "colab": {
          "base_uri": "https://localhost:8080/"
        }
      },
      "source": [
        "data1.last_credit_pull_d.isnull().sum()"
      ],
      "execution_count": 59,
      "outputs": [
        {
          "output_type": "execute_result",
          "data": {
            "text/plain": [
              "50"
            ]
          },
          "metadata": {
            "tags": []
          },
          "execution_count": 59
        }
      ]
    },
    {
      "cell_type": "code",
      "metadata": {
        "id": "t5V6i-ELUQ6r",
        "outputId": "042c1fd8-397c-4a8f-fddc-668588c7d4c4",
        "colab": {
          "base_uri": "https://localhost:8080/"
        }
      },
      "source": [
        "data1.shape"
      ],
      "execution_count": 60,
      "outputs": [
        {
          "output_type": "execute_result",
          "data": {
            "text/plain": [
              "(855969, 69)"
            ]
          },
          "metadata": {
            "tags": []
          },
          "execution_count": 60
        }
      ]
    },
    {
      "cell_type": "code",
      "metadata": {
        "id": "I1r7IacUUWzl",
        "outputId": "9aca07e1-536e-4a8f-ba0a-b2e7aecc895f",
        "colab": {
          "base_uri": "https://localhost:8080/"
        }
      },
      "source": [
        "data1=data1.dropna(subset=['last_credit_pull_d'])\n",
        "data1.shape"
      ],
      "execution_count": 61,
      "outputs": [
        {
          "output_type": "execute_result",
          "data": {
            "text/plain": [
              "(855919, 69)"
            ]
          },
          "metadata": {
            "tags": []
          },
          "execution_count": 61
        }
      ]
    },
    {
      "cell_type": "code",
      "metadata": {
        "id": "5lfXir7dW6eX",
        "outputId": "0f117c06-ff42-44b7-fbb9-d939d60c5451",
        "colab": {
          "base_uri": "https://localhost:8080/"
        }
      },
      "source": [
        "data1['emp_title'].value_counts()"
      ],
      "execution_count": 62,
      "outputs": [
        {
          "output_type": "execute_result",
          "data": {
            "text/plain": [
              "Teacher                             12964\n",
              "Manager                             10821\n",
              "Registered Nurse                     5341\n",
              "RN                                   5181\n",
              "Owner                                5156\n",
              "                                    ...  \n",
              "Miami Dade County Public schools        1\n",
              "Kevin Davis Insurance                   1\n",
              "Tustin Unified                          1\n",
              "Alpha natural resources                 1\n",
              "Factory work                            1\n",
              "Name: emp_title, Length: 290896, dtype: int64"
            ]
          },
          "metadata": {
            "tags": []
          },
          "execution_count": 62
        }
      ]
    },
    {
      "cell_type": "code",
      "metadata": {
        "id": "PPbGkcFNXnTS"
      },
      "source": [
        "data1['emp_title'].fillna('Unknown',inplace=True)"
      ],
      "execution_count": 63,
      "outputs": []
    },
    {
      "cell_type": "code",
      "metadata": {
        "id": "hGqG7dcrqDVL",
        "outputId": "e99686b4-e067-4c42-9868-533540e8e1bc",
        "colab": {
          "base_uri": "https://localhost:8080/"
        }
      },
      "source": [
        "data1=data1.drop(['title'],axis=1)\n",
        "data1.shape"
      ],
      "execution_count": 64,
      "outputs": [
        {
          "output_type": "execute_result",
          "data": {
            "text/plain": [
              "(855919, 68)"
            ]
          },
          "metadata": {
            "tags": []
          },
          "execution_count": 64
        }
      ]
    },
    {
      "cell_type": "code",
      "metadata": {
        "id": "cRq54iL4UtZq",
        "outputId": "f4ddc55b-3df6-4c56-eb5d-ecb077f42d16",
        "colab": {
          "base_uri": "https://localhost:8080/"
        }
      },
      "source": [
        "cat_var=[]\n",
        "num_var=[]\n",
        "for i in data1.columns:\n",
        "  if data1[i].dtype=='object':\n",
        "    cat_var.append(i)\n",
        "  else:\n",
        "    num_var.append(i)\n",
        "\n",
        "print(len(cat_var),len(num_var))"
      ],
      "execution_count": 65,
      "outputs": [
        {
          "output_type": "stream",
          "text": [
            "18 50\n"
          ],
          "name": "stdout"
        }
      ]
    },
    {
      "cell_type": "code",
      "metadata": {
        "id": "fEEiIsDaVgW5",
        "outputId": "26c582af-22b2-436b-9385-4d4ee6c65dc0",
        "colab": {
          "base_uri": "https://localhost:8080/"
        }
      },
      "source": [
        "data1[cat_var].isnull().sum()"
      ],
      "execution_count": 66,
      "outputs": [
        {
          "output_type": "execute_result",
          "data": {
            "text/plain": [
              "term                        0\n",
              "grade                       0\n",
              "sub_grade                   0\n",
              "emp_title                   0\n",
              "emp_length                  0\n",
              "home_ownership              0\n",
              "verification_status         0\n",
              "issue_d                     0\n",
              "pymnt_plan                  0\n",
              "purpose                     0\n",
              "zip_code                    0\n",
              "addr_state                  0\n",
              "earliest_cr_line            0\n",
              "initial_list_status         0\n",
              "last_pymnt_d                0\n",
              "next_pymnt_d           252950\n",
              "last_credit_pull_d          0\n",
              "application_type            0\n",
              "dtype: int64"
            ]
          },
          "metadata": {
            "tags": []
          },
          "execution_count": 66
        }
      ]
    },
    {
      "cell_type": "code",
      "metadata": {
        "id": "EQl54eSx2EUL",
        "outputId": "4bea8db8-e5ea-4a4f-8740-fda624b50339",
        "colab": {
          "base_uri": "https://localhost:8080/"
        }
      },
      "source": [
        "data1['next_pymnt_d'].value_counts()"
      ],
      "execution_count": 67,
      "outputs": [
        {
          "output_type": "execute_result",
          "data": {
            "text/plain": [
              "Feb-2016    534067\n",
              "Jan-2016     68836\n",
              "Mar-2016        66\n",
              "Name: next_pymnt_d, dtype: int64"
            ]
          },
          "metadata": {
            "tags": []
          },
          "execution_count": 67
        }
      ]
    },
    {
      "cell_type": "code",
      "metadata": {
        "id": "qkoVdFbN5EHE"
      },
      "source": [
        "#Values are missing at random\n",
        "data1['next_pymnt_d'].fillna(method='ffill',inplace=True)"
      ],
      "execution_count": 68,
      "outputs": []
    },
    {
      "cell_type": "code",
      "metadata": {
        "id": "vnD4VL-X7zCU",
        "outputId": "6aea086d-815b-40c7-c5e0-b189200c7123",
        "colab": {
          "base_uri": "https://localhost:8080/"
        }
      },
      "source": [
        "data1['next_pymnt_d'].isnull().sum()"
      ],
      "execution_count": 69,
      "outputs": [
        {
          "output_type": "execute_result",
          "data": {
            "text/plain": [
              "4"
            ]
          },
          "metadata": {
            "tags": []
          },
          "execution_count": 69
        }
      ]
    },
    {
      "cell_type": "code",
      "metadata": {
        "id": "C3EGZzNz78Ua",
        "outputId": "b5de0820-ec4e-4a52-a629-4f28706832c6",
        "colab": {
          "base_uri": "https://localhost:8080/",
          "height": 270
        }
      },
      "source": [
        "data1.loc[data1['next_pymnt_d'].isnull()]"
      ],
      "execution_count": 70,
      "outputs": [
        {
          "output_type": "execute_result",
          "data": {
            "text/html": [
              "<div>\n",
              "<style scoped>\n",
              "    .dataframe tbody tr th:only-of-type {\n",
              "        vertical-align: middle;\n",
              "    }\n",
              "\n",
              "    .dataframe tbody tr th {\n",
              "        vertical-align: top;\n",
              "    }\n",
              "\n",
              "    .dataframe thead th {\n",
              "        text-align: right;\n",
              "    }\n",
              "</style>\n",
              "<table border=\"1\" class=\"dataframe\">\n",
              "  <thead>\n",
              "    <tr style=\"text-align: right;\">\n",
              "      <th></th>\n",
              "      <th>id</th>\n",
              "      <th>member_id</th>\n",
              "      <th>loan_amnt</th>\n",
              "      <th>funded_amnt</th>\n",
              "      <th>funded_amnt_inv</th>\n",
              "      <th>term</th>\n",
              "      <th>int_rate</th>\n",
              "      <th>installment</th>\n",
              "      <th>grade</th>\n",
              "      <th>sub_grade</th>\n",
              "      <th>emp_title</th>\n",
              "      <th>emp_length</th>\n",
              "      <th>home_ownership</th>\n",
              "      <th>annual_inc</th>\n",
              "      <th>verification_status</th>\n",
              "      <th>issue_d</th>\n",
              "      <th>pymnt_plan</th>\n",
              "      <th>purpose</th>\n",
              "      <th>zip_code</th>\n",
              "      <th>addr_state</th>\n",
              "      <th>dti</th>\n",
              "      <th>delinq_2yrs</th>\n",
              "      <th>earliest_cr_line</th>\n",
              "      <th>inq_last_6mths</th>\n",
              "      <th>mths_since_last_delinq</th>\n",
              "      <th>mths_since_last_record</th>\n",
              "      <th>open_acc</th>\n",
              "      <th>pub_rec</th>\n",
              "      <th>revol_bal</th>\n",
              "      <th>revol_util</th>\n",
              "      <th>total_acc</th>\n",
              "      <th>initial_list_status</th>\n",
              "      <th>out_prncp</th>\n",
              "      <th>out_prncp_inv</th>\n",
              "      <th>total_pymnt</th>\n",
              "      <th>total_pymnt_inv</th>\n",
              "      <th>total_rec_prncp</th>\n",
              "      <th>total_rec_int</th>\n",
              "      <th>total_rec_late_fee</th>\n",
              "      <th>recoveries</th>\n",
              "      <th>collection_recovery_fee</th>\n",
              "      <th>last_pymnt_d</th>\n",
              "      <th>last_pymnt_amnt</th>\n",
              "      <th>next_pymnt_d</th>\n",
              "      <th>last_credit_pull_d</th>\n",
              "      <th>collections_12_mths_ex_med</th>\n",
              "      <th>mths_since_last_major_derog</th>\n",
              "      <th>policy_code</th>\n",
              "      <th>application_type</th>\n",
              "      <th>acc_now_delinq</th>\n",
              "      <th>tot_coll_amt</th>\n",
              "      <th>tot_cur_bal</th>\n",
              "      <th>open_acc_6m</th>\n",
              "      <th>open_il_6m</th>\n",
              "      <th>open_il_12m</th>\n",
              "      <th>open_il_24m</th>\n",
              "      <th>mths_since_rcnt_il</th>\n",
              "      <th>total_bal_il</th>\n",
              "      <th>il_util</th>\n",
              "      <th>open_rv_12m</th>\n",
              "      <th>open_rv_24m</th>\n",
              "      <th>max_bal_bc</th>\n",
              "      <th>all_util</th>\n",
              "      <th>total_rev_hi_lim</th>\n",
              "      <th>inq_fi</th>\n",
              "      <th>total_cu_tl</th>\n",
              "      <th>inq_last_12m</th>\n",
              "      <th>default_ind</th>\n",
              "    </tr>\n",
              "  </thead>\n",
              "  <tbody>\n",
              "    <tr>\n",
              "      <th>0</th>\n",
              "      <td>1077501</td>\n",
              "      <td>1296599</td>\n",
              "      <td>5000.0</td>\n",
              "      <td>5000.0</td>\n",
              "      <td>4975.0</td>\n",
              "      <td>36 months</td>\n",
              "      <td>10.65</td>\n",
              "      <td>162.87</td>\n",
              "      <td>B</td>\n",
              "      <td>B2</td>\n",
              "      <td>Unknown</td>\n",
              "      <td>10+ years</td>\n",
              "      <td>RENT</td>\n",
              "      <td>24000.0</td>\n",
              "      <td>Verified</td>\n",
              "      <td>Dec-2011</td>\n",
              "      <td>n</td>\n",
              "      <td>credit_card</td>\n",
              "      <td>860xx</td>\n",
              "      <td>AZ</td>\n",
              "      <td>27.65</td>\n",
              "      <td>0.0</td>\n",
              "      <td>Jan-1985</td>\n",
              "      <td>1.0</td>\n",
              "      <td>NaN</td>\n",
              "      <td>NaN</td>\n",
              "      <td>3.0</td>\n",
              "      <td>0.0</td>\n",
              "      <td>13648.0</td>\n",
              "      <td>83.7</td>\n",
              "      <td>9.0</td>\n",
              "      <td>f</td>\n",
              "      <td>0.0</td>\n",
              "      <td>0.0</td>\n",
              "      <td>5861.071414</td>\n",
              "      <td>5831.78</td>\n",
              "      <td>5000.00</td>\n",
              "      <td>861.07</td>\n",
              "      <td>0.00</td>\n",
              "      <td>0.00</td>\n",
              "      <td>0.00</td>\n",
              "      <td>Jan-2015</td>\n",
              "      <td>171.62</td>\n",
              "      <td>NaN</td>\n",
              "      <td>Jan-2016</td>\n",
              "      <td>0.0</td>\n",
              "      <td>NaN</td>\n",
              "      <td>1.0</td>\n",
              "      <td>INDIVIDUAL</td>\n",
              "      <td>0.0</td>\n",
              "      <td>NaN</td>\n",
              "      <td>NaN</td>\n",
              "      <td>NaN</td>\n",
              "      <td>NaN</td>\n",
              "      <td>NaN</td>\n",
              "      <td>NaN</td>\n",
              "      <td>NaN</td>\n",
              "      <td>NaN</td>\n",
              "      <td>NaN</td>\n",
              "      <td>NaN</td>\n",
              "      <td>NaN</td>\n",
              "      <td>NaN</td>\n",
              "      <td>NaN</td>\n",
              "      <td>NaN</td>\n",
              "      <td>NaN</td>\n",
              "      <td>NaN</td>\n",
              "      <td>NaN</td>\n",
              "      <td>0</td>\n",
              "    </tr>\n",
              "    <tr>\n",
              "      <th>1</th>\n",
              "      <td>1077430</td>\n",
              "      <td>1314167</td>\n",
              "      <td>2500.0</td>\n",
              "      <td>2500.0</td>\n",
              "      <td>2500.0</td>\n",
              "      <td>60 months</td>\n",
              "      <td>15.27</td>\n",
              "      <td>59.83</td>\n",
              "      <td>C</td>\n",
              "      <td>C4</td>\n",
              "      <td>Ryder</td>\n",
              "      <td>&lt; 1 year</td>\n",
              "      <td>RENT</td>\n",
              "      <td>30000.0</td>\n",
              "      <td>Source Verified</td>\n",
              "      <td>Dec-2011</td>\n",
              "      <td>n</td>\n",
              "      <td>car</td>\n",
              "      <td>309xx</td>\n",
              "      <td>GA</td>\n",
              "      <td>1.00</td>\n",
              "      <td>0.0</td>\n",
              "      <td>Apr-1999</td>\n",
              "      <td>5.0</td>\n",
              "      <td>NaN</td>\n",
              "      <td>NaN</td>\n",
              "      <td>3.0</td>\n",
              "      <td>0.0</td>\n",
              "      <td>1687.0</td>\n",
              "      <td>9.4</td>\n",
              "      <td>4.0</td>\n",
              "      <td>f</td>\n",
              "      <td>0.0</td>\n",
              "      <td>0.0</td>\n",
              "      <td>1008.710000</td>\n",
              "      <td>1008.71</td>\n",
              "      <td>456.46</td>\n",
              "      <td>435.17</td>\n",
              "      <td>0.00</td>\n",
              "      <td>117.08</td>\n",
              "      <td>1.11</td>\n",
              "      <td>Apr-2013</td>\n",
              "      <td>119.66</td>\n",
              "      <td>NaN</td>\n",
              "      <td>Sep-2013</td>\n",
              "      <td>0.0</td>\n",
              "      <td>NaN</td>\n",
              "      <td>1.0</td>\n",
              "      <td>INDIVIDUAL</td>\n",
              "      <td>0.0</td>\n",
              "      <td>NaN</td>\n",
              "      <td>NaN</td>\n",
              "      <td>NaN</td>\n",
              "      <td>NaN</td>\n",
              "      <td>NaN</td>\n",
              "      <td>NaN</td>\n",
              "      <td>NaN</td>\n",
              "      <td>NaN</td>\n",
              "      <td>NaN</td>\n",
              "      <td>NaN</td>\n",
              "      <td>NaN</td>\n",
              "      <td>NaN</td>\n",
              "      <td>NaN</td>\n",
              "      <td>NaN</td>\n",
              "      <td>NaN</td>\n",
              "      <td>NaN</td>\n",
              "      <td>NaN</td>\n",
              "      <td>1</td>\n",
              "    </tr>\n",
              "    <tr>\n",
              "      <th>2</th>\n",
              "      <td>1077175</td>\n",
              "      <td>1313524</td>\n",
              "      <td>2400.0</td>\n",
              "      <td>2400.0</td>\n",
              "      <td>2400.0</td>\n",
              "      <td>36 months</td>\n",
              "      <td>15.96</td>\n",
              "      <td>84.33</td>\n",
              "      <td>C</td>\n",
              "      <td>C5</td>\n",
              "      <td>Unknown</td>\n",
              "      <td>10+ years</td>\n",
              "      <td>RENT</td>\n",
              "      <td>12252.0</td>\n",
              "      <td>Not Verified</td>\n",
              "      <td>Dec-2011</td>\n",
              "      <td>n</td>\n",
              "      <td>small_business</td>\n",
              "      <td>606xx</td>\n",
              "      <td>IL</td>\n",
              "      <td>8.72</td>\n",
              "      <td>0.0</td>\n",
              "      <td>Nov-2001</td>\n",
              "      <td>2.0</td>\n",
              "      <td>NaN</td>\n",
              "      <td>NaN</td>\n",
              "      <td>2.0</td>\n",
              "      <td>0.0</td>\n",
              "      <td>2956.0</td>\n",
              "      <td>98.5</td>\n",
              "      <td>10.0</td>\n",
              "      <td>f</td>\n",
              "      <td>0.0</td>\n",
              "      <td>0.0</td>\n",
              "      <td>3003.653644</td>\n",
              "      <td>3003.65</td>\n",
              "      <td>2400.00</td>\n",
              "      <td>603.65</td>\n",
              "      <td>0.00</td>\n",
              "      <td>0.00</td>\n",
              "      <td>0.00</td>\n",
              "      <td>Jun-2014</td>\n",
              "      <td>649.91</td>\n",
              "      <td>NaN</td>\n",
              "      <td>Jan-2016</td>\n",
              "      <td>0.0</td>\n",
              "      <td>NaN</td>\n",
              "      <td>1.0</td>\n",
              "      <td>INDIVIDUAL</td>\n",
              "      <td>0.0</td>\n",
              "      <td>NaN</td>\n",
              "      <td>NaN</td>\n",
              "      <td>NaN</td>\n",
              "      <td>NaN</td>\n",
              "      <td>NaN</td>\n",
              "      <td>NaN</td>\n",
              "      <td>NaN</td>\n",
              "      <td>NaN</td>\n",
              "      <td>NaN</td>\n",
              "      <td>NaN</td>\n",
              "      <td>NaN</td>\n",
              "      <td>NaN</td>\n",
              "      <td>NaN</td>\n",
              "      <td>NaN</td>\n",
              "      <td>NaN</td>\n",
              "      <td>NaN</td>\n",
              "      <td>NaN</td>\n",
              "      <td>0</td>\n",
              "    </tr>\n",
              "    <tr>\n",
              "      <th>3</th>\n",
              "      <td>1076863</td>\n",
              "      <td>1277178</td>\n",
              "      <td>10000.0</td>\n",
              "      <td>10000.0</td>\n",
              "      <td>10000.0</td>\n",
              "      <td>36 months</td>\n",
              "      <td>13.49</td>\n",
              "      <td>339.31</td>\n",
              "      <td>C</td>\n",
              "      <td>C1</td>\n",
              "      <td>AIR RESOURCES BOARD</td>\n",
              "      <td>10+ years</td>\n",
              "      <td>RENT</td>\n",
              "      <td>49200.0</td>\n",
              "      <td>Source Verified</td>\n",
              "      <td>Dec-2011</td>\n",
              "      <td>n</td>\n",
              "      <td>other</td>\n",
              "      <td>917xx</td>\n",
              "      <td>CA</td>\n",
              "      <td>20.00</td>\n",
              "      <td>0.0</td>\n",
              "      <td>Feb-1996</td>\n",
              "      <td>1.0</td>\n",
              "      <td>35.0</td>\n",
              "      <td>NaN</td>\n",
              "      <td>10.0</td>\n",
              "      <td>0.0</td>\n",
              "      <td>5598.0</td>\n",
              "      <td>21.0</td>\n",
              "      <td>37.0</td>\n",
              "      <td>f</td>\n",
              "      <td>0.0</td>\n",
              "      <td>0.0</td>\n",
              "      <td>12226.302212</td>\n",
              "      <td>12226.30</td>\n",
              "      <td>10000.00</td>\n",
              "      <td>2209.33</td>\n",
              "      <td>16.97</td>\n",
              "      <td>0.00</td>\n",
              "      <td>0.00</td>\n",
              "      <td>Jan-2015</td>\n",
              "      <td>357.48</td>\n",
              "      <td>NaN</td>\n",
              "      <td>Jan-2015</td>\n",
              "      <td>0.0</td>\n",
              "      <td>NaN</td>\n",
              "      <td>1.0</td>\n",
              "      <td>INDIVIDUAL</td>\n",
              "      <td>0.0</td>\n",
              "      <td>NaN</td>\n",
              "      <td>NaN</td>\n",
              "      <td>NaN</td>\n",
              "      <td>NaN</td>\n",
              "      <td>NaN</td>\n",
              "      <td>NaN</td>\n",
              "      <td>NaN</td>\n",
              "      <td>NaN</td>\n",
              "      <td>NaN</td>\n",
              "      <td>NaN</td>\n",
              "      <td>NaN</td>\n",
              "      <td>NaN</td>\n",
              "      <td>NaN</td>\n",
              "      <td>NaN</td>\n",
              "      <td>NaN</td>\n",
              "      <td>NaN</td>\n",
              "      <td>NaN</td>\n",
              "      <td>0</td>\n",
              "    </tr>\n",
              "  </tbody>\n",
              "</table>\n",
              "</div>"
            ],
            "text/plain": [
              "        id  member_id  loan_amnt  ...  total_cu_tl  inq_last_12m default_ind\n",
              "0  1077501    1296599     5000.0  ...          NaN           NaN           0\n",
              "1  1077430    1314167     2500.0  ...          NaN           NaN           1\n",
              "2  1077175    1313524     2400.0  ...          NaN           NaN           0\n",
              "3  1076863    1277178    10000.0  ...          NaN           NaN           0\n",
              "\n",
              "[4 rows x 68 columns]"
            ]
          },
          "metadata": {
            "tags": []
          },
          "execution_count": 70
        }
      ]
    },
    {
      "cell_type": "code",
      "metadata": {
        "id": "cphqQoab8OWK"
      },
      "source": [
        "data1['next_pymnt_d'].replace({np.nan:'Jan-2016'},inplace=True)"
      ],
      "execution_count": 71,
      "outputs": []
    },
    {
      "cell_type": "code",
      "metadata": {
        "id": "CTmyLDq88bXU",
        "outputId": "2f3ad420-300d-4867-be6c-cd0ae3c3a4b7",
        "colab": {
          "base_uri": "https://localhost:8080/"
        }
      },
      "source": [
        "data1[cat_var].isnull().sum()"
      ],
      "execution_count": 72,
      "outputs": [
        {
          "output_type": "execute_result",
          "data": {
            "text/plain": [
              "term                   0\n",
              "grade                  0\n",
              "sub_grade              0\n",
              "emp_title              0\n",
              "emp_length             0\n",
              "home_ownership         0\n",
              "verification_status    0\n",
              "issue_d                0\n",
              "pymnt_plan             0\n",
              "purpose                0\n",
              "zip_code               0\n",
              "addr_state             0\n",
              "earliest_cr_line       0\n",
              "initial_list_status    0\n",
              "last_pymnt_d           0\n",
              "next_pymnt_d           0\n",
              "last_credit_pull_d     0\n",
              "application_type       0\n",
              "dtype: int64"
            ]
          },
          "metadata": {
            "tags": []
          },
          "execution_count": 72
        }
      ]
    },
    {
      "cell_type": "code",
      "metadata": {
        "id": "cU91bCqhX6TY"
      },
      "source": [
        "pd.set_option('display.max_rows',30)"
      ],
      "execution_count": 73,
      "outputs": []
    },
    {
      "cell_type": "code",
      "metadata": {
        "id": "PHcB1HQRVoJA",
        "outputId": "c82572d6-68ef-458e-fe84-481b13cafbff",
        "colab": {
          "base_uri": "https://localhost:8080/"
        }
      },
      "source": [
        "data1[num_var].isnull().sum().sort_values().tail(30)"
      ],
      "execution_count": 74,
      "outputs": [
        {
          "output_type": "execute_result",
          "data": {
            "text/plain": [
              "funded_amnt_inv                     0\n",
              "int_rate                            0\n",
              "installment                         0\n",
              "default_ind                         0\n",
              "delinq_2yrs                         0\n",
              "inq_last_6mths                      0\n",
              "annual_inc                          0\n",
              "dti                                 2\n",
              "collections_12_mths_ex_med         56\n",
              "revol_util                        446\n",
              "total_rev_hi_lim                67311\n",
              "tot_cur_bal                     67311\n",
              "tot_coll_amt                    67311\n",
              "mths_since_last_delinq         439787\n",
              "mths_since_last_major_derog    642792\n",
              "mths_since_last_record         724743\n",
              "total_cu_tl                    842631\n",
              "inq_fi                         842631\n",
              "all_util                       842631\n",
              "max_bal_bc                     842631\n",
              "open_rv_24m                    842631\n",
              "inq_last_12m                   842631\n",
              "total_bal_il                   842631\n",
              "open_il_24m                    842631\n",
              "open_il_6m                     842631\n",
              "open_acc_6m                    842631\n",
              "open_rv_12m                    842631\n",
              "open_il_12m                    842631\n",
              "mths_since_rcnt_il             842985\n",
              "il_util                        844310\n",
              "dtype: int64"
            ]
          },
          "metadata": {
            "tags": []
          },
          "execution_count": 74
        }
      ]
    },
    {
      "cell_type": "code",
      "metadata": {
        "id": "CpOUyYai1jz7"
      },
      "source": [
        "data1=data1.dropna(subset=[\"total_rev_hi_lim\"])"
      ],
      "execution_count": 75,
      "outputs": []
    },
    {
      "cell_type": "code",
      "metadata": {
        "id": "9dv6JhwM2yyp",
        "outputId": "e21861ad-44f8-493d-95ad-7ab57c905b14",
        "colab": {
          "base_uri": "https://localhost:8080/"
        }
      },
      "source": [
        "data1.shape"
      ],
      "execution_count": 76,
      "outputs": [
        {
          "output_type": "execute_result",
          "data": {
            "text/plain": [
              "(788608, 68)"
            ]
          },
          "metadata": {
            "tags": []
          },
          "execution_count": 76
        }
      ]
    },
    {
      "cell_type": "code",
      "metadata": {
        "id": "iaRsu7_f-nQz",
        "outputId": "4c5f018d-ca01-4cb6-daee-ee9ad02011a9",
        "colab": {
          "base_uri": "https://localhost:8080/"
        }
      },
      "source": [
        "data1[num_var].isnull().sum().sort_values().tail(30)"
      ],
      "execution_count": 77,
      "outputs": [
        {
          "output_type": "execute_result",
          "data": {
            "text/plain": [
              "funded_amnt                         0\n",
              "funded_amnt_inv                     0\n",
              "int_rate                            0\n",
              "installment                         0\n",
              "annual_inc                          0\n",
              "loan_amnt                           0\n",
              "default_ind                         0\n",
              "pub_rec                             0\n",
              "inq_last_6mths                      0\n",
              "delinq_2yrs                         0\n",
              "open_acc                            0\n",
              "dti                                 2\n",
              "revol_util                        366\n",
              "mths_since_last_delinq         395882\n",
              "mths_since_last_major_derog    575481\n",
              "mths_since_last_record         661048\n",
              "total_cu_tl                    775320\n",
              "inq_fi                         775320\n",
              "inq_last_12m                   775320\n",
              "all_util                       775320\n",
              "max_bal_bc                     775320\n",
              "open_rv_24m                    775320\n",
              "open_il_24m                    775320\n",
              "total_bal_il                   775320\n",
              "open_il_12m                    775320\n",
              "open_il_6m                     775320\n",
              "open_acc_6m                    775320\n",
              "open_rv_12m                    775320\n",
              "mths_since_rcnt_il             775674\n",
              "il_util                        776999\n",
              "dtype: int64"
            ]
          },
          "metadata": {
            "tags": []
          },
          "execution_count": 77
        }
      ]
    },
    {
      "cell_type": "code",
      "metadata": {
        "id": "nJgwtm1kAk-g"
      },
      "source": [
        "pd.set_option('display.max_rows', None)"
      ],
      "execution_count": 78,
      "outputs": []
    },
    {
      "cell_type": "code",
      "metadata": {
        "id": "c40RPk75ASTm"
      },
      "source": [
        "data1['tot_coll_amt'].fillna(0,inplace=True)\n",
        "data1['collections_12_mths_ex_med'].fillna(0,inplace=True)\n",
        "data1['revol_util'].fillna(data1['revol_util'].median(),inplace=True)\n"
      ],
      "execution_count": 79,
      "outputs": []
    },
    {
      "cell_type": "code",
      "metadata": {
        "id": "kqbytia6At48",
        "outputId": "fc447b47-928c-4671-d1b3-2360c7e5511f",
        "colab": {
          "base_uri": "https://localhost:8080/"
        }
      },
      "source": [
        "data1[num_var].isnull().sum().sort_values()"
      ],
      "execution_count": 80,
      "outputs": [
        {
          "output_type": "execute_result",
          "data": {
            "text/plain": [
              "id                                  0\n",
              "out_prncp_inv                       0\n",
              "total_pymnt                         0\n",
              "total_pymnt_inv                     0\n",
              "total_rec_prncp                     0\n",
              "total_rec_int                       0\n",
              "recoveries                          0\n",
              "out_prncp                           0\n",
              "collection_recovery_fee             0\n",
              "collections_12_mths_ex_med          0\n",
              "policy_code                         0\n",
              "acc_now_delinq                      0\n",
              "tot_coll_amt                        0\n",
              "tot_cur_bal                         0\n",
              "total_rev_hi_lim                    0\n",
              "last_pymnt_amnt                     0\n",
              "total_acc                           0\n",
              "total_rec_late_fee                  0\n",
              "revol_bal                           0\n",
              "member_id                           0\n",
              "revol_util                          0\n",
              "funded_amnt                         0\n",
              "funded_amnt_inv                     0\n",
              "int_rate                            0\n",
              "installment                         0\n",
              "annual_inc                          0\n",
              "loan_amnt                           0\n",
              "delinq_2yrs                         0\n",
              "pub_rec                             0\n",
              "open_acc                            0\n",
              "default_ind                         0\n",
              "inq_last_6mths                      0\n",
              "dti                                 2\n",
              "mths_since_last_delinq         395882\n",
              "mths_since_last_major_derog    575481\n",
              "mths_since_last_record         661048\n",
              "inq_last_12m                   775320\n",
              "all_util                       775320\n",
              "max_bal_bc                     775320\n",
              "open_rv_24m                    775320\n",
              "open_rv_12m                    775320\n",
              "total_bal_il                   775320\n",
              "open_il_24m                    775320\n",
              "open_il_12m                    775320\n",
              "open_il_6m                     775320\n",
              "open_acc_6m                    775320\n",
              "inq_fi                         775320\n",
              "total_cu_tl                    775320\n",
              "mths_since_rcnt_il             775674\n",
              "il_util                        776999\n",
              "dtype: int64"
            ]
          },
          "metadata": {
            "tags": []
          },
          "execution_count": 80
        }
      ]
    },
    {
      "cell_type": "code",
      "metadata": {
        "id": "IPhIOXAgBK8W"
      },
      "source": [
        "data1['mths_since_last_delinq']=data1.groupby('delinq_2yrs')['mths_since_last_delinq'].apply(lambda x : x.fillna(x.mode()[0]))"
      ],
      "execution_count": 81,
      "outputs": []
    },
    {
      "cell_type": "code",
      "metadata": {
        "id": "O3AvqIvmBdkH"
      },
      "source": [
        "#remaing variable hs more than 50% data is missing \n",
        "for i in num_var:\n",
        "  if (data1[i].isnull().sum()>=(0.5*data1.shape[0])):\n",
        "    data1=data1.drop(i,axis=1)"
      ],
      "execution_count": 82,
      "outputs": []
    },
    {
      "cell_type": "code",
      "metadata": {
        "id": "SVT81KGADM8O"
      },
      "source": [
        "data1=data1.dropna(subset=['dti'])"
      ],
      "execution_count": 83,
      "outputs": []
    },
    {
      "cell_type": "code",
      "metadata": {
        "id": "nQBfLHcrDWzv",
        "outputId": "ecf13422-da8b-4b14-866c-60d87c403154",
        "colab": {
          "base_uri": "https://localhost:8080/"
        }
      },
      "source": [
        "data1.isnull().sum().sort_values()"
      ],
      "execution_count": 84,
      "outputs": [
        {
          "output_type": "execute_result",
          "data": {
            "text/plain": [
              "id                            0\n",
              "revol_util                    0\n",
              "total_acc                     0\n",
              "initial_list_status           0\n",
              "out_prncp                     0\n",
              "out_prncp_inv                 0\n",
              "total_pymnt                   0\n",
              "total_pymnt_inv               0\n",
              "total_rec_prncp               0\n",
              "total_rec_int                 0\n",
              "total_rec_late_fee            0\n",
              "revol_bal                     0\n",
              "recoveries                    0\n",
              "last_pymnt_d                  0\n",
              "last_pymnt_amnt               0\n",
              "next_pymnt_d                  0\n",
              "last_credit_pull_d            0\n",
              "collections_12_mths_ex_med    0\n",
              "policy_code                   0\n",
              "application_type              0\n",
              "acc_now_delinq                0\n",
              "tot_coll_amt                  0\n",
              "tot_cur_bal                   0\n",
              "collection_recovery_fee       0\n",
              "pub_rec                       0\n",
              "open_acc                      0\n",
              "mths_since_last_delinq        0\n",
              "member_id                     0\n",
              "loan_amnt                     0\n",
              "funded_amnt                   0\n",
              "funded_amnt_inv               0\n",
              "term                          0\n",
              "int_rate                      0\n",
              "installment                   0\n",
              "grade                         0\n",
              "sub_grade                     0\n",
              "emp_title                     0\n",
              "emp_length                    0\n",
              "home_ownership                0\n",
              "annual_inc                    0\n",
              "verification_status           0\n",
              "issue_d                       0\n",
              "pymnt_plan                    0\n",
              "purpose                       0\n",
              "zip_code                      0\n",
              "addr_state                    0\n",
              "dti                           0\n",
              "delinq_2yrs                   0\n",
              "earliest_cr_line              0\n",
              "inq_last_6mths                0\n",
              "total_rev_hi_lim              0\n",
              "default_ind                   0\n",
              "dtype: int64"
            ]
          },
          "metadata": {
            "tags": []
          },
          "execution_count": 84
        }
      ]
    },
    {
      "cell_type": "code",
      "metadata": {
        "id": "Q7RNwZkxDiRB",
        "outputId": "50ae085a-226f-40da-e516-c6982d13d5b1",
        "colab": {
          "base_uri": "https://localhost:8080/"
        }
      },
      "source": [
        "data1.shape"
      ],
      "execution_count": 85,
      "outputs": [
        {
          "output_type": "execute_result",
          "data": {
            "text/plain": [
              "(788606, 52)"
            ]
          },
          "metadata": {
            "tags": []
          },
          "execution_count": 85
        }
      ]
    },
    {
      "cell_type": "markdown",
      "metadata": {
        "id": "697CPKgjEuW3"
      },
      "source": [
        "MISSING VALUE FILLED\n",
        "\n",
        "\n"
      ]
    },
    {
      "cell_type": "markdown",
      "metadata": {
        "id": "V0kxZ-63FAfR"
      },
      "source": [
        "## **OUTLIERS HANDELING**\n",
        "\n",
        "---\n",
        "\n"
      ]
    },
    {
      "cell_type": "code",
      "metadata": {
        "id": "4UtZZQSfErzv"
      },
      "source": [
        "data2=pd.DataFrame.copy(data1)\n"
      ],
      "execution_count": 86,
      "outputs": []
    },
    {
      "cell_type": "code",
      "metadata": {
        "id": "Go9GpP0jNWLW",
        "outputId": "e513ac01-2878-407e-9666-4e6377ec6628",
        "colab": {
          "base_uri": "https://localhost:8080/"
        }
      },
      "source": [
        "data2.nunique()"
      ],
      "execution_count": 87,
      "outputs": [
        {
          "output_type": "execute_result",
          "data": {
            "text/plain": [
              "id                            788606\n",
              "member_id                     788606\n",
              "loan_amnt                       1361\n",
              "funded_amnt                     1361\n",
              "funded_amnt_inv                 1402\n",
              "term                               2\n",
              "int_rate                         198\n",
              "installment                    62001\n",
              "grade                              7\n",
              "sub_grade                         35\n",
              "emp_title                     253314\n",
              "emp_length                        11\n",
              "home_ownership                     6\n",
              "annual_inc                     45157\n",
              "verification_status                3\n",
              "issue_d                           41\n",
              "pymnt_plan                         2\n",
              "purpose                           14\n",
              "zip_code                         929\n",
              "addr_state                        51\n",
              "dti                             4001\n",
              "delinq_2yrs                       29\n",
              "earliest_cr_line                 694\n",
              "inq_last_6mths                     9\n",
              "mths_since_last_delinq           155\n",
              "open_acc                          77\n",
              "pub_rec                           31\n",
              "revol_bal                      71420\n",
              "revol_util                      1250\n",
              "total_acc                        134\n",
              "initial_list_status                2\n",
              "out_prncp                     233579\n",
              "out_prncp_inv                 251182\n",
              "total_pymnt                   434942\n",
              "total_pymnt_inv               440514\n",
              "total_rec_prncp               239125\n",
              "total_rec_int                 291797\n",
              "total_rec_late_fee              2952\n",
              "recoveries                     15921\n",
              "collection_recovery_fee        15948\n",
              "last_pymnt_d                      41\n",
              "last_pymnt_amnt               197768\n",
              "next_pymnt_d                       3\n",
              "last_credit_pull_d                42\n",
              "collections_12_mths_ex_med        12\n",
              "policy_code                        1\n",
              "application_type                   2\n",
              "acc_now_delinq                     8\n",
              "tot_coll_amt                   10136\n",
              "tot_cur_bal                   322280\n",
              "total_rev_hi_lim               20792\n",
              "default_ind                        2\n",
              "dtype: int64"
            ]
          },
          "metadata": {
            "tags": []
          },
          "execution_count": 87
        }
      ]
    },
    {
      "cell_type": "code",
      "metadata": {
        "id": "ogMpMlsBNN87",
        "outputId": "9a650de6-0f7b-47a7-f31c-3bc0d5484169",
        "colab": {
          "base_uri": "https://localhost:8080/"
        }
      },
      "source": [
        "data2.drop(['member_id','policy_code'],axis=1,inplace=True)\n",
        "data2.shape"
      ],
      "execution_count": 88,
      "outputs": [
        {
          "output_type": "execute_result",
          "data": {
            "text/plain": [
              "(788606, 50)"
            ]
          },
          "metadata": {
            "tags": []
          },
          "execution_count": 88
        }
      ]
    },
    {
      "cell_type": "code",
      "metadata": {
        "id": "cLL7Gz39FNBn"
      },
      "source": [
        "def variation(dataframe):\n",
        "  qual=[]\n",
        "  quan=[]\n",
        "  for i in dataframe.columns[:-1]:\n",
        "    if dataframe[i].dtype=='object':\n",
        "      qual.append(i)\n",
        "    else:\n",
        "      quan.append(i)\n",
        "  low_var=[]\n",
        "  for j in quan:\n",
        "    if ((dataframe[j].quantile(0))==(dataframe[j].quantile(0.8))):\n",
        "      print(j,'has very low variation: 0th percentile = 80th percentile')\n",
        "      low_var.append(j)\n",
        "      print()\n",
        "  return low_var"
      ],
      "execution_count": 89,
      "outputs": []
    },
    {
      "cell_type": "code",
      "metadata": {
        "id": "fmLr1S-KFM-N",
        "outputId": "f3a8897f-33fe-47e6-8979-891d072f1471",
        "colab": {
          "base_uri": "https://localhost:8080/"
        }
      },
      "source": [
        "x=variation(data2)"
      ],
      "execution_count": 90,
      "outputs": [
        {
          "output_type": "stream",
          "text": [
            "delinq_2yrs has very low variation: 0th percentile = 80th percentile\n",
            "\n",
            "pub_rec has very low variation: 0th percentile = 80th percentile\n",
            "\n",
            "total_rec_late_fee has very low variation: 0th percentile = 80th percentile\n",
            "\n",
            "recoveries has very low variation: 0th percentile = 80th percentile\n",
            "\n",
            "collection_recovery_fee has very low variation: 0th percentile = 80th percentile\n",
            "\n",
            "collections_12_mths_ex_med has very low variation: 0th percentile = 80th percentile\n",
            "\n",
            "acc_now_delinq has very low variation: 0th percentile = 80th percentile\n",
            "\n",
            "tot_coll_amt has very low variation: 0th percentile = 80th percentile\n",
            "\n"
          ],
          "name": "stdout"
        }
      ]
    },
    {
      "cell_type": "code",
      "metadata": {
        "id": "etQPXARRFM8j",
        "outputId": "3408b3a7-50bc-497c-db86-8c84d562781c",
        "colab": {
          "base_uri": "https://localhost:8080/"
        }
      },
      "source": [
        "for i in x:\n",
        "  for j in np.arange(0.79,1,0.001):\n",
        "    if data2[i].quantile(j)!=0:\n",
        "      print('The value at',j.round(3),'th quantile for',i,'is',data2[i].quantile(j))\n",
        "      break\n",
        "    else:\n",
        "      pass"
      ],
      "execution_count": 91,
      "outputs": [
        {
          "output_type": "stream",
          "text": [
            "The value at 0.803 th quantile for delinq_2yrs is 1.0\n",
            "The value at 0.839 th quantile for pub_rec is 1.0\n",
            "The value at 0.992 th quantile for total_rec_late_fee is 15.0\n",
            "The value at 0.979 th quantile for recoveries is 10.442950000001582\n",
            "The value at 0.98 th quantile for collection_recovery_fee is 2.7123700000000537\n",
            "The value at 0.986 th quantile for collections_12_mths_ex_med is 1.0\n",
            "The value at 0.996 th quantile for acc_now_delinq is 1.0\n",
            "The value at 0.859 th quantile for tot_coll_amt is 33.0\n"
          ],
          "name": "stdout"
        }
      ]
    },
    {
      "cell_type": "code",
      "metadata": {
        "id": "1h-jERQfFM6t",
        "outputId": "f0834986-50ef-45f7-bbd1-69503978664d",
        "colab": {
          "base_uri": "https://localhost:8080/"
        }
      },
      "source": [
        "x"
      ],
      "execution_count": 92,
      "outputs": [
        {
          "output_type": "execute_result",
          "data": {
            "text/plain": [
              "['delinq_2yrs',\n",
              " 'pub_rec',\n",
              " 'total_rec_late_fee',\n",
              " 'recoveries',\n",
              " 'collection_recovery_fee',\n",
              " 'collections_12_mths_ex_med',\n",
              " 'acc_now_delinq',\n",
              " 'tot_coll_amt']"
            ]
          },
          "metadata": {
            "tags": []
          },
          "execution_count": 92
        }
      ]
    },
    {
      "cell_type": "code",
      "metadata": {
        "id": "fRR781n6FM4w",
        "outputId": "64af25bc-255a-4c42-e8af-ec0dfd42e3bb",
        "colab": {
          "base_uri": "https://localhost:8080/"
        }
      },
      "source": [
        "#Dropping columns with low variation except delinq_2yrs\n",
        "data2.drop(x[1:],axis=1,inplace=True)\n",
        "data2.shape"
      ],
      "execution_count": 93,
      "outputs": [
        {
          "output_type": "execute_result",
          "data": {
            "text/plain": [
              "(788606, 43)"
            ]
          },
          "metadata": {
            "tags": []
          },
          "execution_count": 93
        }
      ]
    },
    {
      "cell_type": "code",
      "metadata": {
        "id": "8NdfpqpvYznu"
      },
      "source": [
        "cat_var=[]\n",
        "num_var=[]\n",
        "for i in data2.columns:\n",
        "  if data2[i].dtype=='object':\n",
        "    cat_var.append(i)\n",
        "  else:\n",
        "    num_var.append(i)"
      ],
      "execution_count": 94,
      "outputs": []
    },
    {
      "cell_type": "code",
      "metadata": {
        "id": "zMBVcUFKZBbE",
        "outputId": "f227b6f5-7748-4583-d554-9d64074a7798",
        "colab": {
          "base_uri": "https://localhost:8080/",
          "height": 787
        }
      },
      "source": [
        "data2[num_var].describe().T"
      ],
      "execution_count": 95,
      "outputs": [
        {
          "output_type": "execute_result",
          "data": {
            "text/html": [
              "<div>\n",
              "<style scoped>\n",
              "    .dataframe tbody tr th:only-of-type {\n",
              "        vertical-align: middle;\n",
              "    }\n",
              "\n",
              "    .dataframe tbody tr th {\n",
              "        vertical-align: top;\n",
              "    }\n",
              "\n",
              "    .dataframe thead th {\n",
              "        text-align: right;\n",
              "    }\n",
              "</style>\n",
              "<table border=\"1\" class=\"dataframe\">\n",
              "  <thead>\n",
              "    <tr style=\"text-align: right;\">\n",
              "      <th></th>\n",
              "      <th>count</th>\n",
              "      <th>mean</th>\n",
              "      <th>std</th>\n",
              "      <th>min</th>\n",
              "      <th>25%</th>\n",
              "      <th>50%</th>\n",
              "      <th>75%</th>\n",
              "      <th>max</th>\n",
              "    </tr>\n",
              "  </thead>\n",
              "  <tbody>\n",
              "    <tr>\n",
              "      <th>id</th>\n",
              "      <td>788606.0</td>\n",
              "      <td>3.491369e+07</td>\n",
              "      <td>2.166579e+07</td>\n",
              "      <td>56705.00</td>\n",
              "      <td>1.262535e+07</td>\n",
              "      <td>3.846827e+07</td>\n",
              "      <td>5.546308e+07</td>\n",
              "      <td>6.861687e+07</td>\n",
              "    </tr>\n",
              "    <tr>\n",
              "      <th>loan_amnt</th>\n",
              "      <td>788606.0</td>\n",
              "      <td>1.497753e+04</td>\n",
              "      <td>8.437593e+03</td>\n",
              "      <td>1000.00</td>\n",
              "      <td>8.400000e+03</td>\n",
              "      <td>1.350000e+04</td>\n",
              "      <td>2.000000e+04</td>\n",
              "      <td>3.500000e+04</td>\n",
              "    </tr>\n",
              "    <tr>\n",
              "      <th>funded_amnt</th>\n",
              "      <td>788606.0</td>\n",
              "      <td>1.497751e+04</td>\n",
              "      <td>8.437571e+03</td>\n",
              "      <td>1000.00</td>\n",
              "      <td>8.400000e+03</td>\n",
              "      <td>1.350000e+04</td>\n",
              "      <td>2.000000e+04</td>\n",
              "      <td>3.500000e+04</td>\n",
              "    </tr>\n",
              "    <tr>\n",
              "      <th>funded_amnt_inv</th>\n",
              "      <td>788606.0</td>\n",
              "      <td>1.497117e+04</td>\n",
              "      <td>8.434235e+03</td>\n",
              "      <td>900.00</td>\n",
              "      <td>8.400000e+03</td>\n",
              "      <td>1.347500e+04</td>\n",
              "      <td>2.000000e+04</td>\n",
              "      <td>3.500000e+04</td>\n",
              "    </tr>\n",
              "    <tr>\n",
              "      <th>int_rate</th>\n",
              "      <td>788606.0</td>\n",
              "      <td>1.325177e+01</td>\n",
              "      <td>4.390450e+00</td>\n",
              "      <td>5.32</td>\n",
              "      <td>9.990000e+00</td>\n",
              "      <td>1.299000e+01</td>\n",
              "      <td>1.624000e+01</td>\n",
              "      <td>2.899000e+01</td>\n",
              "    </tr>\n",
              "    <tr>\n",
              "      <th>installment</th>\n",
              "      <td>788606.0</td>\n",
              "      <td>4.427412e+02</td>\n",
              "      <td>2.438914e+02</td>\n",
              "      <td>23.26</td>\n",
              "      <td>2.661800e+02</td>\n",
              "      <td>3.877900e+02</td>\n",
              "      <td>5.794900e+02</td>\n",
              "      <td>1.445460e+03</td>\n",
              "    </tr>\n",
              "    <tr>\n",
              "      <th>annual_inc</th>\n",
              "      <td>788606.0</td>\n",
              "      <td>7.563988e+04</td>\n",
              "      <td>6.490887e+04</td>\n",
              "      <td>3000.00</td>\n",
              "      <td>4.600000e+04</td>\n",
              "      <td>6.500000e+04</td>\n",
              "      <td>9.000000e+04</td>\n",
              "      <td>9.500000e+06</td>\n",
              "    </tr>\n",
              "    <tr>\n",
              "      <th>dti</th>\n",
              "      <td>788606.0</td>\n",
              "      <td>1.841142e+01</td>\n",
              "      <td>8.305890e+00</td>\n",
              "      <td>0.00</td>\n",
              "      <td>1.216000e+01</td>\n",
              "      <td>1.792000e+01</td>\n",
              "      <td>2.431000e+01</td>\n",
              "      <td>4.386000e+01</td>\n",
              "    </tr>\n",
              "    <tr>\n",
              "      <th>delinq_2yrs</th>\n",
              "      <td>788606.0</td>\n",
              "      <td>3.255707e-01</td>\n",
              "      <td>8.789922e-01</td>\n",
              "      <td>0.00</td>\n",
              "      <td>0.000000e+00</td>\n",
              "      <td>0.000000e+00</td>\n",
              "      <td>0.000000e+00</td>\n",
              "      <td>3.900000e+01</td>\n",
              "    </tr>\n",
              "    <tr>\n",
              "      <th>inq_last_6mths</th>\n",
              "      <td>788606.0</td>\n",
              "      <td>6.671278e-01</td>\n",
              "      <td>9.558752e-01</td>\n",
              "      <td>0.00</td>\n",
              "      <td>0.000000e+00</td>\n",
              "      <td>0.000000e+00</td>\n",
              "      <td>1.000000e+00</td>\n",
              "      <td>8.000000e+00</td>\n",
              "    </tr>\n",
              "    <tr>\n",
              "      <th>mths_since_last_delinq</th>\n",
              "      <td>788606.0</td>\n",
              "      <td>2.946097e+01</td>\n",
              "      <td>1.608714e+01</td>\n",
              "      <td>0.00</td>\n",
              "      <td>2.500000e+01</td>\n",
              "      <td>2.500000e+01</td>\n",
              "      <td>3.100000e+01</td>\n",
              "      <td>1.880000e+02</td>\n",
              "    </tr>\n",
              "    <tr>\n",
              "      <th>open_acc</th>\n",
              "      <td>788606.0</td>\n",
              "      <td>1.169673e+01</td>\n",
              "      <td>5.347453e+00</td>\n",
              "      <td>0.00</td>\n",
              "      <td>8.000000e+00</td>\n",
              "      <td>1.100000e+01</td>\n",
              "      <td>1.400000e+01</td>\n",
              "      <td>9.000000e+01</td>\n",
              "    </tr>\n",
              "    <tr>\n",
              "      <th>revol_bal</th>\n",
              "      <td>788606.0</td>\n",
              "      <td>1.717721e+04</td>\n",
              "      <td>2.272553e+04</td>\n",
              "      <td>0.00</td>\n",
              "      <td>6.611000e+03</td>\n",
              "      <td>1.206600e+04</td>\n",
              "      <td>2.112400e+04</td>\n",
              "      <td>2.904836e+06</td>\n",
              "    </tr>\n",
              "    <tr>\n",
              "      <th>revol_util</th>\n",
              "      <td>788606.0</td>\n",
              "      <td>5.526858e+01</td>\n",
              "      <td>2.346522e+01</td>\n",
              "      <td>0.00</td>\n",
              "      <td>3.810000e+01</td>\n",
              "      <td>5.600000e+01</td>\n",
              "      <td>7.340000e+01</td>\n",
              "      <td>8.923000e+02</td>\n",
              "    </tr>\n",
              "    <tr>\n",
              "      <th>total_acc</th>\n",
              "      <td>788606.0</td>\n",
              "      <td>2.551095e+01</td>\n",
              "      <td>1.183983e+01</td>\n",
              "      <td>2.00</td>\n",
              "      <td>1.700000e+01</td>\n",
              "      <td>2.400000e+01</td>\n",
              "      <td>3.200000e+01</td>\n",
              "      <td>1.690000e+02</td>\n",
              "    </tr>\n",
              "    <tr>\n",
              "      <th>out_prncp</th>\n",
              "      <td>788606.0</td>\n",
              "      <td>8.970680e+03</td>\n",
              "      <td>8.460835e+03</td>\n",
              "      <td>0.00</td>\n",
              "      <td>7.992675e+02</td>\n",
              "      <td>7.338550e+03</td>\n",
              "      <td>1.421887e+04</td>\n",
              "      <td>4.937286e+04</td>\n",
              "    </tr>\n",
              "    <tr>\n",
              "      <th>out_prncp_inv</th>\n",
              "      <td>788606.0</td>\n",
              "      <td>8.967078e+03</td>\n",
              "      <td>8.457359e+03</td>\n",
              "      <td>0.00</td>\n",
              "      <td>7.990600e+02</td>\n",
              "      <td>7.335370e+03</td>\n",
              "      <td>1.421152e+04</td>\n",
              "      <td>4.937286e+04</td>\n",
              "    </tr>\n",
              "    <tr>\n",
              "      <th>total_pymnt</th>\n",
              "      <td>788606.0</td>\n",
              "      <td>7.203238e+03</td>\n",
              "      <td>7.609409e+03</td>\n",
              "      <td>0.00</td>\n",
              "      <td>1.827690e+03</td>\n",
              "      <td>4.564655e+03</td>\n",
              "      <td>1.003470e+04</td>\n",
              "      <td>5.608791e+04</td>\n",
              "    </tr>\n",
              "    <tr>\n",
              "      <th>total_pymnt_inv</th>\n",
              "      <td>788606.0</td>\n",
              "      <td>7.199990e+03</td>\n",
              "      <td>7.605595e+03</td>\n",
              "      <td>0.00</td>\n",
              "      <td>1.826940e+03</td>\n",
              "      <td>4.562365e+03</td>\n",
              "      <td>1.002959e+04</td>\n",
              "      <td>5.604785e+04</td>\n",
              "    </tr>\n",
              "    <tr>\n",
              "      <th>total_rec_prncp</th>\n",
              "      <td>788606.0</td>\n",
              "      <td>5.468192e+03</td>\n",
              "      <td>6.476748e+03</td>\n",
              "      <td>0.00</td>\n",
              "      <td>1.145850e+03</td>\n",
              "      <td>2.992750e+03</td>\n",
              "      <td>7.256040e+03</td>\n",
              "      <td>3.500000e+04</td>\n",
              "    </tr>\n",
              "    <tr>\n",
              "      <th>total_rec_int</th>\n",
              "      <td>788606.0</td>\n",
              "      <td>1.693242e+03</td>\n",
              "      <td>1.991821e+03</td>\n",
              "      <td>0.00</td>\n",
              "      <td>4.317000e+02</td>\n",
              "      <td>1.042645e+03</td>\n",
              "      <td>2.168490e+03</td>\n",
              "      <td>2.184000e+04</td>\n",
              "    </tr>\n",
              "    <tr>\n",
              "      <th>last_pymnt_amnt</th>\n",
              "      <td>788606.0</td>\n",
              "      <td>2.165300e+03</td>\n",
              "      <td>4.863606e+03</td>\n",
              "      <td>0.00</td>\n",
              "      <td>2.869225e+02</td>\n",
              "      <td>4.641300e+02</td>\n",
              "      <td>8.004800e+02</td>\n",
              "      <td>3.647559e+04</td>\n",
              "    </tr>\n",
              "    <tr>\n",
              "      <th>tot_cur_bal</th>\n",
              "      <td>788606.0</td>\n",
              "      <td>1.397676e+05</td>\n",
              "      <td>1.539403e+05</td>\n",
              "      <td>0.00</td>\n",
              "      <td>2.987000e+04</td>\n",
              "      <td>8.101000e+04</td>\n",
              "      <td>2.087038e+05</td>\n",
              "      <td>8.000078e+06</td>\n",
              "    </tr>\n",
              "    <tr>\n",
              "      <th>total_rev_hi_lim</th>\n",
              "      <td>788606.0</td>\n",
              "      <td>3.216327e+04</td>\n",
              "      <td>3.769968e+04</td>\n",
              "      <td>0.00</td>\n",
              "      <td>1.400000e+04</td>\n",
              "      <td>2.380000e+04</td>\n",
              "      <td>3.990000e+04</td>\n",
              "      <td>9.999999e+06</td>\n",
              "    </tr>\n",
              "    <tr>\n",
              "      <th>default_ind</th>\n",
              "      <td>788606.0</td>\n",
              "      <td>4.618910e-02</td>\n",
              "      <td>2.098945e-01</td>\n",
              "      <td>0.00</td>\n",
              "      <td>0.000000e+00</td>\n",
              "      <td>0.000000e+00</td>\n",
              "      <td>0.000000e+00</td>\n",
              "      <td>1.000000e+00</td>\n",
              "    </tr>\n",
              "  </tbody>\n",
              "</table>\n",
              "</div>"
            ],
            "text/plain": [
              "                           count          mean  ...           75%           max\n",
              "id                      788606.0  3.491369e+07  ...  5.546308e+07  6.861687e+07\n",
              "loan_amnt               788606.0  1.497753e+04  ...  2.000000e+04  3.500000e+04\n",
              "funded_amnt             788606.0  1.497751e+04  ...  2.000000e+04  3.500000e+04\n",
              "funded_amnt_inv         788606.0  1.497117e+04  ...  2.000000e+04  3.500000e+04\n",
              "int_rate                788606.0  1.325177e+01  ...  1.624000e+01  2.899000e+01\n",
              "installment             788606.0  4.427412e+02  ...  5.794900e+02  1.445460e+03\n",
              "annual_inc              788606.0  7.563988e+04  ...  9.000000e+04  9.500000e+06\n",
              "dti                     788606.0  1.841142e+01  ...  2.431000e+01  4.386000e+01\n",
              "delinq_2yrs             788606.0  3.255707e-01  ...  0.000000e+00  3.900000e+01\n",
              "inq_last_6mths          788606.0  6.671278e-01  ...  1.000000e+00  8.000000e+00\n",
              "mths_since_last_delinq  788606.0  2.946097e+01  ...  3.100000e+01  1.880000e+02\n",
              "open_acc                788606.0  1.169673e+01  ...  1.400000e+01  9.000000e+01\n",
              "revol_bal               788606.0  1.717721e+04  ...  2.112400e+04  2.904836e+06\n",
              "revol_util              788606.0  5.526858e+01  ...  7.340000e+01  8.923000e+02\n",
              "total_acc               788606.0  2.551095e+01  ...  3.200000e+01  1.690000e+02\n",
              "out_prncp               788606.0  8.970680e+03  ...  1.421887e+04  4.937286e+04\n",
              "out_prncp_inv           788606.0  8.967078e+03  ...  1.421152e+04  4.937286e+04\n",
              "total_pymnt             788606.0  7.203238e+03  ...  1.003470e+04  5.608791e+04\n",
              "total_pymnt_inv         788606.0  7.199990e+03  ...  1.002959e+04  5.604785e+04\n",
              "total_rec_prncp         788606.0  5.468192e+03  ...  7.256040e+03  3.500000e+04\n",
              "total_rec_int           788606.0  1.693242e+03  ...  2.168490e+03  2.184000e+04\n",
              "last_pymnt_amnt         788606.0  2.165300e+03  ...  8.004800e+02  3.647559e+04\n",
              "tot_cur_bal             788606.0  1.397676e+05  ...  2.087038e+05  8.000078e+06\n",
              "total_rev_hi_lim        788606.0  3.216327e+04  ...  3.990000e+04  9.999999e+06\n",
              "default_ind             788606.0  4.618910e-02  ...  0.000000e+00  1.000000e+00\n",
              "\n",
              "[25 rows x 8 columns]"
            ]
          },
          "metadata": {
            "tags": []
          },
          "execution_count": 95
        }
      ]
    },
    {
      "cell_type": "code",
      "metadata": {
        "id": "Ji93ecF6XOuY",
        "outputId": "21b7fa3b-b0fa-4b33-d22d-b80a58358c4e",
        "colab": {
          "base_uri": "https://localhost:8080/"
        }
      },
      "source": [
        "data2[\"dti\"].quantile(0.9999),data2['dti'].max()"
      ],
      "execution_count": 96,
      "outputs": [
        {
          "output_type": "execute_result",
          "data": {
            "text/plain": [
              "(39.97, 43.86)"
            ]
          },
          "metadata": {
            "tags": []
          },
          "execution_count": 96
        }
      ]
    },
    {
      "cell_type": "code",
      "metadata": {
        "id": "JYTXkMWlWka5",
        "outputId": "e595808e-743e-4ab2-fc6b-4b1371eb39c5",
        "colab": {
          "base_uri": "https://localhost:8080/"
        }
      },
      "source": [
        "d1=data2[data2['dti']>40].index\n",
        "d1,len(d1)"
      ],
      "execution_count": 97,
      "outputs": [
        {
          "output_type": "execute_result",
          "data": {
            "text/plain": [
              "(Int64Index([476722], dtype='int64'), 1)"
            ]
          },
          "metadata": {
            "tags": []
          },
          "execution_count": 97
        }
      ]
    },
    {
      "cell_type": "code",
      "metadata": {
        "id": "gJlG9M-FZher",
        "outputId": "b4f7889a-dc97-457a-f249-e3396771ecc1",
        "colab": {
          "base_uri": "https://localhost:8080/"
        }
      },
      "source": [
        "print(data2['open_acc'].quantile(0.9999),data2['open_acc'].max())"
      ],
      "execution_count": 98,
      "outputs": [
        {
          "output_type": "stream",
          "text": [
            "51.0 90.0\n"
          ],
          "name": "stdout"
        }
      ]
    },
    {
      "cell_type": "code",
      "metadata": {
        "id": "VsWU2DEDZ3Uk",
        "outputId": "30db7087-062b-466c-b068-845491b3e75e",
        "colab": {
          "base_uri": "https://localhost:8080/"
        }
      },
      "source": [
        "d2=data2[data2['open_acc']>51].index\n",
        "d2,len(d2)"
      ],
      "execution_count": 99,
      "outputs": [
        {
          "output_type": "execute_result",
          "data": {
            "text/plain": [
              "(Int64Index([ 72571, 106275, 167467, 169478, 229932, 258157, 259009, 265306,\n",
              "             271635, 273037, 274791, 276377, 293778, 309922, 322826, 338733,\n",
              "             341475, 353169, 360875, 453357, 458723, 461307, 463450, 467667,\n",
              "             477375, 481141, 488869, 490555, 497600, 509963, 518195, 525076,\n",
              "             544095, 558212, 573387, 576348, 578170, 578619, 583249, 585800,\n",
              "             589828, 590200, 598788, 605804, 622702, 640385, 641589, 654892,\n",
              "             655091, 656551, 663508, 683383, 688904, 689530, 702223, 705827,\n",
              "             713319, 729327, 732047, 748254, 759836, 766207, 776447, 796260,\n",
              "             818316, 819179, 823542, 823937, 825061, 838731, 841096, 855423],\n",
              "            dtype='int64'), 72)"
            ]
          },
          "metadata": {
            "tags": []
          },
          "execution_count": 99
        }
      ]
    },
    {
      "cell_type": "code",
      "metadata": {
        "id": "uXNFGi1daMQ-",
        "outputId": "0a7b90fa-5536-4132-82f1-11efb5d5cbc5",
        "colab": {
          "base_uri": "https://localhost:8080/"
        }
      },
      "source": [
        "d3=[]\n",
        "for i in d1:\n",
        "  d3.append(i)\n",
        "for j in d2:\n",
        "  if j not in d3:\n",
        "    d3.append(j)\n",
        "len(d3)"
      ],
      "execution_count": 100,
      "outputs": [
        {
          "output_type": "execute_result",
          "data": {
            "text/plain": [
              "73"
            ]
          },
          "metadata": {
            "tags": []
          },
          "execution_count": 100
        }
      ]
    },
    {
      "cell_type": "code",
      "metadata": {
        "id": "sQto58GTaW0_",
        "outputId": "a57c47c9-2326-4c28-ed49-66759d78ee6f",
        "colab": {
          "base_uri": "https://localhost:8080/"
        }
      },
      "source": [
        "data2.drop(index=d3,axis=0,inplace=True)\n",
        "data2.shape"
      ],
      "execution_count": 101,
      "outputs": [
        {
          "output_type": "execute_result",
          "data": {
            "text/plain": [
              "(788533, 43)"
            ]
          },
          "metadata": {
            "tags": []
          },
          "execution_count": 101
        }
      ]
    },
    {
      "cell_type": "code",
      "metadata": {
        "id": "7Q3uOPbiahP2",
        "outputId": "e8786812-c65e-4070-9455-dde0e53c6a5b",
        "colab": {
          "base_uri": "https://localhost:8080/"
        }
      },
      "source": [
        "data3=pd.DataFrame(data2.copy())\n",
        "data3.drop(['id', 'funded_amnt_inv','out_prncp_inv','total_pymnt_inv', 'total_rec_prncp'],axis=1,inplace=True)\n",
        "data3.shape"
      ],
      "execution_count": 102,
      "outputs": [
        {
          "output_type": "execute_result",
          "data": {
            "text/plain": [
              "(788533, 38)"
            ]
          },
          "metadata": {
            "tags": []
          },
          "execution_count": 102
        }
      ]
    },
    {
      "cell_type": "code",
      "metadata": {
        "id": "I0xeIk5aqghd",
        "outputId": "f60c7cec-7679-4754-ed72-fd69b3d4c14e",
        "colab": {
          "base_uri": "https://localhost:8080/",
          "height": 240
        }
      },
      "source": [
        "for i in ['issue_d']:\n",
        "  data3[i]=pd.to_datetime(data3[i],format='%b-%Y')\n",
        "data3.head(3)"
      ],
      "execution_count": 103,
      "outputs": [
        {
          "output_type": "execute_result",
          "data": {
            "text/html": [
              "<div>\n",
              "<style scoped>\n",
              "    .dataframe tbody tr th:only-of-type {\n",
              "        vertical-align: middle;\n",
              "    }\n",
              "\n",
              "    .dataframe tbody tr th {\n",
              "        vertical-align: top;\n",
              "    }\n",
              "\n",
              "    .dataframe thead th {\n",
              "        text-align: right;\n",
              "    }\n",
              "</style>\n",
              "<table border=\"1\" class=\"dataframe\">\n",
              "  <thead>\n",
              "    <tr style=\"text-align: right;\">\n",
              "      <th></th>\n",
              "      <th>loan_amnt</th>\n",
              "      <th>funded_amnt</th>\n",
              "      <th>term</th>\n",
              "      <th>int_rate</th>\n",
              "      <th>installment</th>\n",
              "      <th>grade</th>\n",
              "      <th>sub_grade</th>\n",
              "      <th>emp_title</th>\n",
              "      <th>emp_length</th>\n",
              "      <th>home_ownership</th>\n",
              "      <th>annual_inc</th>\n",
              "      <th>verification_status</th>\n",
              "      <th>issue_d</th>\n",
              "      <th>pymnt_plan</th>\n",
              "      <th>purpose</th>\n",
              "      <th>zip_code</th>\n",
              "      <th>addr_state</th>\n",
              "      <th>dti</th>\n",
              "      <th>delinq_2yrs</th>\n",
              "      <th>earliest_cr_line</th>\n",
              "      <th>inq_last_6mths</th>\n",
              "      <th>mths_since_last_delinq</th>\n",
              "      <th>open_acc</th>\n",
              "      <th>revol_bal</th>\n",
              "      <th>revol_util</th>\n",
              "      <th>total_acc</th>\n",
              "      <th>initial_list_status</th>\n",
              "      <th>out_prncp</th>\n",
              "      <th>total_pymnt</th>\n",
              "      <th>total_rec_int</th>\n",
              "      <th>last_pymnt_d</th>\n",
              "      <th>last_pymnt_amnt</th>\n",
              "      <th>next_pymnt_d</th>\n",
              "      <th>last_credit_pull_d</th>\n",
              "      <th>application_type</th>\n",
              "      <th>tot_cur_bal</th>\n",
              "      <th>total_rev_hi_lim</th>\n",
              "      <th>default_ind</th>\n",
              "    </tr>\n",
              "  </thead>\n",
              "  <tbody>\n",
              "    <tr>\n",
              "      <th>39694</th>\n",
              "      <td>27050.0</td>\n",
              "      <td>27050.0</td>\n",
              "      <td>36 months</td>\n",
              "      <td>10.99</td>\n",
              "      <td>885.46</td>\n",
              "      <td>B</td>\n",
              "      <td>B2</td>\n",
              "      <td>Team Leadern Customer Ops &amp; Systems</td>\n",
              "      <td>10+ years</td>\n",
              "      <td>OWN</td>\n",
              "      <td>55000.0</td>\n",
              "      <td>Verified</td>\n",
              "      <td>2013-12-01</td>\n",
              "      <td>n</td>\n",
              "      <td>debt_consolidation</td>\n",
              "      <td>481xx</td>\n",
              "      <td>MI</td>\n",
              "      <td>22.87</td>\n",
              "      <td>0.0</td>\n",
              "      <td>Oct-1986</td>\n",
              "      <td>0.0</td>\n",
              "      <td>25.0</td>\n",
              "      <td>14.0</td>\n",
              "      <td>36638.0</td>\n",
              "      <td>61.2</td>\n",
              "      <td>27.0</td>\n",
              "      <td>w</td>\n",
              "      <td>10018.90</td>\n",
              "      <td>21251.04</td>\n",
              "      <td>4219.94</td>\n",
              "      <td>Jan-2016</td>\n",
              "      <td>885.46</td>\n",
              "      <td>Feb-2016</td>\n",
              "      <td>Dec-2015</td>\n",
              "      <td>INDIVIDUAL</td>\n",
              "      <td>114834.0</td>\n",
              "      <td>59900.0</td>\n",
              "      <td>0</td>\n",
              "    </tr>\n",
              "    <tr>\n",
              "      <th>39695</th>\n",
              "      <td>9750.0</td>\n",
              "      <td>9750.0</td>\n",
              "      <td>36 months</td>\n",
              "      <td>13.98</td>\n",
              "      <td>333.14</td>\n",
              "      <td>C</td>\n",
              "      <td>C1</td>\n",
              "      <td>Medical Assistant</td>\n",
              "      <td>1 year</td>\n",
              "      <td>RENT</td>\n",
              "      <td>26000.0</td>\n",
              "      <td>Not Verified</td>\n",
              "      <td>2013-12-01</td>\n",
              "      <td>n</td>\n",
              "      <td>debt_consolidation</td>\n",
              "      <td>927xx</td>\n",
              "      <td>CA</td>\n",
              "      <td>25.12</td>\n",
              "      <td>0.0</td>\n",
              "      <td>Jan-2007</td>\n",
              "      <td>0.0</td>\n",
              "      <td>25.0</td>\n",
              "      <td>12.0</td>\n",
              "      <td>7967.0</td>\n",
              "      <td>52.8</td>\n",
              "      <td>28.0</td>\n",
              "      <td>f</td>\n",
              "      <td>3710.96</td>\n",
              "      <td>7994.83</td>\n",
              "      <td>1955.79</td>\n",
              "      <td>Jan-2016</td>\n",
              "      <td>333.14</td>\n",
              "      <td>Feb-2016</td>\n",
              "      <td>Jan-2016</td>\n",
              "      <td>INDIVIDUAL</td>\n",
              "      <td>14123.0</td>\n",
              "      <td>15100.0</td>\n",
              "      <td>0</td>\n",
              "    </tr>\n",
              "    <tr>\n",
              "      <th>39696</th>\n",
              "      <td>12000.0</td>\n",
              "      <td>12000.0</td>\n",
              "      <td>36 months</td>\n",
              "      <td>6.62</td>\n",
              "      <td>368.45</td>\n",
              "      <td>A</td>\n",
              "      <td>A2</td>\n",
              "      <td>MANAGER INFORMATION DELIVERY</td>\n",
              "      <td>10+ years</td>\n",
              "      <td>MORTGAGE</td>\n",
              "      <td>105000.0</td>\n",
              "      <td>Not Verified</td>\n",
              "      <td>2013-12-01</td>\n",
              "      <td>n</td>\n",
              "      <td>debt_consolidation</td>\n",
              "      <td>060xx</td>\n",
              "      <td>CT</td>\n",
              "      <td>14.05</td>\n",
              "      <td>0.0</td>\n",
              "      <td>Mar-1994</td>\n",
              "      <td>1.0</td>\n",
              "      <td>43.0</td>\n",
              "      <td>12.0</td>\n",
              "      <td>13168.0</td>\n",
              "      <td>21.6</td>\n",
              "      <td>22.0</td>\n",
              "      <td>w</td>\n",
              "      <td>4266.62</td>\n",
              "      <td>8842.80</td>\n",
              "      <td>1109.42</td>\n",
              "      <td>Jan-2016</td>\n",
              "      <td>368.45</td>\n",
              "      <td>Feb-2016</td>\n",
              "      <td>Jan-2016</td>\n",
              "      <td>INDIVIDUAL</td>\n",
              "      <td>267646.0</td>\n",
              "      <td>61100.0</td>\n",
              "      <td>0</td>\n",
              "    </tr>\n",
              "  </tbody>\n",
              "</table>\n",
              "</div>"
            ],
            "text/plain": [
              "       loan_amnt  funded_amnt  ... total_rev_hi_lim  default_ind\n",
              "39694    27050.0      27050.0  ...          59900.0            0\n",
              "39695     9750.0       9750.0  ...          15100.0            0\n",
              "39696    12000.0      12000.0  ...          61100.0            0\n",
              "\n",
              "[3 rows x 38 columns]"
            ]
          },
          "metadata": {
            "tags": []
          },
          "execution_count": 103
        }
      ]
    },
    {
      "cell_type": "code",
      "metadata": {
        "id": "W2CGd5swg4eY",
        "outputId": "0a81adfb-0b0d-4a15-c2af-313cee46e49c",
        "colab": {
          "base_uri": "https://localhost:8080/",
          "height": 350
        }
      },
      "source": [
        "data4=pd.DataFrame(data3.copy())\n",
        "data4.head()"
      ],
      "execution_count": 104,
      "outputs": [
        {
          "output_type": "execute_result",
          "data": {
            "text/html": [
              "<div>\n",
              "<style scoped>\n",
              "    .dataframe tbody tr th:only-of-type {\n",
              "        vertical-align: middle;\n",
              "    }\n",
              "\n",
              "    .dataframe tbody tr th {\n",
              "        vertical-align: top;\n",
              "    }\n",
              "\n",
              "    .dataframe thead th {\n",
              "        text-align: right;\n",
              "    }\n",
              "</style>\n",
              "<table border=\"1\" class=\"dataframe\">\n",
              "  <thead>\n",
              "    <tr style=\"text-align: right;\">\n",
              "      <th></th>\n",
              "      <th>loan_amnt</th>\n",
              "      <th>funded_amnt</th>\n",
              "      <th>term</th>\n",
              "      <th>int_rate</th>\n",
              "      <th>installment</th>\n",
              "      <th>grade</th>\n",
              "      <th>sub_grade</th>\n",
              "      <th>emp_title</th>\n",
              "      <th>emp_length</th>\n",
              "      <th>home_ownership</th>\n",
              "      <th>annual_inc</th>\n",
              "      <th>verification_status</th>\n",
              "      <th>issue_d</th>\n",
              "      <th>pymnt_plan</th>\n",
              "      <th>purpose</th>\n",
              "      <th>zip_code</th>\n",
              "      <th>addr_state</th>\n",
              "      <th>dti</th>\n",
              "      <th>delinq_2yrs</th>\n",
              "      <th>earliest_cr_line</th>\n",
              "      <th>inq_last_6mths</th>\n",
              "      <th>mths_since_last_delinq</th>\n",
              "      <th>open_acc</th>\n",
              "      <th>revol_bal</th>\n",
              "      <th>revol_util</th>\n",
              "      <th>total_acc</th>\n",
              "      <th>initial_list_status</th>\n",
              "      <th>out_prncp</th>\n",
              "      <th>total_pymnt</th>\n",
              "      <th>total_rec_int</th>\n",
              "      <th>last_pymnt_d</th>\n",
              "      <th>last_pymnt_amnt</th>\n",
              "      <th>next_pymnt_d</th>\n",
              "      <th>last_credit_pull_d</th>\n",
              "      <th>application_type</th>\n",
              "      <th>tot_cur_bal</th>\n",
              "      <th>total_rev_hi_lim</th>\n",
              "      <th>default_ind</th>\n",
              "    </tr>\n",
              "  </thead>\n",
              "  <tbody>\n",
              "    <tr>\n",
              "      <th>39694</th>\n",
              "      <td>27050.0</td>\n",
              "      <td>27050.0</td>\n",
              "      <td>36 months</td>\n",
              "      <td>10.99</td>\n",
              "      <td>885.46</td>\n",
              "      <td>B</td>\n",
              "      <td>B2</td>\n",
              "      <td>Team Leadern Customer Ops &amp; Systems</td>\n",
              "      <td>10+ years</td>\n",
              "      <td>OWN</td>\n",
              "      <td>55000.0</td>\n",
              "      <td>Verified</td>\n",
              "      <td>2013-12-01</td>\n",
              "      <td>n</td>\n",
              "      <td>debt_consolidation</td>\n",
              "      <td>481xx</td>\n",
              "      <td>MI</td>\n",
              "      <td>22.87</td>\n",
              "      <td>0.0</td>\n",
              "      <td>Oct-1986</td>\n",
              "      <td>0.0</td>\n",
              "      <td>25.0</td>\n",
              "      <td>14.0</td>\n",
              "      <td>36638.0</td>\n",
              "      <td>61.2</td>\n",
              "      <td>27.0</td>\n",
              "      <td>w</td>\n",
              "      <td>10018.90</td>\n",
              "      <td>21251.04</td>\n",
              "      <td>4219.94</td>\n",
              "      <td>Jan-2016</td>\n",
              "      <td>885.46</td>\n",
              "      <td>Feb-2016</td>\n",
              "      <td>Dec-2015</td>\n",
              "      <td>INDIVIDUAL</td>\n",
              "      <td>114834.0</td>\n",
              "      <td>59900.0</td>\n",
              "      <td>0</td>\n",
              "    </tr>\n",
              "    <tr>\n",
              "      <th>39695</th>\n",
              "      <td>9750.0</td>\n",
              "      <td>9750.0</td>\n",
              "      <td>36 months</td>\n",
              "      <td>13.98</td>\n",
              "      <td>333.14</td>\n",
              "      <td>C</td>\n",
              "      <td>C1</td>\n",
              "      <td>Medical Assistant</td>\n",
              "      <td>1 year</td>\n",
              "      <td>RENT</td>\n",
              "      <td>26000.0</td>\n",
              "      <td>Not Verified</td>\n",
              "      <td>2013-12-01</td>\n",
              "      <td>n</td>\n",
              "      <td>debt_consolidation</td>\n",
              "      <td>927xx</td>\n",
              "      <td>CA</td>\n",
              "      <td>25.12</td>\n",
              "      <td>0.0</td>\n",
              "      <td>Jan-2007</td>\n",
              "      <td>0.0</td>\n",
              "      <td>25.0</td>\n",
              "      <td>12.0</td>\n",
              "      <td>7967.0</td>\n",
              "      <td>52.8</td>\n",
              "      <td>28.0</td>\n",
              "      <td>f</td>\n",
              "      <td>3710.96</td>\n",
              "      <td>7994.83</td>\n",
              "      <td>1955.79</td>\n",
              "      <td>Jan-2016</td>\n",
              "      <td>333.14</td>\n",
              "      <td>Feb-2016</td>\n",
              "      <td>Jan-2016</td>\n",
              "      <td>INDIVIDUAL</td>\n",
              "      <td>14123.0</td>\n",
              "      <td>15100.0</td>\n",
              "      <td>0</td>\n",
              "    </tr>\n",
              "    <tr>\n",
              "      <th>39696</th>\n",
              "      <td>12000.0</td>\n",
              "      <td>12000.0</td>\n",
              "      <td>36 months</td>\n",
              "      <td>6.62</td>\n",
              "      <td>368.45</td>\n",
              "      <td>A</td>\n",
              "      <td>A2</td>\n",
              "      <td>MANAGER INFORMATION DELIVERY</td>\n",
              "      <td>10+ years</td>\n",
              "      <td>MORTGAGE</td>\n",
              "      <td>105000.0</td>\n",
              "      <td>Not Verified</td>\n",
              "      <td>2013-12-01</td>\n",
              "      <td>n</td>\n",
              "      <td>debt_consolidation</td>\n",
              "      <td>060xx</td>\n",
              "      <td>CT</td>\n",
              "      <td>14.05</td>\n",
              "      <td>0.0</td>\n",
              "      <td>Mar-1994</td>\n",
              "      <td>1.0</td>\n",
              "      <td>43.0</td>\n",
              "      <td>12.0</td>\n",
              "      <td>13168.0</td>\n",
              "      <td>21.6</td>\n",
              "      <td>22.0</td>\n",
              "      <td>w</td>\n",
              "      <td>4266.62</td>\n",
              "      <td>8842.80</td>\n",
              "      <td>1109.42</td>\n",
              "      <td>Jan-2016</td>\n",
              "      <td>368.45</td>\n",
              "      <td>Feb-2016</td>\n",
              "      <td>Jan-2016</td>\n",
              "      <td>INDIVIDUAL</td>\n",
              "      <td>267646.0</td>\n",
              "      <td>61100.0</td>\n",
              "      <td>0</td>\n",
              "    </tr>\n",
              "    <tr>\n",
              "      <th>39697</th>\n",
              "      <td>12000.0</td>\n",
              "      <td>12000.0</td>\n",
              "      <td>36 months</td>\n",
              "      <td>13.53</td>\n",
              "      <td>407.40</td>\n",
              "      <td>B</td>\n",
              "      <td>B5</td>\n",
              "      <td>On road manager</td>\n",
              "      <td>10+ years</td>\n",
              "      <td>RENT</td>\n",
              "      <td>40000.0</td>\n",
              "      <td>Source Verified</td>\n",
              "      <td>2013-12-01</td>\n",
              "      <td>n</td>\n",
              "      <td>debt_consolidation</td>\n",
              "      <td>871xx</td>\n",
              "      <td>NM</td>\n",
              "      <td>16.94</td>\n",
              "      <td>0.0</td>\n",
              "      <td>Oct-1998</td>\n",
              "      <td>0.0</td>\n",
              "      <td>53.0</td>\n",
              "      <td>7.0</td>\n",
              "      <td>5572.0</td>\n",
              "      <td>68.8</td>\n",
              "      <td>32.0</td>\n",
              "      <td>w</td>\n",
              "      <td>0.00</td>\n",
              "      <td>13359.77</td>\n",
              "      <td>1359.78</td>\n",
              "      <td>Sep-2015</td>\n",
              "      <td>119.17</td>\n",
              "      <td>Feb-2016</td>\n",
              "      <td>Jan-2016</td>\n",
              "      <td>INDIVIDUAL</td>\n",
              "      <td>13605.0</td>\n",
              "      <td>8100.0</td>\n",
              "      <td>0</td>\n",
              "    </tr>\n",
              "    <tr>\n",
              "      <th>39698</th>\n",
              "      <td>15000.0</td>\n",
              "      <td>15000.0</td>\n",
              "      <td>36 months</td>\n",
              "      <td>8.90</td>\n",
              "      <td>476.30</td>\n",
              "      <td>A</td>\n",
              "      <td>A5</td>\n",
              "      <td>aircraft maintenance engineer</td>\n",
              "      <td>2 years</td>\n",
              "      <td>MORTGAGE</td>\n",
              "      <td>63000.0</td>\n",
              "      <td>Not Verified</td>\n",
              "      <td>2013-12-01</td>\n",
              "      <td>n</td>\n",
              "      <td>debt_consolidation</td>\n",
              "      <td>334xx</td>\n",
              "      <td>FL</td>\n",
              "      <td>16.51</td>\n",
              "      <td>0.0</td>\n",
              "      <td>Mar-1998</td>\n",
              "      <td>0.0</td>\n",
              "      <td>34.0</td>\n",
              "      <td>8.0</td>\n",
              "      <td>11431.0</td>\n",
              "      <td>74.2</td>\n",
              "      <td>29.0</td>\n",
              "      <td>w</td>\n",
              "      <td>5449.27</td>\n",
              "      <td>11431.20</td>\n",
              "      <td>1880.47</td>\n",
              "      <td>Jan-2016</td>\n",
              "      <td>476.30</td>\n",
              "      <td>Feb-2016</td>\n",
              "      <td>Jan-2016</td>\n",
              "      <td>INDIVIDUAL</td>\n",
              "      <td>272492.0</td>\n",
              "      <td>15400.0</td>\n",
              "      <td>0</td>\n",
              "    </tr>\n",
              "  </tbody>\n",
              "</table>\n",
              "</div>"
            ],
            "text/plain": [
              "       loan_amnt  funded_amnt  ... total_rev_hi_lim  default_ind\n",
              "39694    27050.0      27050.0  ...          59900.0            0\n",
              "39695     9750.0       9750.0  ...          15100.0            0\n",
              "39696    12000.0      12000.0  ...          61100.0            0\n",
              "39697    12000.0      12000.0  ...           8100.0            0\n",
              "39698    15000.0      15000.0  ...          15400.0            0\n",
              "\n",
              "[5 rows x 38 columns]"
            ]
          },
          "metadata": {
            "tags": []
          },
          "execution_count": 104
        }
      ]
    },
    {
      "cell_type": "code",
      "metadata": {
        "id": "alxR8jYBg4Ym",
        "outputId": "1609b213-2197-4961-fa23-e753d06a3ff6",
        "colab": {
          "base_uri": "https://localhost:8080/"
        }
      },
      "source": [
        "drp=['emp_title','title','zip_code','application_type']\n",
        "keep=[]\n",
        "for i in data4.columns:\n",
        "  if i not in drp:\n",
        "    keep.append(i) \n",
        "\n",
        "print(keep)"
      ],
      "execution_count": 105,
      "outputs": [
        {
          "output_type": "stream",
          "text": [
            "['loan_amnt', 'funded_amnt', 'term', 'int_rate', 'installment', 'grade', 'sub_grade', 'emp_length', 'home_ownership', 'annual_inc', 'verification_status', 'issue_d', 'pymnt_plan', 'purpose', 'addr_state', 'dti', 'delinq_2yrs', 'earliest_cr_line', 'inq_last_6mths', 'mths_since_last_delinq', 'open_acc', 'revol_bal', 'revol_util', 'total_acc', 'initial_list_status', 'out_prncp', 'total_pymnt', 'total_rec_int', 'last_pymnt_d', 'last_pymnt_amnt', 'next_pymnt_d', 'last_credit_pull_d', 'tot_cur_bal', 'total_rev_hi_lim', 'default_ind']\n"
          ],
          "name": "stdout"
        }
      ]
    },
    {
      "cell_type": "code",
      "metadata": {
        "id": "EOqfUJ3cg4WW",
        "outputId": "40118f04-3046-4828-a302-8cc85e737f0b",
        "colab": {
          "base_uri": "https://localhost:8080/",
          "height": 299
        }
      },
      "source": [
        "data5=data4[keep]\n",
        "data5.head()"
      ],
      "execution_count": 106,
      "outputs": [
        {
          "output_type": "execute_result",
          "data": {
            "text/html": [
              "<div>\n",
              "<style scoped>\n",
              "    .dataframe tbody tr th:only-of-type {\n",
              "        vertical-align: middle;\n",
              "    }\n",
              "\n",
              "    .dataframe tbody tr th {\n",
              "        vertical-align: top;\n",
              "    }\n",
              "\n",
              "    .dataframe thead th {\n",
              "        text-align: right;\n",
              "    }\n",
              "</style>\n",
              "<table border=\"1\" class=\"dataframe\">\n",
              "  <thead>\n",
              "    <tr style=\"text-align: right;\">\n",
              "      <th></th>\n",
              "      <th>loan_amnt</th>\n",
              "      <th>funded_amnt</th>\n",
              "      <th>term</th>\n",
              "      <th>int_rate</th>\n",
              "      <th>installment</th>\n",
              "      <th>grade</th>\n",
              "      <th>sub_grade</th>\n",
              "      <th>emp_length</th>\n",
              "      <th>home_ownership</th>\n",
              "      <th>annual_inc</th>\n",
              "      <th>verification_status</th>\n",
              "      <th>issue_d</th>\n",
              "      <th>pymnt_plan</th>\n",
              "      <th>purpose</th>\n",
              "      <th>addr_state</th>\n",
              "      <th>dti</th>\n",
              "      <th>delinq_2yrs</th>\n",
              "      <th>earliest_cr_line</th>\n",
              "      <th>inq_last_6mths</th>\n",
              "      <th>mths_since_last_delinq</th>\n",
              "      <th>open_acc</th>\n",
              "      <th>revol_bal</th>\n",
              "      <th>revol_util</th>\n",
              "      <th>total_acc</th>\n",
              "      <th>initial_list_status</th>\n",
              "      <th>out_prncp</th>\n",
              "      <th>total_pymnt</th>\n",
              "      <th>total_rec_int</th>\n",
              "      <th>last_pymnt_d</th>\n",
              "      <th>last_pymnt_amnt</th>\n",
              "      <th>next_pymnt_d</th>\n",
              "      <th>last_credit_pull_d</th>\n",
              "      <th>tot_cur_bal</th>\n",
              "      <th>total_rev_hi_lim</th>\n",
              "      <th>default_ind</th>\n",
              "    </tr>\n",
              "  </thead>\n",
              "  <tbody>\n",
              "    <tr>\n",
              "      <th>39694</th>\n",
              "      <td>27050.0</td>\n",
              "      <td>27050.0</td>\n",
              "      <td>36 months</td>\n",
              "      <td>10.99</td>\n",
              "      <td>885.46</td>\n",
              "      <td>B</td>\n",
              "      <td>B2</td>\n",
              "      <td>10+ years</td>\n",
              "      <td>OWN</td>\n",
              "      <td>55000.0</td>\n",
              "      <td>Verified</td>\n",
              "      <td>2013-12-01</td>\n",
              "      <td>n</td>\n",
              "      <td>debt_consolidation</td>\n",
              "      <td>MI</td>\n",
              "      <td>22.87</td>\n",
              "      <td>0.0</td>\n",
              "      <td>Oct-1986</td>\n",
              "      <td>0.0</td>\n",
              "      <td>25.0</td>\n",
              "      <td>14.0</td>\n",
              "      <td>36638.0</td>\n",
              "      <td>61.2</td>\n",
              "      <td>27.0</td>\n",
              "      <td>w</td>\n",
              "      <td>10018.90</td>\n",
              "      <td>21251.04</td>\n",
              "      <td>4219.94</td>\n",
              "      <td>Jan-2016</td>\n",
              "      <td>885.46</td>\n",
              "      <td>Feb-2016</td>\n",
              "      <td>Dec-2015</td>\n",
              "      <td>114834.0</td>\n",
              "      <td>59900.0</td>\n",
              "      <td>0</td>\n",
              "    </tr>\n",
              "    <tr>\n",
              "      <th>39695</th>\n",
              "      <td>9750.0</td>\n",
              "      <td>9750.0</td>\n",
              "      <td>36 months</td>\n",
              "      <td>13.98</td>\n",
              "      <td>333.14</td>\n",
              "      <td>C</td>\n",
              "      <td>C1</td>\n",
              "      <td>1 year</td>\n",
              "      <td>RENT</td>\n",
              "      <td>26000.0</td>\n",
              "      <td>Not Verified</td>\n",
              "      <td>2013-12-01</td>\n",
              "      <td>n</td>\n",
              "      <td>debt_consolidation</td>\n",
              "      <td>CA</td>\n",
              "      <td>25.12</td>\n",
              "      <td>0.0</td>\n",
              "      <td>Jan-2007</td>\n",
              "      <td>0.0</td>\n",
              "      <td>25.0</td>\n",
              "      <td>12.0</td>\n",
              "      <td>7967.0</td>\n",
              "      <td>52.8</td>\n",
              "      <td>28.0</td>\n",
              "      <td>f</td>\n",
              "      <td>3710.96</td>\n",
              "      <td>7994.83</td>\n",
              "      <td>1955.79</td>\n",
              "      <td>Jan-2016</td>\n",
              "      <td>333.14</td>\n",
              "      <td>Feb-2016</td>\n",
              "      <td>Jan-2016</td>\n",
              "      <td>14123.0</td>\n",
              "      <td>15100.0</td>\n",
              "      <td>0</td>\n",
              "    </tr>\n",
              "    <tr>\n",
              "      <th>39696</th>\n",
              "      <td>12000.0</td>\n",
              "      <td>12000.0</td>\n",
              "      <td>36 months</td>\n",
              "      <td>6.62</td>\n",
              "      <td>368.45</td>\n",
              "      <td>A</td>\n",
              "      <td>A2</td>\n",
              "      <td>10+ years</td>\n",
              "      <td>MORTGAGE</td>\n",
              "      <td>105000.0</td>\n",
              "      <td>Not Verified</td>\n",
              "      <td>2013-12-01</td>\n",
              "      <td>n</td>\n",
              "      <td>debt_consolidation</td>\n",
              "      <td>CT</td>\n",
              "      <td>14.05</td>\n",
              "      <td>0.0</td>\n",
              "      <td>Mar-1994</td>\n",
              "      <td>1.0</td>\n",
              "      <td>43.0</td>\n",
              "      <td>12.0</td>\n",
              "      <td>13168.0</td>\n",
              "      <td>21.6</td>\n",
              "      <td>22.0</td>\n",
              "      <td>w</td>\n",
              "      <td>4266.62</td>\n",
              "      <td>8842.80</td>\n",
              "      <td>1109.42</td>\n",
              "      <td>Jan-2016</td>\n",
              "      <td>368.45</td>\n",
              "      <td>Feb-2016</td>\n",
              "      <td>Jan-2016</td>\n",
              "      <td>267646.0</td>\n",
              "      <td>61100.0</td>\n",
              "      <td>0</td>\n",
              "    </tr>\n",
              "    <tr>\n",
              "      <th>39697</th>\n",
              "      <td>12000.0</td>\n",
              "      <td>12000.0</td>\n",
              "      <td>36 months</td>\n",
              "      <td>13.53</td>\n",
              "      <td>407.40</td>\n",
              "      <td>B</td>\n",
              "      <td>B5</td>\n",
              "      <td>10+ years</td>\n",
              "      <td>RENT</td>\n",
              "      <td>40000.0</td>\n",
              "      <td>Source Verified</td>\n",
              "      <td>2013-12-01</td>\n",
              "      <td>n</td>\n",
              "      <td>debt_consolidation</td>\n",
              "      <td>NM</td>\n",
              "      <td>16.94</td>\n",
              "      <td>0.0</td>\n",
              "      <td>Oct-1998</td>\n",
              "      <td>0.0</td>\n",
              "      <td>53.0</td>\n",
              "      <td>7.0</td>\n",
              "      <td>5572.0</td>\n",
              "      <td>68.8</td>\n",
              "      <td>32.0</td>\n",
              "      <td>w</td>\n",
              "      <td>0.00</td>\n",
              "      <td>13359.77</td>\n",
              "      <td>1359.78</td>\n",
              "      <td>Sep-2015</td>\n",
              "      <td>119.17</td>\n",
              "      <td>Feb-2016</td>\n",
              "      <td>Jan-2016</td>\n",
              "      <td>13605.0</td>\n",
              "      <td>8100.0</td>\n",
              "      <td>0</td>\n",
              "    </tr>\n",
              "    <tr>\n",
              "      <th>39698</th>\n",
              "      <td>15000.0</td>\n",
              "      <td>15000.0</td>\n",
              "      <td>36 months</td>\n",
              "      <td>8.90</td>\n",
              "      <td>476.30</td>\n",
              "      <td>A</td>\n",
              "      <td>A5</td>\n",
              "      <td>2 years</td>\n",
              "      <td>MORTGAGE</td>\n",
              "      <td>63000.0</td>\n",
              "      <td>Not Verified</td>\n",
              "      <td>2013-12-01</td>\n",
              "      <td>n</td>\n",
              "      <td>debt_consolidation</td>\n",
              "      <td>FL</td>\n",
              "      <td>16.51</td>\n",
              "      <td>0.0</td>\n",
              "      <td>Mar-1998</td>\n",
              "      <td>0.0</td>\n",
              "      <td>34.0</td>\n",
              "      <td>8.0</td>\n",
              "      <td>11431.0</td>\n",
              "      <td>74.2</td>\n",
              "      <td>29.0</td>\n",
              "      <td>w</td>\n",
              "      <td>5449.27</td>\n",
              "      <td>11431.20</td>\n",
              "      <td>1880.47</td>\n",
              "      <td>Jan-2016</td>\n",
              "      <td>476.30</td>\n",
              "      <td>Feb-2016</td>\n",
              "      <td>Jan-2016</td>\n",
              "      <td>272492.0</td>\n",
              "      <td>15400.0</td>\n",
              "      <td>0</td>\n",
              "    </tr>\n",
              "  </tbody>\n",
              "</table>\n",
              "</div>"
            ],
            "text/plain": [
              "       loan_amnt  funded_amnt  ... total_rev_hi_lim  default_ind\n",
              "39694    27050.0      27050.0  ...          59900.0            0\n",
              "39695     9750.0       9750.0  ...          15100.0            0\n",
              "39696    12000.0      12000.0  ...          61100.0            0\n",
              "39697    12000.0      12000.0  ...           8100.0            0\n",
              "39698    15000.0      15000.0  ...          15400.0            0\n",
              "\n",
              "[5 rows x 35 columns]"
            ]
          },
          "metadata": {
            "tags": []
          },
          "execution_count": 106
        }
      ]
    },
    {
      "cell_type": "code",
      "metadata": {
        "id": "jbZyprqEg4UG",
        "outputId": "79b4425c-14c4-4213-c73c-1a3f715e575e",
        "colab": {
          "base_uri": "https://localhost:8080/"
        }
      },
      "source": [
        "data5.info()"
      ],
      "execution_count": 107,
      "outputs": [
        {
          "output_type": "stream",
          "text": [
            "<class 'pandas.core.frame.DataFrame'>\n",
            "Int64Index: 788533 entries, 39694 to 855968\n",
            "Data columns (total 35 columns):\n",
            " #   Column                  Non-Null Count   Dtype         \n",
            "---  ------                  --------------   -----         \n",
            " 0   loan_amnt               788533 non-null  float64       \n",
            " 1   funded_amnt             788533 non-null  float64       \n",
            " 2   term                    788533 non-null  object        \n",
            " 3   int_rate                788533 non-null  float64       \n",
            " 4   installment             788533 non-null  float64       \n",
            " 5   grade                   788533 non-null  object        \n",
            " 6   sub_grade               788533 non-null  object        \n",
            " 7   emp_length              788533 non-null  object        \n",
            " 8   home_ownership          788533 non-null  object        \n",
            " 9   annual_inc              788533 non-null  float64       \n",
            " 10  verification_status     788533 non-null  object        \n",
            " 11  issue_d                 788533 non-null  datetime64[ns]\n",
            " 12  pymnt_plan              788533 non-null  object        \n",
            " 13  purpose                 788533 non-null  object        \n",
            " 14  addr_state              788533 non-null  object        \n",
            " 15  dti                     788533 non-null  float64       \n",
            " 16  delinq_2yrs             788533 non-null  float64       \n",
            " 17  earliest_cr_line        788533 non-null  object        \n",
            " 18  inq_last_6mths          788533 non-null  float64       \n",
            " 19  mths_since_last_delinq  788533 non-null  float64       \n",
            " 20  open_acc                788533 non-null  float64       \n",
            " 21  revol_bal               788533 non-null  float64       \n",
            " 22  revol_util              788533 non-null  float64       \n",
            " 23  total_acc               788533 non-null  float64       \n",
            " 24  initial_list_status     788533 non-null  object        \n",
            " 25  out_prncp               788533 non-null  float64       \n",
            " 26  total_pymnt             788533 non-null  float64       \n",
            " 27  total_rec_int           788533 non-null  float64       \n",
            " 28  last_pymnt_d            788533 non-null  object        \n",
            " 29  last_pymnt_amnt         788533 non-null  float64       \n",
            " 30  next_pymnt_d            788533 non-null  object        \n",
            " 31  last_credit_pull_d      788533 non-null  object        \n",
            " 32  tot_cur_bal             788533 non-null  float64       \n",
            " 33  total_rev_hi_lim        788533 non-null  float64       \n",
            " 34  default_ind             788533 non-null  int64         \n",
            "dtypes: datetime64[ns](1), float64(19), int64(1), object(14)\n",
            "memory usage: 216.6+ MB\n"
          ],
          "name": "stdout"
        }
      ]
    },
    {
      "cell_type": "code",
      "metadata": {
        "id": "LsNKx3dYg4Sc",
        "outputId": "fd7c4aec-0512-4c09-f0a4-4a0ed9bf22e2",
        "colab": {
          "base_uri": "https://localhost:8080/"
        }
      },
      "source": [
        "categ=[]\n",
        "num=[]\n",
        "for i in data5.columns:\n",
        "  if data5[i].dtype=='object':\n",
        "    categ.append(i)\n",
        "  else:\n",
        "    num.append(i)\n",
        "\n",
        "print(categ)\n",
        "print(num)"
      ],
      "execution_count": 108,
      "outputs": [
        {
          "output_type": "stream",
          "text": [
            "['term', 'grade', 'sub_grade', 'emp_length', 'home_ownership', 'verification_status', 'pymnt_plan', 'purpose', 'addr_state', 'earliest_cr_line', 'initial_list_status', 'last_pymnt_d', 'next_pymnt_d', 'last_credit_pull_d']\n",
            "['loan_amnt', 'funded_amnt', 'int_rate', 'installment', 'annual_inc', 'issue_d', 'dti', 'delinq_2yrs', 'inq_last_6mths', 'mths_since_last_delinq', 'open_acc', 'revol_bal', 'revol_util', 'total_acc', 'out_prncp', 'total_pymnt', 'total_rec_int', 'last_pymnt_amnt', 'tot_cur_bal', 'total_rev_hi_lim', 'default_ind']\n"
          ],
          "name": "stdout"
        }
      ]
    },
    {
      "cell_type": "code",
      "metadata": {
        "id": "lmaW4sZxg4QO",
        "outputId": "3edbdde3-ccf7-42b4-c9df-163e60845991",
        "colab": {
          "base_uri": "https://localhost:8080/",
          "height": 307
        }
      },
      "source": [
        "# Label encoding sub_grade, purpose & addr_state\n",
        "from sklearn import preprocessing\n",
        "le=preprocessing.LabelEncoder()       \n",
        "\n",
        "for x in categ:  #['sub_grade','purpose','addr_state']:\n",
        "    data5[x]=le.fit_transform(data5[x])\n",
        "\n",
        "data5.head(3)"
      ],
      "execution_count": 109,
      "outputs": [
        {
          "output_type": "stream",
          "text": [
            "/usr/local/lib/python3.6/dist-packages/ipykernel_launcher.py:6: SettingWithCopyWarning: \n",
            "A value is trying to be set on a copy of a slice from a DataFrame.\n",
            "Try using .loc[row_indexer,col_indexer] = value instead\n",
            "\n",
            "See the caveats in the documentation: https://pandas.pydata.org/pandas-docs/stable/user_guide/indexing.html#returning-a-view-versus-a-copy\n",
            "  \n"
          ],
          "name": "stderr"
        },
        {
          "output_type": "execute_result",
          "data": {
            "text/html": [
              "<div>\n",
              "<style scoped>\n",
              "    .dataframe tbody tr th:only-of-type {\n",
              "        vertical-align: middle;\n",
              "    }\n",
              "\n",
              "    .dataframe tbody tr th {\n",
              "        vertical-align: top;\n",
              "    }\n",
              "\n",
              "    .dataframe thead th {\n",
              "        text-align: right;\n",
              "    }\n",
              "</style>\n",
              "<table border=\"1\" class=\"dataframe\">\n",
              "  <thead>\n",
              "    <tr style=\"text-align: right;\">\n",
              "      <th></th>\n",
              "      <th>loan_amnt</th>\n",
              "      <th>funded_amnt</th>\n",
              "      <th>term</th>\n",
              "      <th>int_rate</th>\n",
              "      <th>installment</th>\n",
              "      <th>grade</th>\n",
              "      <th>sub_grade</th>\n",
              "      <th>emp_length</th>\n",
              "      <th>home_ownership</th>\n",
              "      <th>annual_inc</th>\n",
              "      <th>verification_status</th>\n",
              "      <th>issue_d</th>\n",
              "      <th>pymnt_plan</th>\n",
              "      <th>purpose</th>\n",
              "      <th>addr_state</th>\n",
              "      <th>dti</th>\n",
              "      <th>delinq_2yrs</th>\n",
              "      <th>earliest_cr_line</th>\n",
              "      <th>inq_last_6mths</th>\n",
              "      <th>mths_since_last_delinq</th>\n",
              "      <th>open_acc</th>\n",
              "      <th>revol_bal</th>\n",
              "      <th>revol_util</th>\n",
              "      <th>total_acc</th>\n",
              "      <th>initial_list_status</th>\n",
              "      <th>out_prncp</th>\n",
              "      <th>total_pymnt</th>\n",
              "      <th>total_rec_int</th>\n",
              "      <th>last_pymnt_d</th>\n",
              "      <th>last_pymnt_amnt</th>\n",
              "      <th>next_pymnt_d</th>\n",
              "      <th>last_credit_pull_d</th>\n",
              "      <th>tot_cur_bal</th>\n",
              "      <th>total_rev_hi_lim</th>\n",
              "      <th>default_ind</th>\n",
              "    </tr>\n",
              "  </thead>\n",
              "  <tbody>\n",
              "    <tr>\n",
              "      <th>39694</th>\n",
              "      <td>27050.0</td>\n",
              "      <td>27050.0</td>\n",
              "      <td>0</td>\n",
              "      <td>10.99</td>\n",
              "      <td>885.46</td>\n",
              "      <td>1</td>\n",
              "      <td>6</td>\n",
              "      <td>1</td>\n",
              "      <td>4</td>\n",
              "      <td>55000.0</td>\n",
              "      <td>2</td>\n",
              "      <td>2013-12-01</td>\n",
              "      <td>0</td>\n",
              "      <td>2</td>\n",
              "      <td>22</td>\n",
              "      <td>22.87</td>\n",
              "      <td>0.0</td>\n",
              "      <td>610</td>\n",
              "      <td>0.0</td>\n",
              "      <td>25.0</td>\n",
              "      <td>14.0</td>\n",
              "      <td>36638.0</td>\n",
              "      <td>61.2</td>\n",
              "      <td>27.0</td>\n",
              "      <td>1</td>\n",
              "      <td>10018.90</td>\n",
              "      <td>21251.04</td>\n",
              "      <td>4219.94</td>\n",
              "      <td>16</td>\n",
              "      <td>885.46</td>\n",
              "      <td>0</td>\n",
              "      <td>10</td>\n",
              "      <td>114834.0</td>\n",
              "      <td>59900.0</td>\n",
              "      <td>0</td>\n",
              "    </tr>\n",
              "    <tr>\n",
              "      <th>39695</th>\n",
              "      <td>9750.0</td>\n",
              "      <td>9750.0</td>\n",
              "      <td>0</td>\n",
              "      <td>13.98</td>\n",
              "      <td>333.14</td>\n",
              "      <td>2</td>\n",
              "      <td>10</td>\n",
              "      <td>0</td>\n",
              "      <td>5</td>\n",
              "      <td>26000.0</td>\n",
              "      <td>0</td>\n",
              "      <td>2013-12-01</td>\n",
              "      <td>0</td>\n",
              "      <td>2</td>\n",
              "      <td>4</td>\n",
              "      <td>25.12</td>\n",
              "      <td>0.0</td>\n",
              "      <td>283</td>\n",
              "      <td>0.0</td>\n",
              "      <td>25.0</td>\n",
              "      <td>12.0</td>\n",
              "      <td>7967.0</td>\n",
              "      <td>52.8</td>\n",
              "      <td>28.0</td>\n",
              "      <td>0</td>\n",
              "      <td>3710.96</td>\n",
              "      <td>7994.83</td>\n",
              "      <td>1955.79</td>\n",
              "      <td>16</td>\n",
              "      <td>333.14</td>\n",
              "      <td>0</td>\n",
              "      <td>17</td>\n",
              "      <td>14123.0</td>\n",
              "      <td>15100.0</td>\n",
              "      <td>0</td>\n",
              "    </tr>\n",
              "    <tr>\n",
              "      <th>39696</th>\n",
              "      <td>12000.0</td>\n",
              "      <td>12000.0</td>\n",
              "      <td>0</td>\n",
              "      <td>6.62</td>\n",
              "      <td>368.45</td>\n",
              "      <td>0</td>\n",
              "      <td>1</td>\n",
              "      <td>1</td>\n",
              "      <td>1</td>\n",
              "      <td>105000.0</td>\n",
              "      <td>0</td>\n",
              "      <td>2013-12-01</td>\n",
              "      <td>0</td>\n",
              "      <td>2</td>\n",
              "      <td>6</td>\n",
              "      <td>14.05</td>\n",
              "      <td>0.0</td>\n",
              "      <td>441</td>\n",
              "      <td>1.0</td>\n",
              "      <td>43.0</td>\n",
              "      <td>12.0</td>\n",
              "      <td>13168.0</td>\n",
              "      <td>21.6</td>\n",
              "      <td>22.0</td>\n",
              "      <td>1</td>\n",
              "      <td>4266.62</td>\n",
              "      <td>8842.80</td>\n",
              "      <td>1109.42</td>\n",
              "      <td>16</td>\n",
              "      <td>368.45</td>\n",
              "      <td>0</td>\n",
              "      <td>17</td>\n",
              "      <td>267646.0</td>\n",
              "      <td>61100.0</td>\n",
              "      <td>0</td>\n",
              "    </tr>\n",
              "  </tbody>\n",
              "</table>\n",
              "</div>"
            ],
            "text/plain": [
              "       loan_amnt  funded_amnt  term  ...  tot_cur_bal  total_rev_hi_lim  default_ind\n",
              "39694    27050.0      27050.0     0  ...     114834.0           59900.0            0\n",
              "39695     9750.0       9750.0     0  ...      14123.0           15100.0            0\n",
              "39696    12000.0      12000.0     0  ...     267646.0           61100.0            0\n",
              "\n",
              "[3 rows x 35 columns]"
            ]
          },
          "metadata": {
            "tags": []
          },
          "execution_count": 109
        }
      ]
    },
    {
      "cell_type": "code",
      "metadata": {
        "id": "81sz8H85jWG3",
        "outputId": "b6310ff3-f05a-4da3-f85b-840dc3423a47",
        "colab": {
          "base_uri": "https://localhost:8080/",
          "height": 316
        }
      },
      "source": [
        "data6=pd.DataFrame(data5.copy())\n",
        "data6.drop(['term', 'grade', 'home_ownership', 'verification_status', 'initial_list_status'],axis=1,inplace=True)\n",
        "print(data6.shape)\n",
        "data6.head()"
      ],
      "execution_count": 110,
      "outputs": [
        {
          "output_type": "stream",
          "text": [
            "(788533, 30)\n"
          ],
          "name": "stdout"
        },
        {
          "output_type": "execute_result",
          "data": {
            "text/html": [
              "<div>\n",
              "<style scoped>\n",
              "    .dataframe tbody tr th:only-of-type {\n",
              "        vertical-align: middle;\n",
              "    }\n",
              "\n",
              "    .dataframe tbody tr th {\n",
              "        vertical-align: top;\n",
              "    }\n",
              "\n",
              "    .dataframe thead th {\n",
              "        text-align: right;\n",
              "    }\n",
              "</style>\n",
              "<table border=\"1\" class=\"dataframe\">\n",
              "  <thead>\n",
              "    <tr style=\"text-align: right;\">\n",
              "      <th></th>\n",
              "      <th>loan_amnt</th>\n",
              "      <th>funded_amnt</th>\n",
              "      <th>int_rate</th>\n",
              "      <th>installment</th>\n",
              "      <th>sub_grade</th>\n",
              "      <th>emp_length</th>\n",
              "      <th>annual_inc</th>\n",
              "      <th>issue_d</th>\n",
              "      <th>pymnt_plan</th>\n",
              "      <th>purpose</th>\n",
              "      <th>addr_state</th>\n",
              "      <th>dti</th>\n",
              "      <th>delinq_2yrs</th>\n",
              "      <th>earliest_cr_line</th>\n",
              "      <th>inq_last_6mths</th>\n",
              "      <th>mths_since_last_delinq</th>\n",
              "      <th>open_acc</th>\n",
              "      <th>revol_bal</th>\n",
              "      <th>revol_util</th>\n",
              "      <th>total_acc</th>\n",
              "      <th>out_prncp</th>\n",
              "      <th>total_pymnt</th>\n",
              "      <th>total_rec_int</th>\n",
              "      <th>last_pymnt_d</th>\n",
              "      <th>last_pymnt_amnt</th>\n",
              "      <th>next_pymnt_d</th>\n",
              "      <th>last_credit_pull_d</th>\n",
              "      <th>tot_cur_bal</th>\n",
              "      <th>total_rev_hi_lim</th>\n",
              "      <th>default_ind</th>\n",
              "    </tr>\n",
              "  </thead>\n",
              "  <tbody>\n",
              "    <tr>\n",
              "      <th>39694</th>\n",
              "      <td>27050.0</td>\n",
              "      <td>27050.0</td>\n",
              "      <td>10.99</td>\n",
              "      <td>885.46</td>\n",
              "      <td>6</td>\n",
              "      <td>1</td>\n",
              "      <td>55000.0</td>\n",
              "      <td>2013-12-01</td>\n",
              "      <td>0</td>\n",
              "      <td>2</td>\n",
              "      <td>22</td>\n",
              "      <td>22.87</td>\n",
              "      <td>0.0</td>\n",
              "      <td>610</td>\n",
              "      <td>0.0</td>\n",
              "      <td>25.0</td>\n",
              "      <td>14.0</td>\n",
              "      <td>36638.0</td>\n",
              "      <td>61.2</td>\n",
              "      <td>27.0</td>\n",
              "      <td>10018.90</td>\n",
              "      <td>21251.04</td>\n",
              "      <td>4219.94</td>\n",
              "      <td>16</td>\n",
              "      <td>885.46</td>\n",
              "      <td>0</td>\n",
              "      <td>10</td>\n",
              "      <td>114834.0</td>\n",
              "      <td>59900.0</td>\n",
              "      <td>0</td>\n",
              "    </tr>\n",
              "    <tr>\n",
              "      <th>39695</th>\n",
              "      <td>9750.0</td>\n",
              "      <td>9750.0</td>\n",
              "      <td>13.98</td>\n",
              "      <td>333.14</td>\n",
              "      <td>10</td>\n",
              "      <td>0</td>\n",
              "      <td>26000.0</td>\n",
              "      <td>2013-12-01</td>\n",
              "      <td>0</td>\n",
              "      <td>2</td>\n",
              "      <td>4</td>\n",
              "      <td>25.12</td>\n",
              "      <td>0.0</td>\n",
              "      <td>283</td>\n",
              "      <td>0.0</td>\n",
              "      <td>25.0</td>\n",
              "      <td>12.0</td>\n",
              "      <td>7967.0</td>\n",
              "      <td>52.8</td>\n",
              "      <td>28.0</td>\n",
              "      <td>3710.96</td>\n",
              "      <td>7994.83</td>\n",
              "      <td>1955.79</td>\n",
              "      <td>16</td>\n",
              "      <td>333.14</td>\n",
              "      <td>0</td>\n",
              "      <td>17</td>\n",
              "      <td>14123.0</td>\n",
              "      <td>15100.0</td>\n",
              "      <td>0</td>\n",
              "    </tr>\n",
              "    <tr>\n",
              "      <th>39696</th>\n",
              "      <td>12000.0</td>\n",
              "      <td>12000.0</td>\n",
              "      <td>6.62</td>\n",
              "      <td>368.45</td>\n",
              "      <td>1</td>\n",
              "      <td>1</td>\n",
              "      <td>105000.0</td>\n",
              "      <td>2013-12-01</td>\n",
              "      <td>0</td>\n",
              "      <td>2</td>\n",
              "      <td>6</td>\n",
              "      <td>14.05</td>\n",
              "      <td>0.0</td>\n",
              "      <td>441</td>\n",
              "      <td>1.0</td>\n",
              "      <td>43.0</td>\n",
              "      <td>12.0</td>\n",
              "      <td>13168.0</td>\n",
              "      <td>21.6</td>\n",
              "      <td>22.0</td>\n",
              "      <td>4266.62</td>\n",
              "      <td>8842.80</td>\n",
              "      <td>1109.42</td>\n",
              "      <td>16</td>\n",
              "      <td>368.45</td>\n",
              "      <td>0</td>\n",
              "      <td>17</td>\n",
              "      <td>267646.0</td>\n",
              "      <td>61100.0</td>\n",
              "      <td>0</td>\n",
              "    </tr>\n",
              "    <tr>\n",
              "      <th>39697</th>\n",
              "      <td>12000.0</td>\n",
              "      <td>12000.0</td>\n",
              "      <td>13.53</td>\n",
              "      <td>407.40</td>\n",
              "      <td>9</td>\n",
              "      <td>1</td>\n",
              "      <td>40000.0</td>\n",
              "      <td>2013-12-01</td>\n",
              "      <td>0</td>\n",
              "      <td>2</td>\n",
              "      <td>32</td>\n",
              "      <td>16.94</td>\n",
              "      <td>0.0</td>\n",
              "      <td>622</td>\n",
              "      <td>0.0</td>\n",
              "      <td>53.0</td>\n",
              "      <td>7.0</td>\n",
              "      <td>5572.0</td>\n",
              "      <td>68.8</td>\n",
              "      <td>32.0</td>\n",
              "      <td>0.00</td>\n",
              "      <td>13359.77</td>\n",
              "      <td>1359.78</td>\n",
              "      <td>40</td>\n",
              "      <td>119.17</td>\n",
              "      <td>0</td>\n",
              "      <td>17</td>\n",
              "      <td>13605.0</td>\n",
              "      <td>8100.0</td>\n",
              "      <td>0</td>\n",
              "    </tr>\n",
              "    <tr>\n",
              "      <th>39698</th>\n",
              "      <td>15000.0</td>\n",
              "      <td>15000.0</td>\n",
              "      <td>8.90</td>\n",
              "      <td>476.30</td>\n",
              "      <td>4</td>\n",
              "      <td>2</td>\n",
              "      <td>63000.0</td>\n",
              "      <td>2013-12-01</td>\n",
              "      <td>0</td>\n",
              "      <td>2</td>\n",
              "      <td>9</td>\n",
              "      <td>16.51</td>\n",
              "      <td>0.0</td>\n",
              "      <td>445</td>\n",
              "      <td>0.0</td>\n",
              "      <td>34.0</td>\n",
              "      <td>8.0</td>\n",
              "      <td>11431.0</td>\n",
              "      <td>74.2</td>\n",
              "      <td>29.0</td>\n",
              "      <td>5449.27</td>\n",
              "      <td>11431.20</td>\n",
              "      <td>1880.47</td>\n",
              "      <td>16</td>\n",
              "      <td>476.30</td>\n",
              "      <td>0</td>\n",
              "      <td>17</td>\n",
              "      <td>272492.0</td>\n",
              "      <td>15400.0</td>\n",
              "      <td>0</td>\n",
              "    </tr>\n",
              "  </tbody>\n",
              "</table>\n",
              "</div>"
            ],
            "text/plain": [
              "       loan_amnt  funded_amnt  ...  total_rev_hi_lim  default_ind\n",
              "39694    27050.0      27050.0  ...           59900.0            0\n",
              "39695     9750.0       9750.0  ...           15100.0            0\n",
              "39696    12000.0      12000.0  ...           61100.0            0\n",
              "39697    12000.0      12000.0  ...            8100.0            0\n",
              "39698    15000.0      15000.0  ...           15400.0            0\n",
              "\n",
              "[5 rows x 30 columns]"
            ]
          },
          "metadata": {
            "tags": []
          },
          "execution_count": 110
        }
      ]
    },
    {
      "cell_type": "markdown",
      "metadata": {
        "id": "KBt3HTnhkbUL"
      },
      "source": [
        "## train-test split\n",
        "\n",
        "---\n",
        "\n"
      ]
    },
    {
      "cell_type": "code",
      "metadata": {
        "id": "unlbnzOMjWEw",
        "outputId": "a57d130e-da95-4aa8-9248-4805ff31ecf3",
        "colab": {
          "base_uri": "https://localhost:8080/",
          "height": 316
        }
      },
      "source": [
        "train=data6[data6['issue_d']<='2015-05-01']\n",
        "test=data6[data6['issue_d']>'2015-05-01']\n",
        "print(train.shape , test.shape)\n",
        "train.tail()"
      ],
      "execution_count": 111,
      "outputs": [
        {
          "output_type": "stream",
          "text": [
            "(531588, 30) (256945, 30)\n"
          ],
          "name": "stdout"
        },
        {
          "output_type": "execute_result",
          "data": {
            "text/html": [
              "<div>\n",
              "<style scoped>\n",
              "    .dataframe tbody tr th:only-of-type {\n",
              "        vertical-align: middle;\n",
              "    }\n",
              "\n",
              "    .dataframe tbody tr th {\n",
              "        vertical-align: top;\n",
              "    }\n",
              "\n",
              "    .dataframe thead th {\n",
              "        text-align: right;\n",
              "    }\n",
              "</style>\n",
              "<table border=\"1\" class=\"dataframe\">\n",
              "  <thead>\n",
              "    <tr style=\"text-align: right;\">\n",
              "      <th></th>\n",
              "      <th>loan_amnt</th>\n",
              "      <th>funded_amnt</th>\n",
              "      <th>int_rate</th>\n",
              "      <th>installment</th>\n",
              "      <th>sub_grade</th>\n",
              "      <th>emp_length</th>\n",
              "      <th>annual_inc</th>\n",
              "      <th>issue_d</th>\n",
              "      <th>pymnt_plan</th>\n",
              "      <th>purpose</th>\n",
              "      <th>addr_state</th>\n",
              "      <th>dti</th>\n",
              "      <th>delinq_2yrs</th>\n",
              "      <th>earliest_cr_line</th>\n",
              "      <th>inq_last_6mths</th>\n",
              "      <th>mths_since_last_delinq</th>\n",
              "      <th>open_acc</th>\n",
              "      <th>revol_bal</th>\n",
              "      <th>revol_util</th>\n",
              "      <th>total_acc</th>\n",
              "      <th>out_prncp</th>\n",
              "      <th>total_pymnt</th>\n",
              "      <th>total_rec_int</th>\n",
              "      <th>last_pymnt_d</th>\n",
              "      <th>last_pymnt_amnt</th>\n",
              "      <th>next_pymnt_d</th>\n",
              "      <th>last_credit_pull_d</th>\n",
              "      <th>tot_cur_bal</th>\n",
              "      <th>total_rev_hi_lim</th>\n",
              "      <th>default_ind</th>\n",
              "    </tr>\n",
              "  </thead>\n",
              "  <tbody>\n",
              "    <tr>\n",
              "      <th>855964</th>\n",
              "      <td>10000.0</td>\n",
              "      <td>10000.0</td>\n",
              "      <td>11.99</td>\n",
              "      <td>332.10</td>\n",
              "      <td>9</td>\n",
              "      <td>8</td>\n",
              "      <td>31000.0</td>\n",
              "      <td>2015-01-01</td>\n",
              "      <td>0</td>\n",
              "      <td>2</td>\n",
              "      <td>4</td>\n",
              "      <td>28.69</td>\n",
              "      <td>0.0</td>\n",
              "      <td>685</td>\n",
              "      <td>0.0</td>\n",
              "      <td>25.0</td>\n",
              "      <td>9.0</td>\n",
              "      <td>14037.0</td>\n",
              "      <td>82.1</td>\n",
              "      <td>15.0</td>\n",
              "      <td>7055.47</td>\n",
              "      <td>3971.88</td>\n",
              "      <td>1027.35</td>\n",
              "      <td>16</td>\n",
              "      <td>332.10</td>\n",
              "      <td>0</td>\n",
              "      <td>17</td>\n",
              "      <td>25274.0</td>\n",
              "      <td>17100.0</td>\n",
              "      <td>0</td>\n",
              "    </tr>\n",
              "    <tr>\n",
              "      <th>855965</th>\n",
              "      <td>24000.0</td>\n",
              "      <td>24000.0</td>\n",
              "      <td>11.99</td>\n",
              "      <td>797.03</td>\n",
              "      <td>9</td>\n",
              "      <td>1</td>\n",
              "      <td>79000.0</td>\n",
              "      <td>2015-01-01</td>\n",
              "      <td>0</td>\n",
              "      <td>4</td>\n",
              "      <td>31</td>\n",
              "      <td>3.90</td>\n",
              "      <td>0.0</td>\n",
              "      <td>421</td>\n",
              "      <td>1.0</td>\n",
              "      <td>26.0</td>\n",
              "      <td>5.0</td>\n",
              "      <td>8621.0</td>\n",
              "      <td>84.5</td>\n",
              "      <td>23.0</td>\n",
              "      <td>16933.26</td>\n",
              "      <td>9532.39</td>\n",
              "      <td>2465.65</td>\n",
              "      <td>16</td>\n",
              "      <td>797.03</td>\n",
              "      <td>0</td>\n",
              "      <td>17</td>\n",
              "      <td>140285.0</td>\n",
              "      <td>10200.0</td>\n",
              "      <td>0</td>\n",
              "    </tr>\n",
              "    <tr>\n",
              "      <th>855966</th>\n",
              "      <td>13000.0</td>\n",
              "      <td>13000.0</td>\n",
              "      <td>15.99</td>\n",
              "      <td>316.07</td>\n",
              "      <td>16</td>\n",
              "      <td>5</td>\n",
              "      <td>35000.0</td>\n",
              "      <td>2015-01-01</td>\n",
              "      <td>0</td>\n",
              "      <td>2</td>\n",
              "      <td>42</td>\n",
              "      <td>30.90</td>\n",
              "      <td>0.0</td>\n",
              "      <td>684</td>\n",
              "      <td>0.0</td>\n",
              "      <td>25.0</td>\n",
              "      <td>9.0</td>\n",
              "      <td>11031.0</td>\n",
              "      <td>61.3</td>\n",
              "      <td>22.0</td>\n",
              "      <td>11155.50</td>\n",
              "      <td>3769.74</td>\n",
              "      <td>1925.24</td>\n",
              "      <td>16</td>\n",
              "      <td>316.07</td>\n",
              "      <td>0</td>\n",
              "      <td>17</td>\n",
              "      <td>34178.0</td>\n",
              "      <td>18000.0</td>\n",
              "      <td>0</td>\n",
              "    </tr>\n",
              "    <tr>\n",
              "      <th>855967</th>\n",
              "      <td>12000.0</td>\n",
              "      <td>12000.0</td>\n",
              "      <td>19.99</td>\n",
              "      <td>317.86</td>\n",
              "      <td>22</td>\n",
              "      <td>0</td>\n",
              "      <td>64400.0</td>\n",
              "      <td>2015-01-01</td>\n",
              "      <td>0</td>\n",
              "      <td>2</td>\n",
              "      <td>19</td>\n",
              "      <td>27.19</td>\n",
              "      <td>1.0</td>\n",
              "      <td>627</td>\n",
              "      <td>2.0</td>\n",
              "      <td>22.0</td>\n",
              "      <td>17.0</td>\n",
              "      <td>8254.0</td>\n",
              "      <td>30.6</td>\n",
              "      <td>20.0</td>\n",
              "      <td>10447.31</td>\n",
              "      <td>3787.67</td>\n",
              "      <td>2234.98</td>\n",
              "      <td>16</td>\n",
              "      <td>317.86</td>\n",
              "      <td>0</td>\n",
              "      <td>17</td>\n",
              "      <td>58418.0</td>\n",
              "      <td>27000.0</td>\n",
              "      <td>0</td>\n",
              "    </tr>\n",
              "    <tr>\n",
              "      <th>855968</th>\n",
              "      <td>20000.0</td>\n",
              "      <td>20000.0</td>\n",
              "      <td>11.99</td>\n",
              "      <td>664.20</td>\n",
              "      <td>9</td>\n",
              "      <td>1</td>\n",
              "      <td>100000.0</td>\n",
              "      <td>2015-01-01</td>\n",
              "      <td>0</td>\n",
              "      <td>1</td>\n",
              "      <td>9</td>\n",
              "      <td>10.83</td>\n",
              "      <td>0.0</td>\n",
              "      <td>159</td>\n",
              "      <td>1.0</td>\n",
              "      <td>25.0</td>\n",
              "      <td>8.0</td>\n",
              "      <td>33266.0</td>\n",
              "      <td>79.8</td>\n",
              "      <td>10.0</td>\n",
              "      <td>14110.94</td>\n",
              "      <td>7943.76</td>\n",
              "      <td>2054.70</td>\n",
              "      <td>16</td>\n",
              "      <td>664.20</td>\n",
              "      <td>0</td>\n",
              "      <td>17</td>\n",
              "      <td>33307.0</td>\n",
              "      <td>41700.0</td>\n",
              "      <td>0</td>\n",
              "    </tr>\n",
              "  </tbody>\n",
              "</table>\n",
              "</div>"
            ],
            "text/plain": [
              "        loan_amnt  funded_amnt  ...  total_rev_hi_lim  default_ind\n",
              "855964    10000.0      10000.0  ...           17100.0            0\n",
              "855965    24000.0      24000.0  ...           10200.0            0\n",
              "855966    13000.0      13000.0  ...           18000.0            0\n",
              "855967    12000.0      12000.0  ...           27000.0            0\n",
              "855968    20000.0      20000.0  ...           41700.0            0\n",
              "\n",
              "[5 rows x 30 columns]"
            ]
          },
          "metadata": {
            "tags": []
          },
          "execution_count": 111
        }
      ]
    },
    {
      "cell_type": "code",
      "metadata": {
        "id": "yWiZ3BIujWCm",
        "outputId": "586ca3ee-7783-4cf9-8282-9b1ab68bacee",
        "colab": {
          "base_uri": "https://localhost:8080/",
          "height": 299
        }
      },
      "source": [
        "test.head()"
      ],
      "execution_count": 112,
      "outputs": [
        {
          "output_type": "execute_result",
          "data": {
            "text/html": [
              "<div>\n",
              "<style scoped>\n",
              "    .dataframe tbody tr th:only-of-type {\n",
              "        vertical-align: middle;\n",
              "    }\n",
              "\n",
              "    .dataframe tbody tr th {\n",
              "        vertical-align: top;\n",
              "    }\n",
              "\n",
              "    .dataframe thead th {\n",
              "        text-align: right;\n",
              "    }\n",
              "</style>\n",
              "<table border=\"1\" class=\"dataframe\">\n",
              "  <thead>\n",
              "    <tr style=\"text-align: right;\">\n",
              "      <th></th>\n",
              "      <th>loan_amnt</th>\n",
              "      <th>funded_amnt</th>\n",
              "      <th>int_rate</th>\n",
              "      <th>installment</th>\n",
              "      <th>sub_grade</th>\n",
              "      <th>emp_length</th>\n",
              "      <th>annual_inc</th>\n",
              "      <th>issue_d</th>\n",
              "      <th>pymnt_plan</th>\n",
              "      <th>purpose</th>\n",
              "      <th>addr_state</th>\n",
              "      <th>dti</th>\n",
              "      <th>delinq_2yrs</th>\n",
              "      <th>earliest_cr_line</th>\n",
              "      <th>inq_last_6mths</th>\n",
              "      <th>mths_since_last_delinq</th>\n",
              "      <th>open_acc</th>\n",
              "      <th>revol_bal</th>\n",
              "      <th>revol_util</th>\n",
              "      <th>total_acc</th>\n",
              "      <th>out_prncp</th>\n",
              "      <th>total_pymnt</th>\n",
              "      <th>total_rec_int</th>\n",
              "      <th>last_pymnt_d</th>\n",
              "      <th>last_pymnt_amnt</th>\n",
              "      <th>next_pymnt_d</th>\n",
              "      <th>last_credit_pull_d</th>\n",
              "      <th>tot_cur_bal</th>\n",
              "      <th>total_rev_hi_lim</th>\n",
              "      <th>default_ind</th>\n",
              "    </tr>\n",
              "  </thead>\n",
              "  <tbody>\n",
              "    <tr>\n",
              "      <th>452272</th>\n",
              "      <td>25000.0</td>\n",
              "      <td>25000.0</td>\n",
              "      <td>5.32</td>\n",
              "      <td>752.87</td>\n",
              "      <td>0</td>\n",
              "      <td>0</td>\n",
              "      <td>150000.0</td>\n",
              "      <td>2015-12-01</td>\n",
              "      <td>0</td>\n",
              "      <td>1</td>\n",
              "      <td>46</td>\n",
              "      <td>9.54</td>\n",
              "      <td>0.0</td>\n",
              "      <td>207</td>\n",
              "      <td>0.0</td>\n",
              "      <td>25.0</td>\n",
              "      <td>7.0</td>\n",
              "      <td>19339.0</td>\n",
              "      <td>42.5</td>\n",
              "      <td>18.0</td>\n",
              "      <td>24357.97</td>\n",
              "      <td>682.67</td>\n",
              "      <td>40.64</td>\n",
              "      <td>16</td>\n",
              "      <td>701.14</td>\n",
              "      <td>0</td>\n",
              "      <td>17</td>\n",
              "      <td>430856.0</td>\n",
              "      <td>45500.0</td>\n",
              "      <td>0</td>\n",
              "    </tr>\n",
              "    <tr>\n",
              "      <th>452273</th>\n",
              "      <td>18000.0</td>\n",
              "      <td>18000.0</td>\n",
              "      <td>19.48</td>\n",
              "      <td>471.70</td>\n",
              "      <td>21</td>\n",
              "      <td>7</td>\n",
              "      <td>150000.0</td>\n",
              "      <td>2015-12-01</td>\n",
              "      <td>0</td>\n",
              "      <td>2</td>\n",
              "      <td>4</td>\n",
              "      <td>9.39</td>\n",
              "      <td>0.0</td>\n",
              "      <td>396</td>\n",
              "      <td>1.0</td>\n",
              "      <td>25.0</td>\n",
              "      <td>18.0</td>\n",
              "      <td>14052.0</td>\n",
              "      <td>40.7</td>\n",
              "      <td>27.0</td>\n",
              "      <td>17820.50</td>\n",
              "      <td>286.64</td>\n",
              "      <td>107.14</td>\n",
              "      <td>16</td>\n",
              "      <td>335.34</td>\n",
              "      <td>0</td>\n",
              "      <td>17</td>\n",
              "      <td>36247.0</td>\n",
              "      <td>34500.0</td>\n",
              "      <td>0</td>\n",
              "    </tr>\n",
              "    <tr>\n",
              "      <th>452274</th>\n",
              "      <td>7000.0</td>\n",
              "      <td>7000.0</td>\n",
              "      <td>7.49</td>\n",
              "      <td>217.72</td>\n",
              "      <td>3</td>\n",
              "      <td>1</td>\n",
              "      <td>59000.0</td>\n",
              "      <td>2015-12-01</td>\n",
              "      <td>0</td>\n",
              "      <td>1</td>\n",
              "      <td>20</td>\n",
              "      <td>13.06</td>\n",
              "      <td>1.0</td>\n",
              "      <td>620</td>\n",
              "      <td>1.0</td>\n",
              "      <td>23.0</td>\n",
              "      <td>10.0</td>\n",
              "      <td>10467.0</td>\n",
              "      <td>24.2</td>\n",
              "      <td>34.0</td>\n",
              "      <td>7000.00</td>\n",
              "      <td>0.00</td>\n",
              "      <td>0.00</td>\n",
              "      <td>16</td>\n",
              "      <td>0.00</td>\n",
              "      <td>0</td>\n",
              "      <td>17</td>\n",
              "      <td>55222.0</td>\n",
              "      <td>43200.0</td>\n",
              "      <td>0</td>\n",
              "    </tr>\n",
              "    <tr>\n",
              "      <th>452275</th>\n",
              "      <td>20000.0</td>\n",
              "      <td>20000.0</td>\n",
              "      <td>17.97</td>\n",
              "      <td>722.75</td>\n",
              "      <td>18</td>\n",
              "      <td>7</td>\n",
              "      <td>180000.0</td>\n",
              "      <td>2015-12-01</td>\n",
              "      <td>0</td>\n",
              "      <td>2</td>\n",
              "      <td>43</td>\n",
              "      <td>25.10</td>\n",
              "      <td>0.0</td>\n",
              "      <td>31</td>\n",
              "      <td>0.0</td>\n",
              "      <td>25.0</td>\n",
              "      <td>13.0</td>\n",
              "      <td>59126.0</td>\n",
              "      <td>92.1</td>\n",
              "      <td>30.0</td>\n",
              "      <td>20000.00</td>\n",
              "      <td>0.00</td>\n",
              "      <td>0.00</td>\n",
              "      <td>16</td>\n",
              "      <td>0.00</td>\n",
              "      <td>0</td>\n",
              "      <td>17</td>\n",
              "      <td>277227.0</td>\n",
              "      <td>64200.0</td>\n",
              "      <td>0</td>\n",
              "    </tr>\n",
              "    <tr>\n",
              "      <th>452276</th>\n",
              "      <td>15000.0</td>\n",
              "      <td>15000.0</td>\n",
              "      <td>6.99</td>\n",
              "      <td>463.09</td>\n",
              "      <td>2</td>\n",
              "      <td>2</td>\n",
              "      <td>93000.0</td>\n",
              "      <td>2015-12-01</td>\n",
              "      <td>0</td>\n",
              "      <td>1</td>\n",
              "      <td>19</td>\n",
              "      <td>14.86</td>\n",
              "      <td>0.0</td>\n",
              "      <td>617</td>\n",
              "      <td>1.0</td>\n",
              "      <td>25.0</td>\n",
              "      <td>8.0</td>\n",
              "      <td>14914.0</td>\n",
              "      <td>43.2</td>\n",
              "      <td>17.0</td>\n",
              "      <td>15000.00</td>\n",
              "      <td>0.00</td>\n",
              "      <td>0.00</td>\n",
              "      <td>16</td>\n",
              "      <td>0.00</td>\n",
              "      <td>0</td>\n",
              "      <td>17</td>\n",
              "      <td>306430.0</td>\n",
              "      <td>34500.0</td>\n",
              "      <td>0</td>\n",
              "    </tr>\n",
              "  </tbody>\n",
              "</table>\n",
              "</div>"
            ],
            "text/plain": [
              "        loan_amnt  funded_amnt  ...  total_rev_hi_lim  default_ind\n",
              "452272    25000.0      25000.0  ...           45500.0            0\n",
              "452273    18000.0      18000.0  ...           34500.0            0\n",
              "452274     7000.0       7000.0  ...           43200.0            0\n",
              "452275    20000.0      20000.0  ...           64200.0            0\n",
              "452276    15000.0      15000.0  ...           34500.0            0\n",
              "\n",
              "[5 rows x 30 columns]"
            ]
          },
          "metadata": {
            "tags": []
          },
          "execution_count": 112
        }
      ]
    },
    {
      "cell_type": "code",
      "metadata": {
        "id": "ANAgPzF-jWAh",
        "outputId": "7cc4fde5-24b8-4c72-f61d-dcf9e863de55",
        "colab": {
          "base_uri": "https://localhost:8080/"
        }
      },
      "source": [
        "test['default_ind'].value_counts()"
      ],
      "execution_count": 113,
      "outputs": [
        {
          "output_type": "execute_result",
          "data": {
            "text/plain": [
              "0    256634\n",
              "1       311\n",
              "Name: default_ind, dtype: int64"
            ]
          },
          "metadata": {
            "tags": []
          },
          "execution_count": 113
        }
      ]
    },
    {
      "cell_type": "code",
      "metadata": {
        "id": "PIHHpcNJlFOl",
        "outputId": "137f0654-fb2c-4a3f-a39c-fe285f353142",
        "colab": {
          "base_uri": "https://localhost:8080/"
        }
      },
      "source": [
        "data7=pd.concat([train,test],axis=0)\n",
        "X=data7.drop(['default_ind'],axis=1)\n",
        "Y=data7['default_ind']\n",
        "print(X.shape)\n",
        "Y=Y.astype(int)\n",
        "#X.iloc[len(train)-3:len(train)+3,:]"
      ],
      "execution_count": 114,
      "outputs": [
        {
          "output_type": "stream",
          "text": [
            "(788533, 29)\n"
          ],
          "name": "stdout"
        }
      ]
    },
    {
      "cell_type": "code",
      "metadata": {
        "id": "1PNuG16SlFUR",
        "outputId": "f1ce3b52-b314-43fc-ada5-6dc55b35f268",
        "colab": {
          "base_uri": "https://localhost:8080/",
          "height": 126
        }
      },
      "source": [
        "X.drop(['issue_d'],axis=1,inplace=True)\n",
        "X.head(2)"
      ],
      "execution_count": 115,
      "outputs": [
        {
          "output_type": "execute_result",
          "data": {
            "text/html": [
              "<div>\n",
              "<style scoped>\n",
              "    .dataframe tbody tr th:only-of-type {\n",
              "        vertical-align: middle;\n",
              "    }\n",
              "\n",
              "    .dataframe tbody tr th {\n",
              "        vertical-align: top;\n",
              "    }\n",
              "\n",
              "    .dataframe thead th {\n",
              "        text-align: right;\n",
              "    }\n",
              "</style>\n",
              "<table border=\"1\" class=\"dataframe\">\n",
              "  <thead>\n",
              "    <tr style=\"text-align: right;\">\n",
              "      <th></th>\n",
              "      <th>loan_amnt</th>\n",
              "      <th>funded_amnt</th>\n",
              "      <th>int_rate</th>\n",
              "      <th>installment</th>\n",
              "      <th>sub_grade</th>\n",
              "      <th>emp_length</th>\n",
              "      <th>annual_inc</th>\n",
              "      <th>pymnt_plan</th>\n",
              "      <th>purpose</th>\n",
              "      <th>addr_state</th>\n",
              "      <th>dti</th>\n",
              "      <th>delinq_2yrs</th>\n",
              "      <th>earliest_cr_line</th>\n",
              "      <th>inq_last_6mths</th>\n",
              "      <th>mths_since_last_delinq</th>\n",
              "      <th>open_acc</th>\n",
              "      <th>revol_bal</th>\n",
              "      <th>revol_util</th>\n",
              "      <th>total_acc</th>\n",
              "      <th>out_prncp</th>\n",
              "      <th>total_pymnt</th>\n",
              "      <th>total_rec_int</th>\n",
              "      <th>last_pymnt_d</th>\n",
              "      <th>last_pymnt_amnt</th>\n",
              "      <th>next_pymnt_d</th>\n",
              "      <th>last_credit_pull_d</th>\n",
              "      <th>tot_cur_bal</th>\n",
              "      <th>total_rev_hi_lim</th>\n",
              "    </tr>\n",
              "  </thead>\n",
              "  <tbody>\n",
              "    <tr>\n",
              "      <th>39694</th>\n",
              "      <td>27050.0</td>\n",
              "      <td>27050.0</td>\n",
              "      <td>10.99</td>\n",
              "      <td>885.46</td>\n",
              "      <td>6</td>\n",
              "      <td>1</td>\n",
              "      <td>55000.0</td>\n",
              "      <td>0</td>\n",
              "      <td>2</td>\n",
              "      <td>22</td>\n",
              "      <td>22.87</td>\n",
              "      <td>0.0</td>\n",
              "      <td>610</td>\n",
              "      <td>0.0</td>\n",
              "      <td>25.0</td>\n",
              "      <td>14.0</td>\n",
              "      <td>36638.0</td>\n",
              "      <td>61.2</td>\n",
              "      <td>27.0</td>\n",
              "      <td>10018.90</td>\n",
              "      <td>21251.04</td>\n",
              "      <td>4219.94</td>\n",
              "      <td>16</td>\n",
              "      <td>885.46</td>\n",
              "      <td>0</td>\n",
              "      <td>10</td>\n",
              "      <td>114834.0</td>\n",
              "      <td>59900.0</td>\n",
              "    </tr>\n",
              "    <tr>\n",
              "      <th>39695</th>\n",
              "      <td>9750.0</td>\n",
              "      <td>9750.0</td>\n",
              "      <td>13.98</td>\n",
              "      <td>333.14</td>\n",
              "      <td>10</td>\n",
              "      <td>0</td>\n",
              "      <td>26000.0</td>\n",
              "      <td>0</td>\n",
              "      <td>2</td>\n",
              "      <td>4</td>\n",
              "      <td>25.12</td>\n",
              "      <td>0.0</td>\n",
              "      <td>283</td>\n",
              "      <td>0.0</td>\n",
              "      <td>25.0</td>\n",
              "      <td>12.0</td>\n",
              "      <td>7967.0</td>\n",
              "      <td>52.8</td>\n",
              "      <td>28.0</td>\n",
              "      <td>3710.96</td>\n",
              "      <td>7994.83</td>\n",
              "      <td>1955.79</td>\n",
              "      <td>16</td>\n",
              "      <td>333.14</td>\n",
              "      <td>0</td>\n",
              "      <td>17</td>\n",
              "      <td>14123.0</td>\n",
              "      <td>15100.0</td>\n",
              "    </tr>\n",
              "  </tbody>\n",
              "</table>\n",
              "</div>"
            ],
            "text/plain": [
              "       loan_amnt  funded_amnt  ...  tot_cur_bal  total_rev_hi_lim\n",
              "39694    27050.0      27050.0  ...     114834.0           59900.0\n",
              "39695     9750.0       9750.0  ...      14123.0           15100.0\n",
              "\n",
              "[2 rows x 28 columns]"
            ]
          },
          "metadata": {
            "tags": []
          },
          "execution_count": 115
        }
      ]
    },
    {
      "cell_type": "code",
      "metadata": {
        "id": "yD4v07MflFX_",
        "outputId": "58650687-2d59-4af9-95d5-e79b2bfefaa8",
        "colab": {
          "base_uri": "https://localhost:8080/"
        }
      },
      "source": [
        "colnames=X.columns\n",
        "colnames"
      ],
      "execution_count": 116,
      "outputs": [
        {
          "output_type": "execute_result",
          "data": {
            "text/plain": [
              "Index(['loan_amnt', 'funded_amnt', 'int_rate', 'installment', 'sub_grade',\n",
              "       'emp_length', 'annual_inc', 'pymnt_plan', 'purpose', 'addr_state',\n",
              "       'dti', 'delinq_2yrs', 'earliest_cr_line', 'inq_last_6mths',\n",
              "       'mths_since_last_delinq', 'open_acc', 'revol_bal', 'revol_util',\n",
              "       'total_acc', 'out_prncp', 'total_pymnt', 'total_rec_int',\n",
              "       'last_pymnt_d', 'last_pymnt_amnt', 'next_pymnt_d', 'last_credit_pull_d',\n",
              "       'tot_cur_bal', 'total_rev_hi_lim'],\n",
              "      dtype='object')"
            ]
          },
          "metadata": {
            "tags": []
          },
          "execution_count": 116
        }
      ]
    },
    {
      "cell_type": "code",
      "metadata": {
        "id": "qmG29jJ4lFND",
        "outputId": "bc8bcb68-8f08-498f-f39c-2c25ee672838",
        "colab": {
          "base_uri": "https://localhost:8080/"
        }
      },
      "source": [
        "non_scal=['sub_grade','purpose', 'addr_state','TimeDelta1','TimeDelta2', 'TimeDelta3']\n",
        "scal=[]\n",
        "for i in colnames:\n",
        "    if i not in non_scal:\n",
        "        scal.append(i)\n",
        "\n",
        "print(scal)"
      ],
      "execution_count": 117,
      "outputs": [
        {
          "output_type": "stream",
          "text": [
            "['loan_amnt', 'funded_amnt', 'int_rate', 'installment', 'emp_length', 'annual_inc', 'pymnt_plan', 'dti', 'delinq_2yrs', 'earliest_cr_line', 'inq_last_6mths', 'mths_since_last_delinq', 'open_acc', 'revol_bal', 'revol_util', 'total_acc', 'out_prncp', 'total_pymnt', 'total_rec_int', 'last_pymnt_d', 'last_pymnt_amnt', 'next_pymnt_d', 'last_credit_pull_d', 'tot_cur_bal', 'total_rev_hi_lim']\n"
          ],
          "name": "stdout"
        }
      ]
    },
    {
      "cell_type": "code",
      "metadata": {
        "id": "Cvyif8qRlFKx",
        "outputId": "fdca7a89-81c0-42b5-c5de-bf86a6ef7181",
        "colab": {
          "base_uri": "https://localhost:8080/"
        }
      },
      "source": [
        "from sklearn.preprocessing import StandardScaler\n",
        "scaler=StandardScaler()\n",
        "scaler.fit(X)\n",
        "X=scaler.transform(X)\n",
        "\n",
        "X[:1]"
      ],
      "execution_count": 118,
      "outputs": [
        {
          "output_type": "execute_result",
          "data": {
            "text/plain": [
              "array([[ 1.43090253,  1.43090846, -0.51514908,  1.81537822, -0.77030088,\n",
              "        -0.87677873, -0.31793717, -0.00195052, -0.22185794, -0.07982215,\n",
              "         0.53685965, -0.3703896 ,  1.16855796, -0.69790743, -0.2773065 ,\n",
              "         0.4330618 ,  0.85641447,  0.25270425,  0.12642035,  0.12396239,\n",
              "         1.8461225 ,  1.26854351,  0.00297307, -0.26315075, -0.36072594,\n",
              "        -1.55000641, -0.16186995,  0.73655973]])"
            ]
          },
          "metadata": {
            "tags": []
          },
          "execution_count": 118
        }
      ]
    },
    {
      "cell_type": "code",
      "metadata": {
        "id": "EPfm-iJhlFIw",
        "outputId": "42b8654c-3764-46f3-9a63-2ca54b86853c",
        "colab": {
          "base_uri": "https://localhost:8080/"
        }
      },
      "source": [
        "X1=X[:len(train),]      #For training and validation\n",
        "Y1=Y[:len(train),]\n",
        "\n",
        "X_test=X[len(train):,]\n",
        "Y_test=Y[len(train):,]\n",
        "len(X1) , len(Y1) , len(X_test) , len(Y_test)"
      ],
      "execution_count": 119,
      "outputs": [
        {
          "output_type": "execute_result",
          "data": {
            "text/plain": [
              "(531588, 531588, 256945, 256945)"
            ]
          },
          "metadata": {
            "tags": []
          },
          "execution_count": 119
        }
      ]
    },
    {
      "cell_type": "code",
      "metadata": {
        "id": "Q12A60r0lFGi"
      },
      "source": [
        "np.save('train.npy',X1)\n",
        "np.save('test.npy',X_test)\n",
        "np.save('dep_train.npy',Y1)\n",
        "np.save('dep_tes.npy',Y_test)"
      ],
      "execution_count": 120,
      "outputs": []
    },
    {
      "cell_type": "markdown",
      "metadata": {
        "id": "P-GcJ2_6nN2V"
      },
      "source": [
        "## **Logistic regression**\n",
        "\n",
        "---\n",
        "\n"
      ]
    },
    {
      "cell_type": "code",
      "metadata": {
        "id": "P32zPnC4lFE2"
      },
      "source": [
        "from sklearn.model_selection import train_test_split\n",
        "X_train,X_val,Y_train,Y_val=train_test_split(X1,Y1,test_size=0.3,random_state=10)"
      ],
      "execution_count": 121,
      "outputs": []
    },
    {
      "cell_type": "code",
      "metadata": {
        "id": "s28tqDr9lFC0"
      },
      "source": [
        "from sklearn.linear_model import LogisticRegression\n",
        "classifier=LogisticRegression(max_iter=250)\n",
        "classifier.fit(X_train,Y_train)\n",
        "\n",
        "Y_pred=classifier.predict(X_val)"
      ],
      "execution_count": 122,
      "outputs": []
    },
    {
      "cell_type": "code",
      "metadata": {
        "id": "H0axssqhlFAz",
        "outputId": "d72556c9-2a75-4bfd-81b7-2073d1450e24",
        "colab": {
          "base_uri": "https://localhost:8080/"
        }
      },
      "source": [
        "from sklearn.metrics import confusion_matrix,accuracy_score,classification_report\n",
        "\n",
        "cfm=confusion_matrix(Y_val,Y_pred)\n",
        "print(cfm)\n",
        "\n",
        "print('Classification report:')\n",
        "\n",
        "print(classification_report(Y_val,Y_pred))\n",
        "\n",
        "acc=accuracy_score(Y_val,Y_pred)\n",
        "print('Accuracy of model is:',acc)"
      ],
      "execution_count": 123,
      "outputs": [
        {
          "output_type": "stream",
          "text": [
            "[[148746      9]\n",
            " [   570  10152]]\n",
            "Classification report:\n",
            "              precision    recall  f1-score   support\n",
            "\n",
            "           0       1.00      1.00      1.00    148755\n",
            "           1       1.00      0.95      0.97     10722\n",
            "\n",
            "    accuracy                           1.00    159477\n",
            "   macro avg       1.00      0.97      0.99    159477\n",
            "weighted avg       1.00      1.00      1.00    159477\n",
            "\n",
            "Accuracy of model is: 0.9963693824187814\n"
          ],
          "name": "stdout"
        }
      ]
    },
    {
      "cell_type": "markdown",
      "metadata": {
        "id": "9TlSFiXennzN"
      },
      "source": [
        "**predicting on test **"
      ]
    },
    {
      "cell_type": "code",
      "metadata": {
        "id": "VgXLwl9Vnmna",
        "outputId": "af2398d6-eda9-4d91-e637-58e57c61898f",
        "colab": {
          "base_uri": "https://localhost:8080/"
        }
      },
      "source": [
        "Y_predicted=classifier.predict(X_test)\n",
        "\n",
        "from sklearn.metrics import confusion_matrix,accuracy_score,classification_report\n",
        "\n",
        "cfm=confusion_matrix(Y_test,Y_predicted)\n",
        "print(cfm)\n",
        "\n",
        "print('Classification report:')\n",
        "\n",
        "print(classification_report(Y_test,Y_predicted))\n",
        "\n",
        "acc=accuracy_score(Y_test,Y_predicted)\n",
        "print('Accuracy of model is:',acc)"
      ],
      "execution_count": 124,
      "outputs": [
        {
          "output_type": "stream",
          "text": [
            "[[256404    230]\n",
            " [    66    245]]\n",
            "Classification report:\n",
            "              precision    recall  f1-score   support\n",
            "\n",
            "           0       1.00      1.00      1.00    256634\n",
            "           1       0.52      0.79      0.62       311\n",
            "\n",
            "    accuracy                           1.00    256945\n",
            "   macro avg       0.76      0.89      0.81    256945\n",
            "weighted avg       1.00      1.00      1.00    256945\n",
            "\n",
            "Accuracy of model is: 0.9988480024908054\n"
          ],
          "name": "stdout"
        }
      ]
    },
    {
      "cell_type": "code",
      "metadata": {
        "id": "AgKC-eLRnmtQ",
        "outputId": "29fac4c6-2f2b-4b79-dd60-adc080098461",
        "colab": {
          "base_uri": "https://localhost:8080/"
        }
      },
      "source": [
        "from sklearn.decomposition import PCA\n",
        "pca=PCA(n_components=0.95)    #80% of variance should be explained(>1 : no of variables to be retained)\n",
        "pca_train=pca.fit_transform(X_train)     \n",
        "pca_test=pca.transform(X_val)\n",
        "explained_variance=pca.explained_variance_ratio_\n",
        "print(explained_variance)"
      ],
      "execution_count": 126,
      "outputs": [
        {
          "output_type": "stream",
          "text": [
            "[0.17731716 0.0908463  0.07928485 0.07144348 0.06197471 0.04773586\n",
            " 0.0458544  0.04440432 0.04036647 0.03530185 0.0340055  0.03366509\n",
            " 0.03300933 0.03179793 0.02993232 0.02943321 0.02207772 0.01869887\n",
            " 0.01807161 0.01697742]\n"
          ],
          "name": "stdout"
        }
      ]
    },
    {
      "cell_type": "code",
      "metadata": {
        "id": "OI0gZ3DhoHG0"
      },
      "source": [
        "from sklearn.linear_model import LogisticRegression\n",
        "classifier=LogisticRegression()\n",
        "classifier.fit(pca_train,Y_train)\n",
        "\n",
        "Y_pred=classifier.predict(pca_test)"
      ],
      "execution_count": 127,
      "outputs": []
    },
    {
      "cell_type": "code",
      "metadata": {
        "id": "xAqZkuPGoHcg",
        "outputId": "45699208-2da1-4f43-ddaa-c91dac6feb40",
        "colab": {
          "base_uri": "https://localhost:8080/"
        }
      },
      "source": [
        "from sklearn.metrics import confusion_matrix,accuracy_score,classification_report\n",
        "\n",
        "cfm=confusion_matrix(Y_val,Y_pred)\n",
        "print(cfm)\n",
        "\n",
        "print('Classification report:')\n",
        "\n",
        "print(classification_report(Y_val,Y_pred))\n",
        "\n",
        "acc=accuracy_score(Y_val,Y_pred)\n",
        "print('Accuracy of model is:',acc)"
      ],
      "execution_count": 128,
      "outputs": [
        {
          "output_type": "stream",
          "text": [
            "[[148736     19]\n",
            " [ 10610    112]]\n",
            "Classification report:\n",
            "              precision    recall  f1-score   support\n",
            "\n",
            "           0       0.93      1.00      0.97    148755\n",
            "           1       0.85      0.01      0.02     10722\n",
            "\n",
            "    accuracy                           0.93    159477\n",
            "   macro avg       0.89      0.51      0.49    159477\n",
            "weighted avg       0.93      0.93      0.90    159477\n",
            "\n",
            "Accuracy of model is: 0.9333508907240543\n"
          ],
          "name": "stdout"
        }
      ]
    },
    {
      "cell_type": "code",
      "metadata": {
        "id": "oSD9TNtmoHaj",
        "outputId": "62742035-dacd-40bf-c62d-37475de15259",
        "colab": {
          "base_uri": "https://localhost:8080/"
        }
      },
      "source": [
        "from sklearn.decomposition import PCA\n",
        "pca=PCA(n_components=0.95)    #80% of variance should be explained(>1 : no of variables to be retained)\n",
        "pca_train=pca.fit_transform(X_train)     \n",
        "pca_test=pca.transform(X_test)\n",
        "explained_variance=pca.explained_variance_ratio_\n",
        "print(explained_variance)"
      ],
      "execution_count": 129,
      "outputs": [
        {
          "output_type": "stream",
          "text": [
            "[0.17731716 0.0908463  0.07928485 0.07144348 0.06197471 0.04773586\n",
            " 0.0458544  0.04440432 0.04036647 0.03530185 0.0340055  0.03366509\n",
            " 0.03300933 0.03179793 0.02993232 0.02943321 0.02207772 0.01869887\n",
            " 0.01807161 0.01697742]\n"
          ],
          "name": "stdout"
        }
      ]
    },
    {
      "cell_type": "code",
      "metadata": {
        "id": "0p3B_rmxoHYo"
      },
      "source": [
        "from sklearn.linear_model import LogisticRegression\n",
        "classifier=LogisticRegression()\n",
        "classifier.fit(pca_train,Y_train)\n",
        "\n",
        "Y_predicted=classifier.predict(pca_test)\n"
      ],
      "execution_count": 130,
      "outputs": []
    },
    {
      "cell_type": "code",
      "metadata": {
        "id": "o-Y5IKtCoHWY",
        "outputId": "9abd4207-cb52-4a40-c2a2-fa119af759fd",
        "colab": {
          "base_uri": "https://localhost:8080/"
        }
      },
      "source": [
        "from sklearn.metrics import confusion_matrix,accuracy_score,classification_report\n",
        "\n",
        "cfm=confusion_matrix(Y_test,Y_predicted)\n",
        "print(cfm)\n",
        "\n",
        "print('Classification report:')\n",
        "\n",
        "print(classification_report(Y_test,Y_predicted))\n",
        "\n",
        "acc=accuracy_score(Y_test,Y_predicted)\n",
        "print('Accuracy of model is:',acc)"
      ],
      "execution_count": 132,
      "outputs": [
        {
          "output_type": "stream",
          "text": [
            "[[256631      3]\n",
            " [   310      1]]\n",
            "Classification report:\n",
            "              precision    recall  f1-score   support\n",
            "\n",
            "           0       1.00      1.00      1.00    256634\n",
            "           1       0.25      0.00      0.01       311\n",
            "\n",
            "    accuracy                           1.00    256945\n",
            "   macro avg       0.62      0.50      0.50    256945\n",
            "weighted avg       1.00      1.00      1.00    256945\n",
            "\n",
            "Accuracy of model is: 0.9987818404716963\n"
          ],
          "name": "stdout"
        }
      ]
    },
    {
      "cell_type": "markdown",
      "metadata": {
        "id": "4Zy6EKzBozVy"
      },
      "source": [
        "## **svm**"
      ]
    },
    {
      "cell_type": "code",
      "metadata": {
        "id": "4FyJnkA0oHUO",
        "outputId": "cbdd8def-d256-4a2c-ed4e-e0ca5b172b04",
        "colab": {
          "base_uri": "https://localhost:8080/"
        }
      },
      "source": [
        "from sklearn import svm\n",
        "\n",
        "model_svm=svm.SVC(kernel='rbf',C=1.0,gamma=0.01)\n",
        "model_svm.fit(X_train,Y_train)\n",
        "\n",
        "#Y_pred=model_svm.predict(X_val)"
      ],
      "execution_count": null,
      "outputs": [
        {
          "output_type": "execute_result",
          "data": {
            "text/plain": [
              "SVC(C=1.0, break_ties=False, cache_size=200, class_weight=None, coef0=0.0,\n",
              "    decision_function_shape='ovr', degree=3, gamma=0.01, kernel='rbf',\n",
              "    max_iter=-1, probability=False, random_state=None, shrinking=True,\n",
              "    tol=0.001, verbose=False)"
            ]
          },
          "metadata": {
            "tags": []
          },
          "execution_count": 132
        }
      ]
    },
    {
      "cell_type": "code",
      "metadata": {
        "id": "LKYLo5V8oHSK"
      },
      "source": [
        "Y_pred=model_svm.predict(X_val)\n",
        "from sklearn.metrics import confusion_matrix,accuracy_score,classification_report\n",
        "\n",
        "cfm=confusion_matrix(Y_val,Y_pred)\n",
        "print(cfm)\n",
        "\n",
        "print('Classification report:')\n",
        "\n",
        "print(classification_report(Y_val,Y_pred))\n",
        "\n",
        "acc=accuracy_score(Y_val,Y_pred)\n",
        "print('Accuracy of model is:',acc)"
      ],
      "execution_count": null,
      "outputs": []
    },
    {
      "cell_type": "code",
      "metadata": {
        "id": "eP2USWqttLHx"
      },
      "source": [
        "import pickle\n",
        "filename = 'svm_model_meet_0_64_.pkl'\n",
        "pickle.dump(model_svm, open(filename, 'wb'))"
      ],
      "execution_count": null,
      "outputs": []
    },
    {
      "cell_type": "code",
      "metadata": {
        "id": "F_fRAGEntTkD"
      },
      "source": [
        "# load the model from disk\n",
        "loaded_model = pickle.load(open(filename, 'rb'))\n",
        "result = loaded_model.score(X_test, Y_test)\n",
        "print(result)"
      ],
      "execution_count": null,
      "outputs": []
    },
    {
      "cell_type": "code",
      "metadata": {
        "id": "PUd4o5KcoHPw",
        "outputId": "432f28b5-6207-4d2c-e510-8ce698c7c8c0",
        "colab": {
          "base_uri": "https://localhost:8080/"
        }
      },
      "source": [
        "Y_predicted=model_svm.predict(X_test)\n",
        "\n",
        "from sklearn.metrics import confusion_matrix,accuracy_score,classification_report\n",
        "\n",
        "cfm=confusion_matrix(Y_test,Y_predicted)\n",
        "print(cfm)\n",
        "\n",
        "print('Classification report:')\n",
        "\n",
        "print(classification_report(Y_test,Y_predicted))\n",
        "\n",
        "acc=accuracy_score(Y_test,Y_predicted)\n",
        "print('Accuracy of model is:',acc)"
      ],
      "execution_count": null,
      "outputs": [
        {
          "output_type": "stream",
          "text": [
            "[[256634      0]\n",
            " [    64    247]]\n",
            "Classification report:\n",
            "              precision    recall  f1-score   support\n",
            "\n",
            "           0       1.00      1.00      1.00    256634\n",
            "           1       1.00      0.79      0.89       311\n",
            "\n",
            "    accuracy                           1.00    256945\n",
            "   macro avg       1.00      0.90      0.94    256945\n",
            "weighted avg       1.00      1.00      1.00    256945\n",
            "\n",
            "Accuracy of model is: 0.9997509194574714\n"
          ],
          "name": "stdout"
        }
      ]
    },
    {
      "cell_type": "code",
      "metadata": {
        "id": "I0gZVQcdoHNJ"
      },
      "source": [
        "from pydrive.auth import GoogleAuth\n",
        "from pydrive.drive import GoogleDrive\n",
        "from google.colab import auth\n",
        "from oauth2client.client import GoogleCredentials\n",
        "\n",
        "# 1. Authenticate and create the PyDrive client.\n",
        "auth.authenticate_user()\n",
        "gauth = GoogleAuth()\n",
        "gauth.credentials = GoogleCredentials.get_application_default()\n",
        "drive = GoogleDrive(gauth)  "
      ],
      "execution_count": null,
      "outputs": []
    },
    {
      "cell_type": "code",
      "metadata": {
        "id": "-vqD2qIhoHKx"
      },
      "source": [
        "# get the folder id where you want to save your file\n",
        "folder='/content/drive/My Drive '\n",
        "file = drive.CreateFile({'parents':[{u'id': '1RYljJrAcgs_B1FiQWaNGgkf0GYkeuX8f'}]})\n",
        "file.SetContentFile('svm_model.pkl')\n",
        "file.Upload() "
      ],
      "execution_count": null,
      "outputs": []
    },
    {
      "cell_type": "code",
      "metadata": {
        "id": "29T8aQbXVyAQ"
      },
      "source": [
        "1RYljJrAcgs_B1FiQWaNGgkf0GYkeuX8f"
      ],
      "execution_count": null,
      "outputs": []
    },
    {
      "cell_type": "markdown",
      "metadata": {
        "id": "bxTQp_bmHDRu"
      },
      "source": [
        "### **D tree**"
      ]
    },
    {
      "cell_type": "code",
      "metadata": {
        "id": "WZrLGPM7-Kt0"
      },
      "source": [
        "from sklearn.tree import DecisionTreeClassifier\n",
        "dt_model=DecisionTreeClassifier(max_depth=10 ,min_samples_leaf=10,min_samples_split=8,max_leaf_nodes=3)\n",
        "dt_model.fit(X_train,Y_train)\n",
        "\n",
        "Y_pred=dt_model.predict(X_val)"
      ],
      "execution_count": 133,
      "outputs": []
    },
    {
      "cell_type": "code",
      "metadata": {
        "id": "DTiTkpyxHISw",
        "outputId": "fc6edb0f-346f-4a0f-a685-0858e81e458d",
        "colab": {
          "base_uri": "https://localhost:8080/"
        }
      },
      "source": [
        "from sklearn.metrics import confusion_matrix,accuracy_score,classification_report\n",
        "\n",
        "cfm=confusion_matrix(Y_val,Y_pred)\n",
        "print(cfm)\n",
        "\n",
        "print('Classification report:')\n",
        "\n",
        "print(classification_report(Y_val,Y_pred))\n",
        "\n",
        "acc=accuracy_score(Y_val,Y_pred)\n",
        "print('Accuracy of model is:',acc)"
      ],
      "execution_count": 134,
      "outputs": [
        {
          "output_type": "stream",
          "text": [
            "[[142778   5977]\n",
            " [   480  10242]]\n",
            "Classification report:\n",
            "              precision    recall  f1-score   support\n",
            "\n",
            "           0       1.00      0.96      0.98    148755\n",
            "           1       0.63      0.96      0.76     10722\n",
            "\n",
            "    accuracy                           0.96    159477\n",
            "   macro avg       0.81      0.96      0.87    159477\n",
            "weighted avg       0.97      0.96      0.96    159477\n",
            "\n",
            "Accuracy of model is: 0.9595114028982236\n"
          ],
          "name": "stdout"
        }
      ]
    },
    {
      "cell_type": "code",
      "metadata": {
        "id": "k_e5EbAVHQFQ",
        "outputId": "c565d8df-19e3-4eb3-9ae7-365b27a02c05",
        "colab": {
          "base_uri": "https://localhost:8080/"
        }
      },
      "source": [
        "Y_predicted=dt_model.predict(X_test)\n",
        "\n",
        "from sklearn.metrics import confusion_matrix,accuracy_score,classification_report\n",
        "\n",
        "cfm=confusion_matrix(Y_test,Y_predicted)\n",
        "print(cfm)\n",
        "\n",
        "print('Classification report:')\n",
        "\n",
        "print(classification_report(Y_test,Y_predicted))\n",
        "\n",
        "acc=accuracy_score(Y_test,Y_predicted)\n",
        "print('Accuracy of model is:',acc)"
      ],
      "execution_count": 135,
      "outputs": [
        {
          "output_type": "stream",
          "text": [
            "[[256212    422]\n",
            " [    65    246]]\n",
            "Classification report:\n",
            "              precision    recall  f1-score   support\n",
            "\n",
            "           0       1.00      1.00      1.00    256634\n",
            "           1       0.37      0.79      0.50       311\n",
            "\n",
            "    accuracy                           1.00    256945\n",
            "   macro avg       0.68      0.89      0.75    256945\n",
            "weighted avg       1.00      1.00      1.00    256945\n",
            "\n",
            "Accuracy of model is: 0.9981046527466968\n"
          ],
          "name": "stdout"
        }
      ]
    },
    {
      "cell_type": "markdown",
      "metadata": {
        "id": "PC_fDo_pHkRb"
      },
      "source": [
        "### **GD boost**"
      ]
    },
    {
      "cell_type": "code",
      "metadata": {
        "id": "mL3nFqGqHcr2",
        "outputId": "5cdd6da8-ac79-4ad3-a61f-a13498ebace3",
        "colab": {
          "base_uri": "https://localhost:8080/"
        }
      },
      "source": [
        "from sklearn.ensemble import GradientBoostingClassifier\n",
        "gb_model=GradientBoostingClassifier()\n",
        "gb_model.fit(X_train,Y_train)"
      ],
      "execution_count": null,
      "outputs": [
        {
          "output_type": "execute_result",
          "data": {
            "text/plain": [
              "GradientBoostingClassifier(ccp_alpha=0.0, criterion='friedman_mse', init=None,\n",
              "                           learning_rate=0.1, loss='deviance', max_depth=3,\n",
              "                           max_features=None, max_leaf_nodes=None,\n",
              "                           min_impurity_decrease=0.0, min_impurity_split=None,\n",
              "                           min_samples_leaf=1, min_samples_split=2,\n",
              "                           min_weight_fraction_leaf=0.0, n_estimators=100,\n",
              "                           n_iter_no_change=None, presort='deprecated',\n",
              "                           random_state=None, subsample=1.0, tol=0.0001,\n",
              "                           validation_fraction=0.1, verbose=0,\n",
              "                           warm_start=False)"
            ]
          },
          "metadata": {
            "tags": []
          },
          "execution_count": 125
        }
      ]
    },
    {
      "cell_type": "code",
      "metadata": {
        "id": "3vw89m_EHsXa",
        "outputId": "62c9a5a3-bb36-4354-c6a2-6a8dd2bb04fb",
        "colab": {
          "base_uri": "https://localhost:8080/"
        }
      },
      "source": [
        "Y_predicted=gb_model.predict(X_test)\n",
        "\n",
        "from sklearn.metrics import confusion_matrix,accuracy_score,classification_report\n",
        "\n",
        "cfm=confusion_matrix(Y_test,Y_predicted)\n",
        "print(cfm)\n",
        "\n",
        "print('Classification report:')\n",
        "\n",
        "print(classification_report(Y_test,Y_predicted))\n",
        "\n",
        "acc=accuracy_score(Y_test,Y_predicted)\n",
        "print('Accuracy of model is:',acc)"
      ],
      "execution_count": null,
      "outputs": [
        {
          "output_type": "stream",
          "text": [
            "[[256546     88]\n",
            " [    11    300]]\n",
            "Classification report:\n",
            "              precision    recall  f1-score   support\n",
            "\n",
            "           0       1.00      1.00      1.00    256634\n",
            "           1       0.77      0.96      0.86       311\n",
            "\n",
            "    accuracy                           1.00    256945\n",
            "   macro avg       0.89      0.98      0.93    256945\n",
            "weighted avg       1.00      1.00      1.00    256945\n",
            "\n",
            "Accuracy of model is: 0.9996147035357761\n"
          ],
          "name": "stdout"
        }
      ]
    },
    {
      "cell_type": "code",
      "metadata": {
        "id": "sAEcecJct-JT"
      },
      "source": [
        "import pickle\n",
        "filename = 'gb_model_meet_88.pkl'\n",
        "pickle.dump(gb_model, open(filename, 'wb'))"
      ],
      "execution_count": null,
      "outputs": []
    },
    {
      "cell_type": "markdown",
      "metadata": {
        "id": "ORqPHBzPCH89"
      },
      "source": [
        "# Gboost without val"
      ]
    },
    {
      "cell_type": "code",
      "metadata": {
        "id": "9De5pc_-CHJG",
        "outputId": "3109e5a7-5348-40a0-a824-39cbcbdb5cea",
        "colab": {
          "base_uri": "https://localhost:8080/"
        }
      },
      "source": [
        "from sklearn.ensemble import GradientBoostingClassifier\n",
        "gb_model=GradientBoostingClassifier()\n",
        "gb_model.fit(X1,Y1)"
      ],
      "execution_count": null,
      "outputs": [
        {
          "output_type": "execute_result",
          "data": {
            "text/plain": [
              "GradientBoostingClassifier(ccp_alpha=0.0, criterion='friedman_mse', init=None,\n",
              "                           learning_rate=0.1, loss='deviance', max_depth=3,\n",
              "                           max_features=None, max_leaf_nodes=None,\n",
              "                           min_impurity_decrease=0.0, min_impurity_split=None,\n",
              "                           min_samples_leaf=1, min_samples_split=2,\n",
              "                           min_weight_fraction_leaf=0.0, n_estimators=100,\n",
              "                           n_iter_no_change=None, presort='deprecated',\n",
              "                           random_state=None, subsample=1.0, tol=0.0001,\n",
              "                           validation_fraction=0.1, verbose=0,\n",
              "                           warm_start=False)"
            ]
          },
          "metadata": {
            "tags": []
          },
          "execution_count": 129
        }
      ]
    },
    {
      "cell_type": "code",
      "metadata": {
        "id": "inQKn8bcCeY6",
        "outputId": "6859b39a-c06d-4fb4-d526-c5ade3795380",
        "colab": {
          "base_uri": "https://localhost:8080/"
        }
      },
      "source": [
        "Y_predicted=gb_model.predict(X_test)\n",
        "\n",
        "from sklearn.metrics import confusion_matrix,accuracy_score,classification_report\n",
        "\n",
        "cfm=confusion_matrix(Y_test,Y_predicted)\n",
        "print(cfm)\n",
        "\n",
        "print('Classification report:')\n",
        "\n",
        "print(classification_report(Y_test,Y_predicted))\n",
        "\n",
        "acc=accuracy_score(Y_test,Y_predicted)\n",
        "print('Accuracy of model is:',acc)"
      ],
      "execution_count": null,
      "outputs": [
        {
          "output_type": "stream",
          "text": [
            "[[256603     31]\n",
            " [    11    300]]\n",
            "Classification report:\n",
            "              precision    recall  f1-score   support\n",
            "\n",
            "           0       1.00      1.00      1.00    256634\n",
            "           1       0.91      0.96      0.93       311\n",
            "\n",
            "    accuracy                           1.00    256945\n",
            "   macro avg       0.95      0.98      0.97    256945\n",
            "weighted avg       1.00      1.00      1.00    256945\n",
            "\n",
            "Accuracy of model is: 0.9998365408939657\n"
          ],
          "name": "stdout"
        }
      ]
    },
    {
      "cell_type": "code",
      "metadata": {
        "id": "_Wk_Z0XJD8ET"
      },
      "source": [
        "import pickle\n",
        "filename = 'gb_model_meet_31_11_without val.pkl'\n",
        "pickle.dump(gb_model, open(filename, 'wb'))"
      ],
      "execution_count": null,
      "outputs": []
    },
    {
      "cell_type": "markdown",
      "metadata": {
        "id": "uXoUMy5fcxrr"
      },
      "source": [
        "## ANN"
      ]
    },
    {
      "cell_type": "code",
      "metadata": {
        "id": "DXQIjC0Wc0fN"
      },
      "source": [
        "import keras \n",
        "from keras.models import Sequential\n",
        "from keras.layers import Dense\n",
        "from keras.layers import Dropout"
      ],
      "execution_count": 136,
      "outputs": []
    },
    {
      "cell_type": "code",
      "metadata": {
        "id": "zV3Hz0p7dB-l"
      },
      "source": [
        "# Initialising the ANN\n",
        "classifier = Sequential()\n",
        "\n",
        "# Adding the input layer and the first hidden layer\n",
        "classifier.add(Dense(units = 19, kernel_initializer = 'uniform',\n",
        "                     activation = 'relu', input_dim = 28))\n",
        "\n",
        "\n",
        "# Adding the second hidden layer \n",
        "classifier.add(Dense(units=19, kernel_initializer='uniform',\n",
        "                     activation='relu'))\n",
        "\n",
        "# dropout for second layer \n",
        "# classifier.add(Dropout(p = 0.1))\n",
        "\n",
        "# Adding the third hidden layer \n",
        "classifier.add(Dense(units=19, kernel_initializer='uniform',\n",
        "                     activation='relu'))\n",
        "\n",
        "'''# Adding the fourth hidden layer \n",
        "classifier.add(Dense(units=19, kernel_initializer='uniform',\n",
        "                     activation='relu'))'''\n",
        "\n",
        "\n",
        "# Adding the output layer \n",
        "classifier.add(Dense(units=1, kernel_initializer='uniform',\n",
        "                     activation='sigmoid'))"
      ],
      "execution_count": 142,
      "outputs": []
    },
    {
      "cell_type": "code",
      "metadata": {
        "id": "bGfcuT48dLQm"
      },
      "source": [
        "classifier.compile(optimizer = 'adam', loss = 'binary_crossentropy',\n",
        "                   metrics = ['accuracy'])"
      ],
      "execution_count": 143,
      "outputs": []
    },
    {
      "cell_type": "code",
      "metadata": {
        "id": "QvYsp04MdM7Y",
        "outputId": "ba3c49a6-c3f9-4b5c-d401-4322e586e98a",
        "colab": {
          "base_uri": "https://localhost:8080/"
        }
      },
      "source": [
        "classifier.fit(X_train, Y_train, batch_size = 100, epochs = 20)"
      ],
      "execution_count": 152,
      "outputs": [
        {
          "output_type": "stream",
          "text": [
            "Epoch 1/20\n",
            "3722/3722 [==============================] - 5s 1ms/step - loss: 0.0043 - accuracy: 0.9990\n",
            "Epoch 2/20\n",
            "3722/3722 [==============================] - 5s 1ms/step - loss: 0.0043 - accuracy: 0.9991\n",
            "Epoch 3/20\n",
            "3722/3722 [==============================] - 5s 1ms/step - loss: 0.0041 - accuracy: 0.9991\n",
            "Epoch 4/20\n",
            "3722/3722 [==============================] - 5s 1ms/step - loss: 0.0039 - accuracy: 0.9991\n",
            "Epoch 5/20\n",
            "3722/3722 [==============================] - 5s 1ms/step - loss: 0.0039 - accuracy: 0.9992\n",
            "Epoch 6/20\n",
            "3722/3722 [==============================] - 5s 1ms/step - loss: 0.0038 - accuracy: 0.9991\n",
            "Epoch 7/20\n",
            "3722/3722 [==============================] - 5s 1ms/step - loss: 0.0037 - accuracy: 0.9992\n",
            "Epoch 8/20\n",
            "3722/3722 [==============================] - 5s 1ms/step - loss: 0.0037 - accuracy: 0.9992\n",
            "Epoch 9/20\n",
            "3722/3722 [==============================] - 6s 2ms/step - loss: 0.0038 - accuracy: 0.9992\n",
            "Epoch 10/20\n",
            "3722/3722 [==============================] - 6s 2ms/step - loss: 0.0035 - accuracy: 0.9992\n",
            "Epoch 11/20\n",
            "3722/3722 [==============================] - 5s 1ms/step - loss: 0.0037 - accuracy: 0.9992\n",
            "Epoch 12/20\n",
            "3722/3722 [==============================] - 5s 1ms/step - loss: 0.0034 - accuracy: 0.9992\n",
            "Epoch 13/20\n",
            "3722/3722 [==============================] - 5s 1ms/step - loss: 0.0036 - accuracy: 0.9992\n",
            "Epoch 14/20\n",
            "3722/3722 [==============================] - 5s 1ms/step - loss: 0.0034 - accuracy: 0.9993\n",
            "Epoch 15/20\n",
            "3722/3722 [==============================] - 5s 1ms/step - loss: 0.0035 - accuracy: 0.9992\n",
            "Epoch 16/20\n",
            "3722/3722 [==============================] - 5s 1ms/step - loss: 0.0035 - accuracy: 0.9992\n",
            "Epoch 17/20\n",
            "3722/3722 [==============================] - 5s 1ms/step - loss: 0.0034 - accuracy: 0.9992\n",
            "Epoch 18/20\n",
            "3722/3722 [==============================] - 5s 1ms/step - loss: 0.0032 - accuracy: 0.9993\n",
            "Epoch 19/20\n",
            "3722/3722 [==============================] - 5s 1ms/step - loss: 0.0033 - accuracy: 0.9992\n",
            "Epoch 20/20\n",
            "3722/3722 [==============================] - 5s 1ms/step - loss: 0.0034 - accuracy: 0.9992\n"
          ],
          "name": "stdout"
        },
        {
          "output_type": "execute_result",
          "data": {
            "text/plain": [
              "<tensorflow.python.keras.callbacks.History at 0x7f0a2746c6d8>"
            ]
          },
          "metadata": {
            "tags": []
          },
          "execution_count": 152
        }
      ]
    },
    {
      "cell_type": "code",
      "metadata": {
        "id": "gZG0PIYjdVRZ"
      },
      "source": [
        "# Predicting the Test set results\n",
        "Y_predicted= classifier.predict(X_test)"
      ],
      "execution_count": 153,
      "outputs": []
    },
    {
      "cell_type": "code",
      "metadata": {
        "id": "_ofqcwYVeFFX",
        "outputId": "38125c5f-7202-4659-eb48-e9b40305bc4e",
        "colab": {
          "base_uri": "https://localhost:8080/"
        }
      },
      "source": [
        "Y_predicted[5]"
      ],
      "execution_count": 154,
      "outputs": [
        {
          "output_type": "execute_result",
          "data": {
            "text/plain": [
              "array([0.00010026], dtype=float32)"
            ]
          },
          "metadata": {
            "tags": []
          },
          "execution_count": 154
        }
      ]
    },
    {
      "cell_type": "code",
      "metadata": {
        "id": "6FMPFi4zeVX8"
      },
      "source": [
        "Y_predicted = (Y_predicted > 0.5)"
      ],
      "execution_count": 155,
      "outputs": []
    },
    {
      "cell_type": "code",
      "metadata": {
        "id": "TDuzII_2d_Sg",
        "outputId": "81e96293-3177-47ba-cc35-aa94704f3262",
        "colab": {
          "base_uri": "https://localhost:8080/"
        }
      },
      "source": [
        "from sklearn.metrics import confusion_matrix,accuracy_score,classification_report\n",
        "\n",
        "cfm=confusion_matrix(Y_test,Y_predicted)\n",
        "print(cfm)\n",
        "\n",
        "print('Classification report:')\n",
        "\n",
        "print(classification_report(Y_test,Y_predicted))\n",
        "\n",
        "acc=accuracy_score(Y_test,Y_predicted)\n",
        "print('Accuracy of model is:',acc)"
      ],
      "execution_count": 156,
      "outputs": [
        {
          "output_type": "stream",
          "text": [
            "[[256630      4]\n",
            " [    12    299]]\n",
            "Classification report:\n",
            "              precision    recall  f1-score   support\n",
            "\n",
            "           0       1.00      1.00      1.00    256634\n",
            "           1       0.99      0.96      0.97       311\n",
            "\n",
            "    accuracy                           1.00    256945\n",
            "   macro avg       0.99      0.98      0.99    256945\n",
            "weighted avg       1.00      1.00      1.00    256945\n",
            "\n",
            "Accuracy of model is: 0.9999377298643679\n"
          ],
          "name": "stdout"
        }
      ]
    }
  ]
}